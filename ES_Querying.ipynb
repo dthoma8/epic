{
 "cells": [
  {
   "cell_type": "markdown",
   "metadata": {},
   "source": [
    "# ES_Querying"
   ]
  },
  {
   "cell_type": "code",
   "execution_count": 10,
   "metadata": {},
   "outputs": [],
   "source": [
    "import json, time, os\n",
    "import pandas as pd\n",
    "import numpy as np\n",
    "from elasticsearch import Elasticsearch"
   ]
  },
  {
   "cell_type": "markdown",
   "metadata": {},
   "source": [
    "### Query"
   ]
  },
  {
   "cell_type": "code",
   "execution_count": 11,
   "metadata": {},
   "outputs": [
    {
     "data": {
      "text/plain": [
       "{'acknowledged': True, 'shards_acknowledged': True}"
      ]
     },
     "execution_count": 11,
     "metadata": {},
     "output_type": "execute_result"
    }
   ],
   "source": [
    "es = Elasticsearch([{'host': 'localhost', 'port': 9200}])\n",
    "es.indices.open(index='corpus_one_doc')"
   ]
  },
  {
   "cell_type": "code",
   "execution_count": 37,
   "metadata": {},
   "outputs": [],
   "source": [
    "## Define search query \n",
    "search_term = 'bannon'\n",
    "search_object = {'query': {'match': {'content': search_term}}}\n",
    "\n",
    "## Applying query term to indexed ES corpus\n",
    "sch_obj = es.search(index=\"corpus_one_doc\", body=search_object, size=10000) #Increase returns with size parameter, default 10"
   ]
  },
  {
   "cell_type": "code",
   "execution_count": 38,
   "metadata": {},
   "outputs": [],
   "source": [
    "## Grabbing the list containing queries \n",
    "hits = sch_obj['hits']['hits']\n",
    "#hits"
   ]
  },
  {
   "cell_type": "code",
   "execution_count": 39,
   "metadata": {
    "collapsed": true
   },
   "outputs": [
    {
     "data": {
      "text/plain": [
       "{'_index': 'corpus_one_doc',\n",
       " '_type': '_doc',\n",
       " '_id': '144290',\n",
       " '_score': 7.608578,\n",
       " '_source': {'id': 66321,\n",
       "  'title': 'War breaks out between the Steve Bannon and Jared Kushner factions in the White House',\n",
       "  'publication': 'Business Insider',\n",
       "  'author': 'Pamela Engel',\n",
       "  'date': 1491523200000,\n",
       "  'content': '’  ’ ”   As White House Chief Strategist Steve Bannon  tensions between him and senior adviser Jared   Kushner, President Donald Trump’s    burst into the   open. ” ’   Several reports in recent days have detailed the brewing   conflict.  Thursday that Bannon   had called Kushner a ”cuck” behind his back. ’ ’   Bannon also told his associates, ”I love a gunfight,” according   to  which said that ”the hatred between the two   wings” in the White House was ”intense and irreconcilable.” ’ ”   The stories of  in the White House started rolling   out in earnest this week after the White House announced Trump   was  and that Bannon would no longer be on   it. In January, Trump  that removed some of the   nation’s top military and intelligence advisers as regular   attendees of the NSC’s principals committee and elevated Bannon. ” ’   Bannon quickly went into   mode, with his allies   selling the NSC demotion as a ”natural evolution” rather than a   sign of his waning influence, . ’ ’’ ’   The Times also reported that despite his efforts to play it cool   with the media, Bannon resisted his removal from the NSC and at   one point threatened to quit over it. Axios reported, however,   that Bannon had been telling associates that such stories were   ”100% nonsense.” ’ ’   In any case, tensions clearly are running high. ’ ’   The civil war might not have started with the decision to remove   Bannon from the NSC  —    that it started with the failed   effort by Republicans to pass a   bill  —   but now   that the narrative about Bannon has shifted to one of him losing   power, the infighting has become more public. ’ ’   The Daily Beast reported that fighting had been nonstop between   Bannon and Kushner for weeks and that the two often clashed     . One official told the news outlet that Bannon said   Kushner was trying to ”shiv him and push him out the door.” They   said Bannon recently vented about Kushner ”being a ’’globalist’’   and a ’’cuck. ’’” ’ ’   ”He actually said ’’cuck,’’ as in ’’cuckservative,’’” they said. ’ ’   A senior official told The Daily Beast the friction between the   Bannon and Kushner camps boiled down to policy. They said there   was tension ”on trade, health care, immigration, taxes,   [terrorism]  —   you name it.” ’ ’   Bannon is frequently described as a populist and a nationalist,   and Trump embraced some of these sentiments on the campaign trail   as he appealed to voters with an ”America First” message.   Kushner, the husband of Trump’’s daughter Ivanka, is seen as a   more moderating force on Trump. ’ ’ that Bannon’’s removal from the NSC signaled a   power shift in the White House and Trump moving away ”from the   more   ideological bent of Bannon.” And sources  that Bannon felt as though Kushner and his   allies were trying to undermine his populist approach. ’ ’   A person familiar with Bannon’’s thinking told Politico that the   ”big fight is between nationalists and the West Wing Democrats.” ’ ”   It seems that, for now, the latter wing is coming out on top. As   Bannon is marginalized, Kushner’s star is rising. ” ’   Kushner recently  and has found allies in   Gary Cohn, the National Economic Council director, and Dina   Powell, the deputy national security adviser for strategy, who   have become more influential. ’ ’   Bannon can count Attorney General Jeff Sessions, policy adviser   Stephen Miller, and presidential counselor Kellyanne Conway among   his allies, according to Axios. But Trump has been known to keep   his family close, and that would include Kushner. ’ ’   Trump might also have political reasons to reign in Bannon. Media   outlets have reported that Trump has been annoyed with the credit   Bannon has received for the Trump administration’’s agenda,   illustrated by a ”Saturday Night Live” skit portraying Bannon as   a puppet master. ’ ’   The fighting between Bannon and Kushner has had a     effect, . ’ ’   ”As we get further away from Inauguration Day, it is very obvious   that no one cares what happens to the people who worked for the   campaign or who have loyalty to the president,” one former Trump   campaign aide told Politico. ”The swamp is winning the battle.   And longtime campaign staffers are proving to be the first   casualties.” ’ ’As White House Chief Strategist Steve Bannon. ..’ ’’ ’’ ’’'}}"
      ]
     },
     "execution_count": 39,
     "metadata": {},
     "output_type": "execute_result"
    }
   ],
   "source": [
    "hits[0]"
   ]
  },
  {
   "cell_type": "code",
   "execution_count": 40,
   "metadata": {},
   "outputs": [],
   "source": [
    "## Fetching hits' texts, publications, dates\n",
    "\n",
    "documents = [text['_source']['content'] for text in hits]\n",
    "publications = [ text['_source']['publication'] for text in hits]\n",
    "dates = [text['_source']['date'] for text in hits]"
   ]
  },
  {
   "cell_type": "code",
   "execution_count": 41,
   "metadata": {},
   "outputs": [],
   "source": [
    "## Organize into df\n",
    "\n",
    "data = pd.DataFrame()\n",
    "\n",
    "data['documents'] = documents\n",
    "data['publications'] = publications\n",
    "data['dates'] = dates"
   ]
  },
  {
   "cell_type": "code",
   "execution_count": 42,
   "metadata": {},
   "outputs": [
    {
     "name": "stdout",
     "output_type": "stream",
     "text": [
      "<class 'pandas.core.frame.DataFrame'>\n",
      "RangeIndex: 1333 entries, 0 to 1332\n",
      "Data columns (total 3 columns):\n",
      "documents       1333 non-null object\n",
      "publications    1333 non-null object\n",
      "dates           1333 non-null int64\n",
      "dtypes: int64(1), object(2)\n",
      "memory usage: 31.3+ KB\n"
     ]
    }
   ],
   "source": [
    "data.info()"
   ]
  },
  {
   "cell_type": "markdown",
   "metadata": {},
   "source": [
    "## Sentiment Analysis"
   ]
  },
  {
   "cell_type": "code",
   "execution_count": null,
   "metadata": {},
   "outputs": [],
   "source": [
    "def get_sentence_sentiments(sentences, method = 'ML'):\n",
    "       \n",
    "    \"\"\"\n",
    "    Description: Calculate average sentiments for a list of sentences\n",
    "    Parameters: \n",
    "        doc: Sentences (list)\n",
    "        method: Method to calculate sentiments \n",
    "    Returns: Average score tuple for list of sentences (tuple)\n",
    "    \"\"\"\n",
    "    \n",
    "    if method == 'ML':\n",
    "        \n",
    "        \n",
    "        \n",
    "    elif mehtod == 'lexical':\n",
    "        \n",
    "    return 0\n",
    "         "
   ]
  },
  {
   "cell_type": "code",
   "execution_count": 56,
   "metadata": {},
   "outputs": [],
   "source": [
    "def get_entity_sentences(doc, entity):\n",
    "    \n",
    "    \"\"\"\n",
    "    Description: Fetch sentences with entities\n",
    "    Parameters: \n",
    "        doc: Document (str)\n",
    "    Returns: List of sentences containing specificied entity (list)\n",
    "    \"\"\"\n",
    "\n",
    "    sentences = [sent.string.strip() for sent in nlp(doc).sents]\n",
    "    entity_sentences = [s for s in sentences if entity in s.lower()]        \n",
    "    #entity_sentences = [item for sublist in sentences_brexit for item in sublist]\n",
    "    \n",
    "    return entity_sentences"
   ]
  },
  {
   "cell_type": "markdown",
   "metadata": {},
   "source": [
    "## Exploration"
   ]
  },
  {
   "cell_type": "markdown",
   "metadata": {},
   "source": [
    "### Vader\n",
    "Article level sentiment analysis using lexical model"
   ]
  },
  {
   "cell_type": "code",
   "execution_count": 7,
   "metadata": {},
   "outputs": [],
   "source": [
    "from vaderSentiment.vaderSentiment import SentimentIntensityAnalyzer "
   ]
  },
  {
   "cell_type": "code",
   "execution_count": null,
   "metadata": {},
   "outputs": [],
   "source": [
    "## Initialize Vader analyser\n",
    "analyser = SentimentIntensityAnalyzer()\n",
    "\n",
    "positive, negative, neutral, compound = ([] for i in range(4))\n",
    "\n",
    "## Calculate sentiment scores for each text\n",
    "for number, i in enumerate(texts):\n",
    "    \n",
    "    score = analyser.polarity_scores(i)\n",
    "    \n",
    "    positive.append(score['pos'])\n",
    "    neutral.append(score['neu'])\n",
    "    negative.append(score['neg'])\n",
    "    compound.append(score['compound'])"
   ]
  },
  {
   "cell_type": "code",
   "execution_count": null,
   "metadata": {},
   "outputs": [],
   "source": [
    "data['sent_comp'] = compound\n",
    "data['sent_pos'] = positive\n",
    "data['sent_neg'] = negative\n",
    "data['sent_neu'] = neutral"
   ]
  },
  {
   "cell_type": "code",
   "execution_count": null,
   "metadata": {},
   "outputs": [],
   "source": [
    "data.publications.value_counts()"
   ]
  },
  {
   "cell_type": "code",
   "execution_count": null,
   "metadata": {},
   "outputs": [],
   "source": [
    "breitbart_score = data[data.publications == 'Breitbart'].sent_pos.sum()\n",
    "national_score = data[data.publications == 'National Review'].sent_pos.sum()\n",
    "fox_score = data[data.publications == 'Fox News'].sent_pos.sum()\n",
    "\n",
    "cnn_score = data[data.publications == 'CNN'].sent_pos.sum()\n",
    "npr_score = data[data.publications == 'NPR'].sent_pos.sum()\n",
    "nyt_score = data[data.publications == 'New York Times'].sent_pos.sum()\n",
    "\n",
    "print(\"Positive right-wing scores: \\n\",\n",
    "      \"Breitbart score: \", breitbart_score, \"\\n\",\n",
    "      \"Fox News Score: \", fox_score, \"\\n\",\n",
    "      \"National Review Score: \", national_score)\n",
    "\n",
    "print(\"\\nPositive left-wing scores: \\n\",\n",
    "      \"CNN score: \", cnn_score, \"\\n\",\n",
    "      \"NPR News Score: \", npr_score, \"\\n\",\n",
    "      \"NYT: \", nyt_score)"
   ]
  },
  {
   "cell_type": "markdown",
   "metadata": {},
   "source": [
    "### ML Approach"
   ]
  },
  {
   "cell_type": "markdown",
   "metadata": {},
   "source": [
    "Pseudocode\n",
    "\n",
    "    - Get sentences with relevant entity\n",
    "    - Use spacy dependecy parser to figure our phrases/sentences that refer to our entity\n",
    "    - Run sentiment analysis on these phrases, calculate list of sentiments for the entity per document\n",
    "    - Average the sentiment scores for that document\n"
   ]
  },
  {
   "cell_type": "code",
   "execution_count": 76,
   "metadata": {},
   "outputs": [],
   "source": [
    "import spacy\n",
    "import en_core_web_sm\n",
    "\n",
    "nlp = en_core_web_sm.load()"
   ]
  },
  {
   "cell_type": "code",
   "execution_count": 120,
   "metadata": {},
   "outputs": [
    {
     "data": {
      "text/plain": [
       "'WASHINGTON  —   For the first 10 weeks of President Trump’s administration, no adviser loomed larger in the public imagination than Stephen K. Bannon, the raw and rumpled former chairman of Breitbart News who considers himself a “virulently  ” revolutionary out to destroy the “administrative state. ” But behind the scenes, White House officials said, the ideologist who enjoyed the president’s confidence became increasingly embattled as other advisers, including Mr. Trump’s daughter and    complained about setbacks on health care and immigration. Lately, Mr. Bannon has been conspicuously absent from some meetings. And now he has lost his seat at the national security table. In a move that was widely seen as a sign of changing fortunes, Mr. Trump removed Mr. Bannon, his chief strategist, from the National Security Council’s   “principals committee” on Wednesday. The shift was orchestrated by Lt. Gen. H. R. McMaster, Mr. Trump’s national security adviser, who insisted on purging a political adviser from the Situation Room where decisions about war and peace are made. Mr. Bannon resisted the move, even threatening at one point to quit if it went forward, according to a White House official who, like others, insisted on anonymity to discuss internal deliberations. Mr. Bannon’s camp denied that he had threatened to resign and spent the day spreading the word that the shift was a natural evolution, not a signal of any diminution of his outsize influence. His allies said privately that Mr. Bannon had been put on the principals committee to keep an eye on Mr. Trump’s first national security adviser, Michael T. Flynn, a retired   general who lasted just 24 days before being forced out for misleading Vice President Mike Pence and other White House officials about what he had discussed with Russia’s ambassador. With Mr. Flynn gone, these allies said, there was no need for Mr. Bannon to remain, but they noted that he had kept his security clearance. “Susan Rice operationalized the N. S. C. during the last administration,” Mr. Bannon said in a statement, referring to President Barack Obama’s national security adviser. “I was put on the N. S. C. with General Flynn to ensure that it was  . General McMaster has returned the N. S. C. to its proper function. ” Mr. Bannon did not explain what he meant by “operationalized” or how his presence on the committee had ensured it would not be. It was one more drama in a White House consumed by palace intrigue, where officials jockey for the ear of the president, angle for authority and seek to place blame for political defeats. Even as Mr. Bannon lost a national security credential, Jared Kushner, the president’s    and senior adviser, seems to be acting as a shadow secretary of state, visiting Iraq and taking on China, Mexico and Middle East portfolios. Mr. Bannon’s many enemies, inside and outside the White House, celebrated what they saw as a defeat for his brand of fiery, nationalist politics. “He didn’t belong on the principals committee to begin with  —   doesn’t really belong in the White House at all,” said Representative Adam B. Schiff of California, the ranking Democrat on the House Intelligence Committee. “I hope that this is a sign that McMaster is taking control of the National Security Council. ” Karl Rove  —   who, as senior adviser to President George W. Bush, was not allowed to join national security meetings  —   said it was a move back to a better process. “It was wrong for him to be added in the first place, and it was right to take him off,” he said. Even if Mr. Bannon really was removed only because there was no longer a need for someone to mind Mr. Flynn, Mr. Rove added, the end result was a victory for General McMaster. “It’s either a sign of McMaster’s strength, or the result is it strengthens McMaster,” he said. Still, Mr. Bannon, who has been under attack from outside the administration since the early days of the transition, is a crafty survivor, and insiders warned that it would be a mistake to underestimate him. When General McMaster wanted to fire a staff member, Ezra   Mr. Bannon intervened to save his job. Mr.   had alerted colleagues that Mr. Trump’s associates had been caught up in surveillance of foreigners, information then shown by another White House official to Representative Devin Nunes, Republican of California and chairman of the House Intelligence Committee, which is investigating Russian meddling in last year’s election. James Jeffrey, a deputy national security adviser to Mr. Bush, said General McMaster appeared to have “scored one on the presumably more powerful Bannon,” but cautioned against reading too much into what it meant for Mr. Bannon. “He seems to be very close to the president and, by most accounts, still wins many of his battles,” Mr. Jeffrey said. From the start, General McMaster intended to revamp the National Security Council organization that he inherited from Mr. Flynn. The principals committee, which is led by the national security adviser and includes the vice president, secretary of state, defense secretary and others, is the primary   body deciding questions that do not rise to the level of the president and framing those that do. The initial structure approved by Mr. Trump not only gave Mr. Bannon formal membership on the committee, but also downgraded the chairman of the Joint Chiefs of Staff and the director of national intelligence to occasional participants as issues demanded. In addition to removing Mr. Bannon, the new order issued by Mr. Trump, dated Tuesday and made public on Wednesday, restored the Joint Chiefs chairman and intelligence director and added the energy secretary, C. I. A. director and United Nations ambassador. It also put the Homeland Security Council under General McMaster rather than making it a separate entity, as Mr. Trump’s original order had done. Mr. Trump was angry over the fallout from his first order, feeling that he had not been properly warned about its implications. He briefly considered reversing it the same weekend it was announced, according to a person with direct knowledge, but decided against it for fear of creating more of a public storm. For the first two months of Mr. Trump’s presidency, Mr. Bannon occupied an unassailable perch at the president’s side  —   ramming through key elements of his eclectic and   populist agenda, including two executive orders on freezing immigration from several predominantly Muslim countries. Mr. Trump viewed Mr. Bannon as a   kindred spirit who favored his own    communications strategy. But blunders by Mr. Bannon’s team  —   especially the first immigration order, which was rejected by multiple courts  —   have undermined his position. His    style was not a winning strategy on Capitol Hill, and Mr. Bannon declined to take a significant part. Experienced politicians, including Mr. Pence and Mr. Trump’s budget director, Mick Mulvaney, stepped into more expansive roles as negotiations over the failed health care overhaul dragged on. Mr. Trump initially supported Mr. Bannon’s      final message to holdouts in the House Freedom Caucus. But, needing a win, the president grew skeptical and authorized Mr. Pence to resume health care talks, with Mr. Bannon playing more of a supporting role, according to three people close to Mr. Trump. Mr. Bannon has also been at odds with Gary Cohn, the president’s national economics adviser. Mr. Cohn is close with Mr. Kushner, who has said privately that he fears that Mr. Bannon plays to the president’s worst impulses, according to people with direct knowledge of such discussions. Moreover, Mr. Bannon’s   reputation has chafed on a president who sees himself as the West Wing’s only leading man. Several associates said the president had quietly expressed annoyance over the credit Mr. Bannon had received for setting the agenda  —   and Mr. Trump was not pleased by the “President Bannon”   theme promoted by magazines,   talk shows and Twitter. Yet there is a risk for Mr. Trump in appearing to minimize Mr. Bannon, a hero to the nationalist,   base that helped drive Mr. Trump to an Electoral College victory. With his approval ratings at historic lows for so early in a presidency, he is counting on the same people who see Mr. Bannon as their champion  —   just as Mr. Bannon is counting on Mr. Trump to retain his place in the White House inner circle.'"
      ]
     },
     "execution_count": 120,
     "metadata": {},
     "output_type": "execute_result"
    }
   ],
   "source": [
    "document = data['documents'][15]\n",
    "document"
   ]
  },
  {
   "cell_type": "code",
   "execution_count": 121,
   "metadata": {},
   "outputs": [
    {
     "data": {
      "text/plain": [
       "['For the first 10 weeks of President Trump’s administration, no adviser loomed larger in the public imagination than Stephen K. Bannon, the raw and rumpled former chairman of Breitbart News who considers himself a “virulently  ” revolutionary out to destroy the “administrative state.',\n",
       " 'Lately, Mr. Bannon has been conspicuously absent from some meetings.',\n",
       " 'In a move that was widely seen as a sign of changing fortunes, Mr. Trump removed Mr. Bannon, his chief strategist, from the National Security Council’s   “principals committee” on Wednesday.',\n",
       " 'Mr. Bannon resisted the move, even threatening at one point to quit if it went forward, according to a White House official who, like others, insisted on anonymity to discuss internal deliberations.',\n",
       " 'Mr. Bannon’s camp denied that he had threatened to resign and spent the day spreading the word that the shift was a natural evolution, not a signal of any diminution of his outsize influence.',\n",
       " 'His allies said privately that Mr. Bannon had been put on the principals committee to keep an eye on Mr. Trump’s first national security adviser, Michael T. Flynn, a retired   general who lasted just 24 days before being forced out for misleading Vice President Mike Pence and other White House officials about what he had discussed with Russia’s ambassador.',\n",
       " 'With Mr. Flynn gone, these allies said, there was no need for Mr. Bannon to remain, but they noted that he had kept his security clearance.',\n",
       " 'Susan Rice operationalized the N. S. C. during the last administration,” Mr. Bannon said in a statement, referring to President Barack Obama’s national security adviser.',\n",
       " '” Mr. Bannon did not explain what he meant by “operationalized” or how his presence on the committee had ensured it would not be.',\n",
       " 'Even as Mr. Bannon lost a national security credential, Jared Kushner, the president’s    and senior adviser, seems to be acting as a shadow secretary of state, visiting Iraq and taking on China, Mexico and Middle East portfolios.',\n",
       " 'Mr. Bannon’s many enemies, inside and outside the White House, celebrated what they saw as a defeat for his brand of fiery, nationalist politics.',\n",
       " 'Even if Mr. Bannon really was removed only because there was no longer a need for someone to mind Mr. Flynn, Mr. Rove added, the end result was a victory for General McMaster.',\n",
       " 'Still, Mr. Bannon, who has been under attack from outside the administration since the early days of the transition, is a crafty survivor, and insiders warned that it would be a mistake to underestimate him.',\n",
       " 'When General McMaster wanted to fire a staff member, Ezra   Mr. Bannon intervened to save his job.',\n",
       " 'James Jeffrey, a deputy national security adviser to Mr. Bush, said General McMaster appeared to have “scored one on the presumably more powerful Bannon,” but cautioned against reading too much into what it meant for Mr. Bannon.',\n",
       " 'The initial structure approved by Mr. Trump not only gave Mr. Bannon formal membership on the committee, but also downgraded the chairman of the Joint Chiefs of Staff and the director of national intelligence to occasional participants as issues demanded.',\n",
       " 'In addition to removing Mr. Bannon, the new order issued by Mr. Trump, dated Tuesday and made public on Wednesday, restored the Joint Chiefs chairman and intelligence director and added the energy secretary, C. I. A. director and United Nations ambassador.',\n",
       " 'For the first two months of Mr. Trump’s presidency, Mr. Bannon occupied an unassailable perch at the president',\n",
       " 'Mr. Trump viewed Mr. Bannon as a   kindred spirit who favored his own    communications strategy.',\n",
       " 'But blunders by Mr. Bannon’s team  —   especially the first immigration order, which was rejected by multiple courts',\n",
       " 'His    style was not a winning strategy on Capitol Hill, and Mr. Bannon declined to take a significant part.',\n",
       " 'Mr. Trump initially supported Mr. Bannon’s      final message to holdouts in the House Freedom Caucus.',\n",
       " 'But, needing a win, the president grew skeptical and authorized Mr. Pence to resume health care talks, with Mr. Bannon playing more of a supporting role, according to three people close to Mr. Trump.',\n",
       " 'Mr. Bannon has also been at odds with Gary Cohn, the president’s national economics adviser.',\n",
       " 'Mr. Cohn is close with Mr. Kushner, who has said privately that he fears that Mr. Bannon plays to the president’s worst impulses, according to people with direct knowledge of such discussions.',\n",
       " 'Moreover, Mr. Bannon’s   reputation has chafed on a president who sees himself as the West Wing’s only leading man.',\n",
       " 'Several associates said the president had quietly expressed annoyance over the credit Mr. Bannon had received for setting the agenda',\n",
       " '—   and Mr. Trump was not pleased by the “President Bannon”   theme promoted by magazines,',\n",
       " 'Yet there is a risk for Mr. Trump in appearing to minimize Mr. Bannon, a hero to the nationalist,   base that helped drive Mr. Trump to an Electoral College victory.',\n",
       " 'With his approval ratings at historic lows for so early in a presidency, he is counting on the same people who see Mr. Bannon as their champion  —   just as Mr. Bannon is counting on Mr. Trump to retain his place in the White House inner circle.']"
      ]
     },
     "execution_count": 121,
     "metadata": {},
     "output_type": "execute_result"
    }
   ],
   "source": [
    "entity_sentences = get_entity_sentences(document, search_term)\n",
    "entity_sentences"
   ]
  },
  {
   "cell_type": "code",
   "execution_count": 122,
   "metadata": {},
   "outputs": [
    {
     "data": {
      "text/plain": [
       "'For the first 10 weeks of President Trump’s administration, no adviser loomed larger in the public imagination than Stephen K. Bannon, the raw and rumpled former chairman of Breitbart News who considers himself a “virulently  ” revolutionary out to destroy the “administrative state.'"
      ]
     },
     "execution_count": 122,
     "metadata": {},
     "output_type": "execute_result"
    }
   ],
   "source": [
    "#example = entity_sentences[6]\n",
    "example = 'For the first 10 weeks of President Trump’s administration, no adviser loomed larger in the public imagination than Stephen K. Bannon, the raw and rumpled former chairman of Breitbart News who considers himself a “virulently  ” revolutionary out to destroy the “administrative state.'\n",
    "example"
   ]
  },
  {
   "cell_type": "code",
   "execution_count": 123,
   "metadata": {},
   "outputs": [
    {
     "data": {
      "text/plain": [
       "Sentiment(polarity=-0.030128205128205132, subjectivity=0.22692307692307692)"
      ]
     },
     "execution_count": 123,
     "metadata": {},
     "output_type": "execute_result"
    }
   ],
   "source": [
    "## Textblob example\n",
    "\n",
    "from textblob import TextBlob\n",
    "\n",
    "TextBlob(example).sentiment"
   ]
  },
  {
   "cell_type": "code",
   "execution_count": 124,
   "metadata": {},
   "outputs": [
    {
     "name": "stdout",
     "output_type": "stream",
     "text": [
      "Positive:  0.0 \n",
      "Negative:  0.17 \n",
      "Neutral:  0.83\n"
     ]
    }
   ],
   "source": [
    "from vaderSentiment.vaderSentiment import SentimentIntensityAnalyzer \n",
    "\n",
    "analyser = SentimentIntensityAnalyzer()\n",
    "\n",
    "score = analyser.polarity_scores(example)\n",
    "\n",
    "positive = score['pos']\n",
    "neutral = score['neu']\n",
    "negative = score['neg']\n",
    "\n",
    "print('Positive: ', positive, \"\\nNegative: \", negative, \"\\nNeutral: \", neutral)"
   ]
  },
  {
   "cell_type": "markdown",
   "metadata": {},
   "source": [
    "## Dependency Tree Visualizations"
   ]
  },
  {
   "cell_type": "code",
   "execution_count": 59,
   "metadata": {
    "collapsed": true
   },
   "outputs": [
    {
     "data": {
      "text/html": [
       "<svg xmlns=\"http://www.w3.org/2000/svg\" xmlns:xlink=\"http://www.w3.org/1999/xlink\" xml:lang=\"en\" id=\"3de5ef107c16450aa905b159f5beef1f-0\" class=\"displacy\" width=\"3550\" height=\"574.5\" direction=\"ltr\" style=\"max-width: none; height: 574.5px; color: #000000; background: #ffffff; font-family: Arial; direction: ltr\">\n",
       "<text class=\"displacy-token\" fill=\"currentColor\" text-anchor=\"middle\" y=\"484.5\">\n",
       "    <tspan class=\"displacy-word\" fill=\"currentColor\" x=\"50\">A</tspan>\n",
       "    <tspan class=\"displacy-tag\" dy=\"2em\" fill=\"currentColor\" x=\"50\">DET</tspan>\n",
       "</text>\n",
       "\n",
       "<text class=\"displacy-token\" fill=\"currentColor\" text-anchor=\"middle\" y=\"484.5\">\n",
       "    <tspan class=\"displacy-word\" fill=\"currentColor\" x=\"225\">senior</tspan>\n",
       "    <tspan class=\"displacy-tag\" dy=\"2em\" fill=\"currentColor\" x=\"225\">ADJ</tspan>\n",
       "</text>\n",
       "\n",
       "<text class=\"displacy-token\" fill=\"currentColor\" text-anchor=\"middle\" y=\"484.5\">\n",
       "    <tspan class=\"displacy-word\" fill=\"currentColor\" x=\"400\">official</tspan>\n",
       "    <tspan class=\"displacy-tag\" dy=\"2em\" fill=\"currentColor\" x=\"400\">NOUN</tspan>\n",
       "</text>\n",
       "\n",
       "<text class=\"displacy-token\" fill=\"currentColor\" text-anchor=\"middle\" y=\"484.5\">\n",
       "    <tspan class=\"displacy-word\" fill=\"currentColor\" x=\"575\">told</tspan>\n",
       "    <tspan class=\"displacy-tag\" dy=\"2em\" fill=\"currentColor\" x=\"575\">VERB</tspan>\n",
       "</text>\n",
       "\n",
       "<text class=\"displacy-token\" fill=\"currentColor\" text-anchor=\"middle\" y=\"484.5\">\n",
       "    <tspan class=\"displacy-word\" fill=\"currentColor\" x=\"750\">The</tspan>\n",
       "    <tspan class=\"displacy-tag\" dy=\"2em\" fill=\"currentColor\" x=\"750\">DET</tspan>\n",
       "</text>\n",
       "\n",
       "<text class=\"displacy-token\" fill=\"currentColor\" text-anchor=\"middle\" y=\"484.5\">\n",
       "    <tspan class=\"displacy-word\" fill=\"currentColor\" x=\"925\">Daily</tspan>\n",
       "    <tspan class=\"displacy-tag\" dy=\"2em\" fill=\"currentColor\" x=\"925\">PROPN</tspan>\n",
       "</text>\n",
       "\n",
       "<text class=\"displacy-token\" fill=\"currentColor\" text-anchor=\"middle\" y=\"484.5\">\n",
       "    <tspan class=\"displacy-word\" fill=\"currentColor\" x=\"1100\">Beast</tspan>\n",
       "    <tspan class=\"displacy-tag\" dy=\"2em\" fill=\"currentColor\" x=\"1100\">PROPN</tspan>\n",
       "</text>\n",
       "\n",
       "<text class=\"displacy-token\" fill=\"currentColor\" text-anchor=\"middle\" y=\"484.5\">\n",
       "    <tspan class=\"displacy-word\" fill=\"currentColor\" x=\"1275\">the</tspan>\n",
       "    <tspan class=\"displacy-tag\" dy=\"2em\" fill=\"currentColor\" x=\"1275\">DET</tspan>\n",
       "</text>\n",
       "\n",
       "<text class=\"displacy-token\" fill=\"currentColor\" text-anchor=\"middle\" y=\"484.5\">\n",
       "    <tspan class=\"displacy-word\" fill=\"currentColor\" x=\"1450\">friction</tspan>\n",
       "    <tspan class=\"displacy-tag\" dy=\"2em\" fill=\"currentColor\" x=\"1450\">NOUN</tspan>\n",
       "</text>\n",
       "\n",
       "<text class=\"displacy-token\" fill=\"currentColor\" text-anchor=\"middle\" y=\"484.5\">\n",
       "    <tspan class=\"displacy-word\" fill=\"currentColor\" x=\"1625\">between</tspan>\n",
       "    <tspan class=\"displacy-tag\" dy=\"2em\" fill=\"currentColor\" x=\"1625\">ADP</tspan>\n",
       "</text>\n",
       "\n",
       "<text class=\"displacy-token\" fill=\"currentColor\" text-anchor=\"middle\" y=\"484.5\">\n",
       "    <tspan class=\"displacy-word\" fill=\"currentColor\" x=\"1800\">the</tspan>\n",
       "    <tspan class=\"displacy-tag\" dy=\"2em\" fill=\"currentColor\" x=\"1800\">DET</tspan>\n",
       "</text>\n",
       "\n",
       "<text class=\"displacy-token\" fill=\"currentColor\" text-anchor=\"middle\" y=\"484.5\">\n",
       "    <tspan class=\"displacy-word\" fill=\"currentColor\" x=\"1975\">  </tspan>\n",
       "    <tspan class=\"displacy-tag\" dy=\"2em\" fill=\"currentColor\" x=\"1975\">SPACE</tspan>\n",
       "</text>\n",
       "\n",
       "<text class=\"displacy-token\" fill=\"currentColor\" text-anchor=\"middle\" y=\"484.5\">\n",
       "    <tspan class=\"displacy-word\" fill=\"currentColor\" x=\"2150\">Bannon</tspan>\n",
       "    <tspan class=\"displacy-tag\" dy=\"2em\" fill=\"currentColor\" x=\"2150\">PROPN</tspan>\n",
       "</text>\n",
       "\n",
       "<text class=\"displacy-token\" fill=\"currentColor\" text-anchor=\"middle\" y=\"484.5\">\n",
       "    <tspan class=\"displacy-word\" fill=\"currentColor\" x=\"2325\">and</tspan>\n",
       "    <tspan class=\"displacy-tag\" dy=\"2em\" fill=\"currentColor\" x=\"2325\">CCONJ</tspan>\n",
       "</text>\n",
       "\n",
       "<text class=\"displacy-token\" fill=\"currentColor\" text-anchor=\"middle\" y=\"484.5\">\n",
       "    <tspan class=\"displacy-word\" fill=\"currentColor\" x=\"2500\">Kushner</tspan>\n",
       "    <tspan class=\"displacy-tag\" dy=\"2em\" fill=\"currentColor\" x=\"2500\">PROPN</tspan>\n",
       "</text>\n",
       "\n",
       "<text class=\"displacy-token\" fill=\"currentColor\" text-anchor=\"middle\" y=\"484.5\">\n",
       "    <tspan class=\"displacy-word\" fill=\"currentColor\" x=\"2675\">camps</tspan>\n",
       "    <tspan class=\"displacy-tag\" dy=\"2em\" fill=\"currentColor\" x=\"2675\">NOUN</tspan>\n",
       "</text>\n",
       "\n",
       "<text class=\"displacy-token\" fill=\"currentColor\" text-anchor=\"middle\" y=\"484.5\">\n",
       "    <tspan class=\"displacy-word\" fill=\"currentColor\" x=\"2850\">boiled</tspan>\n",
       "    <tspan class=\"displacy-tag\" dy=\"2em\" fill=\"currentColor\" x=\"2850\">VERB</tspan>\n",
       "</text>\n",
       "\n",
       "<text class=\"displacy-token\" fill=\"currentColor\" text-anchor=\"middle\" y=\"484.5\">\n",
       "    <tspan class=\"displacy-word\" fill=\"currentColor\" x=\"3025\">down</tspan>\n",
       "    <tspan class=\"displacy-tag\" dy=\"2em\" fill=\"currentColor\" x=\"3025\">PART</tspan>\n",
       "</text>\n",
       "\n",
       "<text class=\"displacy-token\" fill=\"currentColor\" text-anchor=\"middle\" y=\"484.5\">\n",
       "    <tspan class=\"displacy-word\" fill=\"currentColor\" x=\"3200\">to</tspan>\n",
       "    <tspan class=\"displacy-tag\" dy=\"2em\" fill=\"currentColor\" x=\"3200\">ADP</tspan>\n",
       "</text>\n",
       "\n",
       "<text class=\"displacy-token\" fill=\"currentColor\" text-anchor=\"middle\" y=\"484.5\">\n",
       "    <tspan class=\"displacy-word\" fill=\"currentColor\" x=\"3375\">policy.</tspan>\n",
       "    <tspan class=\"displacy-tag\" dy=\"2em\" fill=\"currentColor\" x=\"3375\">NOUN</tspan>\n",
       "</text>\n",
       "\n",
       "<g class=\"displacy-arrow\">\n",
       "    <path class=\"displacy-arc\" id=\"arrow-3de5ef107c16450aa905b159f5beef1f-0-0\" stroke-width=\"2px\" d=\"M70,439.5 C70,264.5 385.0,264.5 385.0,439.5\" fill=\"none\" stroke=\"currentColor\"/>\n",
       "    <text dy=\"1.25em\" style=\"font-size: 0.8em; letter-spacing: 1px\">\n",
       "        <textPath xlink:href=\"#arrow-3de5ef107c16450aa905b159f5beef1f-0-0\" class=\"displacy-label\" startOffset=\"50%\" side=\"left\" fill=\"currentColor\" text-anchor=\"middle\">det</textPath>\n",
       "    </text>\n",
       "    <path class=\"displacy-arrowhead\" d=\"M70,441.5 L62,429.5 78,429.5\" fill=\"currentColor\"/>\n",
       "</g>\n",
       "\n",
       "<g class=\"displacy-arrow\">\n",
       "    <path class=\"displacy-arc\" id=\"arrow-3de5ef107c16450aa905b159f5beef1f-0-1\" stroke-width=\"2px\" d=\"M245,439.5 C245,352.0 380.0,352.0 380.0,439.5\" fill=\"none\" stroke=\"currentColor\"/>\n",
       "    <text dy=\"1.25em\" style=\"font-size: 0.8em; letter-spacing: 1px\">\n",
       "        <textPath xlink:href=\"#arrow-3de5ef107c16450aa905b159f5beef1f-0-1\" class=\"displacy-label\" startOffset=\"50%\" side=\"left\" fill=\"currentColor\" text-anchor=\"middle\">amod</textPath>\n",
       "    </text>\n",
       "    <path class=\"displacy-arrowhead\" d=\"M245,441.5 L237,429.5 253,429.5\" fill=\"currentColor\"/>\n",
       "</g>\n",
       "\n",
       "<g class=\"displacy-arrow\">\n",
       "    <path class=\"displacy-arc\" id=\"arrow-3de5ef107c16450aa905b159f5beef1f-0-2\" stroke-width=\"2px\" d=\"M420,439.5 C420,352.0 555.0,352.0 555.0,439.5\" fill=\"none\" stroke=\"currentColor\"/>\n",
       "    <text dy=\"1.25em\" style=\"font-size: 0.8em; letter-spacing: 1px\">\n",
       "        <textPath xlink:href=\"#arrow-3de5ef107c16450aa905b159f5beef1f-0-2\" class=\"displacy-label\" startOffset=\"50%\" side=\"left\" fill=\"currentColor\" text-anchor=\"middle\">nsubj</textPath>\n",
       "    </text>\n",
       "    <path class=\"displacy-arrowhead\" d=\"M420,441.5 L412,429.5 428,429.5\" fill=\"currentColor\"/>\n",
       "</g>\n",
       "\n",
       "<g class=\"displacy-arrow\">\n",
       "    <path class=\"displacy-arc\" id=\"arrow-3de5ef107c16450aa905b159f5beef1f-0-3\" stroke-width=\"2px\" d=\"M770,439.5 C770,264.5 1085.0,264.5 1085.0,439.5\" fill=\"none\" stroke=\"currentColor\"/>\n",
       "    <text dy=\"1.25em\" style=\"font-size: 0.8em; letter-spacing: 1px\">\n",
       "        <textPath xlink:href=\"#arrow-3de5ef107c16450aa905b159f5beef1f-0-3\" class=\"displacy-label\" startOffset=\"50%\" side=\"left\" fill=\"currentColor\" text-anchor=\"middle\">det</textPath>\n",
       "    </text>\n",
       "    <path class=\"displacy-arrowhead\" d=\"M770,441.5 L762,429.5 778,429.5\" fill=\"currentColor\"/>\n",
       "</g>\n",
       "\n",
       "<g class=\"displacy-arrow\">\n",
       "    <path class=\"displacy-arc\" id=\"arrow-3de5ef107c16450aa905b159f5beef1f-0-4\" stroke-width=\"2px\" d=\"M945,439.5 C945,352.0 1080.0,352.0 1080.0,439.5\" fill=\"none\" stroke=\"currentColor\"/>\n",
       "    <text dy=\"1.25em\" style=\"font-size: 0.8em; letter-spacing: 1px\">\n",
       "        <textPath xlink:href=\"#arrow-3de5ef107c16450aa905b159f5beef1f-0-4\" class=\"displacy-label\" startOffset=\"50%\" side=\"left\" fill=\"currentColor\" text-anchor=\"middle\">compound</textPath>\n",
       "    </text>\n",
       "    <path class=\"displacy-arrowhead\" d=\"M945,441.5 L937,429.5 953,429.5\" fill=\"currentColor\"/>\n",
       "</g>\n",
       "\n",
       "<g class=\"displacy-arrow\">\n",
       "    <path class=\"displacy-arc\" id=\"arrow-3de5ef107c16450aa905b159f5beef1f-0-5\" stroke-width=\"2px\" d=\"M595,439.5 C595,177.0 1090.0,177.0 1090.0,439.5\" fill=\"none\" stroke=\"currentColor\"/>\n",
       "    <text dy=\"1.25em\" style=\"font-size: 0.8em; letter-spacing: 1px\">\n",
       "        <textPath xlink:href=\"#arrow-3de5ef107c16450aa905b159f5beef1f-0-5\" class=\"displacy-label\" startOffset=\"50%\" side=\"left\" fill=\"currentColor\" text-anchor=\"middle\">dative</textPath>\n",
       "    </text>\n",
       "    <path class=\"displacy-arrowhead\" d=\"M1090.0,441.5 L1098.0,429.5 1082.0,429.5\" fill=\"currentColor\"/>\n",
       "</g>\n",
       "\n",
       "<g class=\"displacy-arrow\">\n",
       "    <path class=\"displacy-arc\" id=\"arrow-3de5ef107c16450aa905b159f5beef1f-0-6\" stroke-width=\"2px\" d=\"M1295,439.5 C1295,352.0 1430.0,352.0 1430.0,439.5\" fill=\"none\" stroke=\"currentColor\"/>\n",
       "    <text dy=\"1.25em\" style=\"font-size: 0.8em; letter-spacing: 1px\">\n",
       "        <textPath xlink:href=\"#arrow-3de5ef107c16450aa905b159f5beef1f-0-6\" class=\"displacy-label\" startOffset=\"50%\" side=\"left\" fill=\"currentColor\" text-anchor=\"middle\">det</textPath>\n",
       "    </text>\n",
       "    <path class=\"displacy-arrowhead\" d=\"M1295,441.5 L1287,429.5 1303,429.5\" fill=\"currentColor\"/>\n",
       "</g>\n",
       "\n",
       "<g class=\"displacy-arrow\">\n",
       "    <path class=\"displacy-arc\" id=\"arrow-3de5ef107c16450aa905b159f5beef1f-0-7\" stroke-width=\"2px\" d=\"M595,439.5 C595,89.5 1445.0,89.5 1445.0,439.5\" fill=\"none\" stroke=\"currentColor\"/>\n",
       "    <text dy=\"1.25em\" style=\"font-size: 0.8em; letter-spacing: 1px\">\n",
       "        <textPath xlink:href=\"#arrow-3de5ef107c16450aa905b159f5beef1f-0-7\" class=\"displacy-label\" startOffset=\"50%\" side=\"left\" fill=\"currentColor\" text-anchor=\"middle\">dobj</textPath>\n",
       "    </text>\n",
       "    <path class=\"displacy-arrowhead\" d=\"M1445.0,441.5 L1453.0,429.5 1437.0,429.5\" fill=\"currentColor\"/>\n",
       "</g>\n",
       "\n",
       "<g class=\"displacy-arrow\">\n",
       "    <path class=\"displacy-arc\" id=\"arrow-3de5ef107c16450aa905b159f5beef1f-0-8\" stroke-width=\"2px\" d=\"M1470,439.5 C1470,352.0 1605.0,352.0 1605.0,439.5\" fill=\"none\" stroke=\"currentColor\"/>\n",
       "    <text dy=\"1.25em\" style=\"font-size: 0.8em; letter-spacing: 1px\">\n",
       "        <textPath xlink:href=\"#arrow-3de5ef107c16450aa905b159f5beef1f-0-8\" class=\"displacy-label\" startOffset=\"50%\" side=\"left\" fill=\"currentColor\" text-anchor=\"middle\">prep</textPath>\n",
       "    </text>\n",
       "    <path class=\"displacy-arrowhead\" d=\"M1605.0,441.5 L1613.0,429.5 1597.0,429.5\" fill=\"currentColor\"/>\n",
       "</g>\n",
       "\n",
       "<g class=\"displacy-arrow\">\n",
       "    <path class=\"displacy-arc\" id=\"arrow-3de5ef107c16450aa905b159f5beef1f-0-9\" stroke-width=\"2px\" d=\"M1820,439.5 C1820,89.5 2670.0,89.5 2670.0,439.5\" fill=\"none\" stroke=\"currentColor\"/>\n",
       "    <text dy=\"1.25em\" style=\"font-size: 0.8em; letter-spacing: 1px\">\n",
       "        <textPath xlink:href=\"#arrow-3de5ef107c16450aa905b159f5beef1f-0-9\" class=\"displacy-label\" startOffset=\"50%\" side=\"left\" fill=\"currentColor\" text-anchor=\"middle\">det</textPath>\n",
       "    </text>\n",
       "    <path class=\"displacy-arrowhead\" d=\"M1820,441.5 L1812,429.5 1828,429.5\" fill=\"currentColor\"/>\n",
       "</g>\n",
       "\n",
       "<g class=\"displacy-arrow\">\n",
       "    <path class=\"displacy-arc\" id=\"arrow-3de5ef107c16450aa905b159f5beef1f-0-10\" stroke-width=\"2px\" d=\"M1820,439.5 C1820,352.0 1955.0,352.0 1955.0,439.5\" fill=\"none\" stroke=\"currentColor\"/>\n",
       "    <text dy=\"1.25em\" style=\"font-size: 0.8em; letter-spacing: 1px\">\n",
       "        <textPath xlink:href=\"#arrow-3de5ef107c16450aa905b159f5beef1f-0-10\" class=\"displacy-label\" startOffset=\"50%\" side=\"left\" fill=\"currentColor\" text-anchor=\"middle\"></textPath>\n",
       "    </text>\n",
       "    <path class=\"displacy-arrowhead\" d=\"M1955.0,441.5 L1963.0,429.5 1947.0,429.5\" fill=\"currentColor\"/>\n",
       "</g>\n",
       "\n",
       "<g class=\"displacy-arrow\">\n",
       "    <path class=\"displacy-arc\" id=\"arrow-3de5ef107c16450aa905b159f5beef1f-0-11\" stroke-width=\"2px\" d=\"M2170,439.5 C2170,177.0 2665.0,177.0 2665.0,439.5\" fill=\"none\" stroke=\"currentColor\"/>\n",
       "    <text dy=\"1.25em\" style=\"font-size: 0.8em; letter-spacing: 1px\">\n",
       "        <textPath xlink:href=\"#arrow-3de5ef107c16450aa905b159f5beef1f-0-11\" class=\"displacy-label\" startOffset=\"50%\" side=\"left\" fill=\"currentColor\" text-anchor=\"middle\">nmod</textPath>\n",
       "    </text>\n",
       "    <path class=\"displacy-arrowhead\" d=\"M2170,441.5 L2162,429.5 2178,429.5\" fill=\"currentColor\"/>\n",
       "</g>\n",
       "\n",
       "<g class=\"displacy-arrow\">\n",
       "    <path class=\"displacy-arc\" id=\"arrow-3de5ef107c16450aa905b159f5beef1f-0-12\" stroke-width=\"2px\" d=\"M2170,439.5 C2170,352.0 2305.0,352.0 2305.0,439.5\" fill=\"none\" stroke=\"currentColor\"/>\n",
       "    <text dy=\"1.25em\" style=\"font-size: 0.8em; letter-spacing: 1px\">\n",
       "        <textPath xlink:href=\"#arrow-3de5ef107c16450aa905b159f5beef1f-0-12\" class=\"displacy-label\" startOffset=\"50%\" side=\"left\" fill=\"currentColor\" text-anchor=\"middle\">cc</textPath>\n",
       "    </text>\n",
       "    <path class=\"displacy-arrowhead\" d=\"M2305.0,441.5 L2313.0,429.5 2297.0,429.5\" fill=\"currentColor\"/>\n",
       "</g>\n",
       "\n",
       "<g class=\"displacy-arrow\">\n",
       "    <path class=\"displacy-arc\" id=\"arrow-3de5ef107c16450aa905b159f5beef1f-0-13\" stroke-width=\"2px\" d=\"M2170,439.5 C2170,264.5 2485.0,264.5 2485.0,439.5\" fill=\"none\" stroke=\"currentColor\"/>\n",
       "    <text dy=\"1.25em\" style=\"font-size: 0.8em; letter-spacing: 1px\">\n",
       "        <textPath xlink:href=\"#arrow-3de5ef107c16450aa905b159f5beef1f-0-13\" class=\"displacy-label\" startOffset=\"50%\" side=\"left\" fill=\"currentColor\" text-anchor=\"middle\">conj</textPath>\n",
       "    </text>\n",
       "    <path class=\"displacy-arrowhead\" d=\"M2485.0,441.5 L2493.0,429.5 2477.0,429.5\" fill=\"currentColor\"/>\n",
       "</g>\n",
       "\n",
       "<g class=\"displacy-arrow\">\n",
       "    <path class=\"displacy-arc\" id=\"arrow-3de5ef107c16450aa905b159f5beef1f-0-14\" stroke-width=\"2px\" d=\"M1645,439.5 C1645,2.0 2675.0,2.0 2675.0,439.5\" fill=\"none\" stroke=\"currentColor\"/>\n",
       "    <text dy=\"1.25em\" style=\"font-size: 0.8em; letter-spacing: 1px\">\n",
       "        <textPath xlink:href=\"#arrow-3de5ef107c16450aa905b159f5beef1f-0-14\" class=\"displacy-label\" startOffset=\"50%\" side=\"left\" fill=\"currentColor\" text-anchor=\"middle\">pobj</textPath>\n",
       "    </text>\n",
       "    <path class=\"displacy-arrowhead\" d=\"M2675.0,441.5 L2683.0,429.5 2667.0,429.5\" fill=\"currentColor\"/>\n",
       "</g>\n",
       "\n",
       "<g class=\"displacy-arrow\">\n",
       "    <path class=\"displacy-arc\" id=\"arrow-3de5ef107c16450aa905b159f5beef1f-0-15\" stroke-width=\"2px\" d=\"M2695,439.5 C2695,352.0 2830.0,352.0 2830.0,439.5\" fill=\"none\" stroke=\"currentColor\"/>\n",
       "    <text dy=\"1.25em\" style=\"font-size: 0.8em; letter-spacing: 1px\">\n",
       "        <textPath xlink:href=\"#arrow-3de5ef107c16450aa905b159f5beef1f-0-15\" class=\"displacy-label\" startOffset=\"50%\" side=\"left\" fill=\"currentColor\" text-anchor=\"middle\">acl</textPath>\n",
       "    </text>\n",
       "    <path class=\"displacy-arrowhead\" d=\"M2830.0,441.5 L2838.0,429.5 2822.0,429.5\" fill=\"currentColor\"/>\n",
       "</g>\n",
       "\n",
       "<g class=\"displacy-arrow\">\n",
       "    <path class=\"displacy-arc\" id=\"arrow-3de5ef107c16450aa905b159f5beef1f-0-16\" stroke-width=\"2px\" d=\"M2870,439.5 C2870,352.0 3005.0,352.0 3005.0,439.5\" fill=\"none\" stroke=\"currentColor\"/>\n",
       "    <text dy=\"1.25em\" style=\"font-size: 0.8em; letter-spacing: 1px\">\n",
       "        <textPath xlink:href=\"#arrow-3de5ef107c16450aa905b159f5beef1f-0-16\" class=\"displacy-label\" startOffset=\"50%\" side=\"left\" fill=\"currentColor\" text-anchor=\"middle\">prt</textPath>\n",
       "    </text>\n",
       "    <path class=\"displacy-arrowhead\" d=\"M3005.0,441.5 L3013.0,429.5 2997.0,429.5\" fill=\"currentColor\"/>\n",
       "</g>\n",
       "\n",
       "<g class=\"displacy-arrow\">\n",
       "    <path class=\"displacy-arc\" id=\"arrow-3de5ef107c16450aa905b159f5beef1f-0-17\" stroke-width=\"2px\" d=\"M2870,439.5 C2870,264.5 3185.0,264.5 3185.0,439.5\" fill=\"none\" stroke=\"currentColor\"/>\n",
       "    <text dy=\"1.25em\" style=\"font-size: 0.8em; letter-spacing: 1px\">\n",
       "        <textPath xlink:href=\"#arrow-3de5ef107c16450aa905b159f5beef1f-0-17\" class=\"displacy-label\" startOffset=\"50%\" side=\"left\" fill=\"currentColor\" text-anchor=\"middle\">prep</textPath>\n",
       "    </text>\n",
       "    <path class=\"displacy-arrowhead\" d=\"M3185.0,441.5 L3193.0,429.5 3177.0,429.5\" fill=\"currentColor\"/>\n",
       "</g>\n",
       "\n",
       "<g class=\"displacy-arrow\">\n",
       "    <path class=\"displacy-arc\" id=\"arrow-3de5ef107c16450aa905b159f5beef1f-0-18\" stroke-width=\"2px\" d=\"M3220,439.5 C3220,352.0 3355.0,352.0 3355.0,439.5\" fill=\"none\" stroke=\"currentColor\"/>\n",
       "    <text dy=\"1.25em\" style=\"font-size: 0.8em; letter-spacing: 1px\">\n",
       "        <textPath xlink:href=\"#arrow-3de5ef107c16450aa905b159f5beef1f-0-18\" class=\"displacy-label\" startOffset=\"50%\" side=\"left\" fill=\"currentColor\" text-anchor=\"middle\">pobj</textPath>\n",
       "    </text>\n",
       "    <path class=\"displacy-arrowhead\" d=\"M3355.0,441.5 L3363.0,429.5 3347.0,429.5\" fill=\"currentColor\"/>\n",
       "</g>\n",
       "</svg>"
      ],
      "text/plain": [
       "<IPython.core.display.HTML object>"
      ]
     },
     "metadata": {},
     "output_type": "display_data"
    }
   ],
   "source": [
    "from spacy import displacy\n",
    "\n",
    "displacy.render(nlp(entity_sentences[12]), style='dep',jupyter=True)"
   ]
  },
  {
   "cell_type": "code",
   "execution_count": 85,
   "metadata": {},
   "outputs": [
    {
     "name": "stdout",
     "output_type": "stream",
     "text": [
      "A White House official portrayed the change as a natural progression rather than a demotion for Bannon.\n",
      "                              portrayed                                        \n",
      "  ________________________________|__________________                           \n",
      " |         |             |                           as                        \n",
      " |         |             |                           |                          \n",
      " |         |             |                      progression                    \n",
      " |         |             |         __________________|_____________             \n",
      " |      official         |        |        |         |          demotion       \n",
      " |    _____|_______      |        |        |         |        _____|_______     \n",
      " |   |           House change     |        |        than     |            for  \n",
      " |   |             |     |        |        |         |       |             |    \n",
      " .   A           White  the       a     natural    rather    a           Bannon\n",
      "\n"
     ]
    },
    {
     "data": {
      "text/plain": [
       "[None]"
      ]
     },
     "execution_count": 85,
     "metadata": {},
     "output_type": "execute_result"
    }
   ],
   "source": [
    "from nltk import Tree\n",
    "\n",
    "\n",
    "def to_nltk_tree(node):\n",
    "    if node.n_lefts + node.n_rights > 0:\n",
    "        return Tree(node.orth_, [to_nltk_tree(child) for child in node.children])\n",
    "    else:\n",
    "        return node.orth_\n",
    "    \n",
    "doc = nlp(entity_sentences[6])\n",
    "print(doc)\n",
    "\n",
    "[to_nltk_tree(sent.root).pretty_print() for sent in doc.sents]\n"
   ]
  },
  {
   "cell_type": "code",
   "execution_count": null,
   "metadata": {},
   "outputs": [],
   "source": [
    "for s in sentences_brexit:\n",
    "    \n",
    "    s = nlp(s) \n",
    "    \n",
    "    for token in s:\n",
    "        \n",
    "        print(\"Token: \", token, \"\\n\")\n",
    "        print(\"\\n\\tToken.dep_: \", token.dep_, \"\\n\\tToken.head: \", token.head, \"\\n\\tToken.head.dep_: \",  token.head.dep_, \"\\n\")"
   ]
  },
  {
   "cell_type": "code",
   "execution_count": null,
   "metadata": {},
   "outputs": [],
   "source": [
    "import sys\n",
    "for p in sys.path:\n",
    "    print(p)"
   ]
  },
  {
   "cell_type": "markdown",
   "metadata": {},
   "source": [
    "### Useful function calls"
   ]
  },
  {
   "cell_type": "code",
   "execution_count": null,
   "metadata": {},
   "outputs": [],
   "source": [
    "## Fetch document by id\n",
    "es.get(index = 'corpus1', id=1)"
   ]
  },
  {
   "cell_type": "code",
   "execution_count": null,
   "metadata": {},
   "outputs": [],
   "source": [
    "## Vader snippet test\n",
    "\n",
    "snippet = ' It amounts, instead, to a deliberate and cynical failure to implement the 2016 referendum result.'\n",
    "analyser.polarity_scores(snippet)"
   ]
  },
  {
   "cell_type": "code",
   "execution_count": null,
   "metadata": {},
   "outputs": [],
   "source": [
    "scores = np.array([np.array(xi) for xi in scores])\n",
    "mean_scores = np.mean(scores, axis=0)"
   ]
  },
  {
   "cell_type": "code",
   "execution_count": null,
   "metadata": {},
   "outputs": [],
   "source": [
    "!pip install https://github.com/explosion/spacy-models/releases/download/en_core_web_sm-2.1.0/en_core_web_sm-2.1.0.tar.gz"
   ]
  }
 ],
 "metadata": {
  "kernelspec": {
   "display_name": "Python 3",
   "language": "python",
   "name": "python3"
  },
  "language_info": {
   "codemirror_mode": {
    "name": "ipython",
    "version": 3
   },
   "file_extension": ".py",
   "mimetype": "text/x-python",
   "name": "python",
   "nbconvert_exporter": "python",
   "pygments_lexer": "ipython3",
   "version": "3.6.5"
  }
 },
 "nbformat": 4,
 "nbformat_minor": 2
}
