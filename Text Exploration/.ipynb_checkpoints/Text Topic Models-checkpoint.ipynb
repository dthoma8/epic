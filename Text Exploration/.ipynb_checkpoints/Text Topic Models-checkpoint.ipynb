{
 "cells": [
  {
   "cell_type": "code",
   "execution_count": 1,
   "metadata": {},
   "outputs": [],
   "source": [
    "import gensim\n",
    "import gensim.models.ldamodel as LDA\n",
    "from gensim import corpora\n",
    "from gensim.models import CoherenceModel\n",
    "\n",
    "import pandas as pd\n",
    "import pickle \n",
    "import json, time, os, string\n",
    "\n",
    "# # Run these the first time you do this\n",
    "# nltk.download('stopwords')\n",
    "# nltk.download('punkt')\n",
    "\n",
    "from nltk.corpus import stopwords\n",
    "from nltk import word_tokenize, WordNetLemmatizer\n",
    "stop = set(stopwords.words('english'))\n",
    "\n",
    "import spacy\n",
    "nlp = spacy.load('en_core_web_sm')\n",
    "\n",
    "import pyLDAvis\n",
    "import pyLDAvis.gensim  \n",
    "import matplotlib.pyplot as plt"
   ]
  },
  {
   "cell_type": "markdown",
   "metadata": {},
   "source": [
    "### Load in list of text blocks"
   ]
  },
  {
   "cell_type": "code",
   "execution_count": 2,
   "metadata": {},
   "outputs": [],
   "source": [
    "filehandler = open('Brexit_text_list', 'rb') \n",
    "hit_text = pickle.load(filehandler)"
   ]
  },
  {
   "cell_type": "markdown",
   "metadata": {},
   "source": [
    "### Performing preprocessing "
   ]
  },
  {
   "cell_type": "code",
   "execution_count": 3,
   "metadata": {},
   "outputs": [],
   "source": [
    "#Preprocessing functions for entire text blocks\n",
    "\n",
    "def LemmatizerBlock(text):\n",
    "    tokens = word_tokenize(text)\n",
    "    wnl = WordNetLemmatizer()\n",
    "    tokens = [wnl.lemmatize(t) for t in tokens]\n",
    "    return ' '.join(tokens)\n",
    "\n",
    "def FilterPunc(text):\n",
    "    tokens = word_tokenize(text)\n",
    "    tokens = [word for word in tokens if word.isalpha()]\n",
    "    return ' '.join(tokens)\n",
    "\n",
    "def stopwordRemovalBlock(text, stop_words):\n",
    "    tokens = word_tokenize(text)\n",
    "    tokens = [w for w in tokens if not w in stop_words]\n",
    "    return ' '.join(tokens)\n",
    "\n",
    "def clean(text, stop_words):\n",
    "#     text = text.lower()\n",
    "    no_stop = stopwordRemovalBlock(text, stop_words)\n",
    "    no_punc = FilterPunc(no_stop)\n",
    "    return no_punc\n",
    "\n",
    "# Gensim prefers BOW corpora to be a list of lists of words for each document \n",
    "def gensimPrep(list_of_texts):\n",
    "    tokenized = [word_tokenize(text) for text in list_of_texts]\n",
    "    return tokenized    "
   ]
  },
  {
   "cell_type": "code",
   "execution_count": 4,
   "metadata": {},
   "outputs": [],
   "source": [
    "# Lowercasing and removing punctuation and converting to gensim's desired format\n",
    "lowered = [hit.lower() for hit in hit_text]\n",
    "no_punc = [FilterPunc(low) for low in lowered]\n",
    "to_gensim = gensimPrep(no_punc)"
   ]
  },
  {
   "cell_type": "code",
   "execution_count": 5,
   "metadata": {},
   "outputs": [],
   "source": [
    "# Setting up bi/trigram models\n",
    "bigram = gensim.models.Phrases(to_gensim, min_count=5, threshold=100) \n",
    "trigram = gensim.models.Phrases(bigram[to_gensim], threshold=100)  \n",
    "\n",
    "# Phrase the sentence to build bi/trigram models \n",
    "bigram_mod = gensim.models.phrases.Phraser(bigram)\n",
    "trigram_mod = gensim.models.phrases.Phraser(trigram)"
   ]
  },
  {
   "cell_type": "code",
   "execution_count": 6,
   "metadata": {},
   "outputs": [
    {
     "name": "stdout",
     "output_type": "stream",
     "text": [
      "['in', 'the', 'first', 'of', 'two', 'extracts', 'from', 'their', 'new', 'book', 'liam', 'halligan', 'and', 'gerard', 'lyons', 'say', 'the', 'commonly', 'held', 'belief', 'that', 'britain', 'would', 'be', 'better', 'off', 'inside', 'the', 'single_market', 'and', 'customs_union', 'is', 'misconceived', 'there', 'has', 'been', 'much', 'talk', 'of', 'hard', 'brexit', 'versus', 'soft', 'brexit', 'such', 'labels', 'are', 'ubiquitous', 'during', 'these', 'article', 'negotiations', 'used', 'freely', 'by', 'the', 'broadcast', 'media', 'yet', 'they', 'are', 'partisan', 'and', 'deeply', 'misleading', 'hard', 'brexit', 'makes', 'leaving', 'the', 'european_union', 'sound', 'extreme', 'and', 'damaging', 'suggesting', 'and', 'a', 'bleak', 'economic', 'future', 'soft', 'brexit', 'conversely', 'conveys', 'a', 'comfortable', 'ongoing', 'relationship', 'with', 'the', 'eu', 'with', 'britain', 'still', 'part', 'of', 'the', 'club', 'leaving', 'the', 'single_market', 'and', 'the', 'customs_union', 'isn_t', 'hard', 'brexit', 'even', 'if', 'the', 'name', 'is', 'deliberately', 'coined', 'to', 'sound', 'painful', 'it', 'is', 'simply', 'brexit', 'staying', 'inside', 'the', 'eu', 's', 'two', 'main', 'legal', 'constructs', 'meanwhile', 'isn_t', 'a', 'harmonious', 'soft', 'brexit', 'it', 'amounts', 'instead', 'to', 'a', 'deliberate', 'and', 'cynical', 'failure', 'to', 'implement', 'the', 'referendum', 'result']\n"
     ]
    }
   ],
   "source": [
    "print(trigram_mod[bigram_mod[to_gensim[0]]])"
   ]
  },
  {
   "cell_type": "code",
   "execution_count": 7,
   "metadata": {},
   "outputs": [],
   "source": [
    "# Running the bigram model on the text\n",
    "def make_bigrams(texts):\n",
    "    return [bigram_mod[doc] for doc in texts]\n",
    "\n",
    "# Running the trigram model on the bigram model (Gensim works through this nested pattern)\n",
    "def make_trigrams(texts):\n",
    "    return [trigram_mod[bigram_mod[doc]] for doc in texts]\n",
    "\n",
    "# Removing stopwords from the nested lists using nltk defined stopwords\n",
    "def stopwordRemovalList(text, stop_words):\n",
    "    out_words = [w for w in text if not w in stop_words]\n",
    "    return out_words\n",
    "\n",
    "# Use spacy lemmatization and only keep the select parts of speech, runs somewhat slowly\n",
    "def lemmatization(texts, allowed_postags=['NOUN', 'ADJ', 'VERB', 'ADV']):\n",
    "    texts_out = []\n",
    "    for sent in texts:\n",
    "        doc = nlp(\" \".join(sent)) \n",
    "        texts_out.append([token.lemma_ for token in doc if token.pos_ in allowed_postags])\n",
    "    return texts_out"
   ]
  },
  {
   "cell_type": "code",
   "execution_count": 8,
   "metadata": {},
   "outputs": [],
   "source": [
    "# Make trigrams and bigrams in the text, remove stopwords, and lemmatize\n",
    "trigrams = make_trigrams(to_gensim)\n",
    "stop_free = [stopwordRemovalList(text, stop) for text in trigrams]\n",
    "lemmatized_text = lemmatization(stop_free)"
   ]
  },
  {
   "cell_type": "markdown",
   "metadata": {},
   "source": [
    "### Generating topic models with Gensim"
   ]
  },
  {
   "cell_type": "code",
   "execution_count": 12,
   "metadata": {},
   "outputs": [],
   "source": [
    "# First build the corpus in Gensim's required format\n",
    "id2word = corpora.Dictionary(lemmatized_text)   # Initialize a dictionary for indexing all unique words\n",
    "corpus = [id2word.doc2bow(text) for text in lemmatized_text] # Generate a list including all unique words anf their frequency"
   ]
  },
  {
   "cell_type": "code",
   "execution_count": null,
   "metadata": {},
   "outputs": [],
   "source": [
    "# Generate the topic model\n",
    "lda_model = LDA.LdaModel(corpus=corpus,\n",
    "                                       id2word=id2word,\n",
    "                                       num_topics=5, \n",
    "                                       random_state=0,\n",
    "                                       update_every=1,\n",
    "                                       chunksize=100,\n",
    "                                       passes=10,\n",
    "                                       alpha='auto',\n",
    "                                       per_word_topics=True)"
   ]
  },
  {
   "cell_type": "code",
   "execution_count": 136,
   "metadata": {},
   "outputs": [
    {
     "data": {
      "text/plain": [
       "[(0,\n",
       "  '0.014*\"say\" + 0.011*\"year\" + 0.009*\"business\" + 0.008*\"company\" + 0.007*\"uk\" + 0.007*\"bank\" + 0.007*\"datum\" + 0.006*\"new\" + 0.006*\"market\" + 0.005*\"also\"'),\n",
       " (1,\n",
       "  '0.010*\"people\" + 0.007*\"say\" + 0.007*\"go\" + 0.007*\"get\" + 0.007*\"make\" + 0.007*\"think\" + 0.006*\"time\" + 0.005*\"would\" + 0.005*\"take\" + 0.004*\"thing\"'),\n",
       " (2,\n",
       "  '0.009*\"trump\" + 0.007*\"say\" + 0.005*\"country\" + 0.005*\"world\" + 0.004*\"include\" + 0.004*\"american\" + 0.004*\"europe\" + 0.004*\"president\" + 0.003*\"refugee\" + 0.003*\"germany\"'),\n",
       " (3,\n",
       "  '0.021*\"say\" + 0.017*\"government\" + 0.015*\"would\" + 0.010*\"britain\" + 0.009*\"brexit\" + 0.009*\"uk\" + 0.007*\"deal\" + 0.007*\"make\" + 0.007*\"may\" + 0.006*\"vote\"'),\n",
       " (4,\n",
       "  '0.055*\"party\" + 0.037*\"labour\" + 0.020*\"tory\" + 0.016*\"election\" + 0.015*\"say\" + 0.014*\"conference\" + 0.014*\"conservative\" + 0.013*\"leader\" + 0.013*\"may\" + 0.012*\"johnson\"')]"
      ]
     },
     "execution_count": 136,
     "metadata": {},
     "output_type": "execute_result"
    }
   ],
   "source": [
    "# Print the topics and the top 10 words in each \n",
    "lda_model.print_topics()"
   ]
  },
  {
   "cell_type": "code",
   "execution_count": 137,
   "metadata": {},
   "outputs": [
    {
     "name": "stdout",
     "output_type": "stream",
     "text": [
      "Coherence Score:  0.41588594612823726\n"
     ]
    }
   ],
   "source": [
    "# Evaluating the topic models with a coherence score (higher the better)\n",
    "coherence_model_lda = CoherenceModel(model=lda_model, texts=lemmatized_text, dictionary=id2word, coherence='c_v')\n",
    "coherence_lda = coherence_model_lda.get_coherence()\n",
    "print('Coherence Score: ', coherence_lda)"
   ]
  },
  {
   "cell_type": "markdown",
   "metadata": {},
   "source": [
    "### Visualizing the Topics"
   ]
  },
  {
   "cell_type": "code",
   "execution_count": null,
   "metadata": {},
   "outputs": [],
   "source": [
    "# Prepare the topic models for the visualizer\n",
    "vis = pyLDAvis.gensim.prepare(lda_model, corpus, id2word)\n",
    "\n",
    "# Loads the visualization in another webpage \n",
    "pyLDAvis.show(vis)  "
   ]
  },
  {
   "cell_type": "raw",
   "metadata": {},
   "source": [
    "# Saving this because it takes a while to generate\n",
    "filehandler = open('LDAvis5Topic', 'wb') \n",
    "pickle.dump(vis, filehandler)"
   ]
  },
  {
   "cell_type": "code",
   "execution_count": 125,
   "metadata": {},
   "outputs": [],
   "source": [
    "# Load this in instead of running the .prepare block\n",
    "filehandler = open('LDAvis5Topic', 'rb') \n",
    "vis = pickle.load(filehandler)"
   ]
  },
  {
   "cell_type": "code",
   "execution_count": 124,
   "metadata": {},
   "outputs": [
    {
     "name": "stdout",
     "output_type": "stream",
     "text": [
      "\n",
      "Note: if you're in the IPython notebook, pyLDAvis.show() is not the best command\n",
      "      to use. Consider using pyLDAvis.display(), or pyLDAvis.enable_notebook().\n",
      "      See more information at http://pyLDAvis.github.io/quickstart.html .\n",
      "\n",
      "You must interrupt the kernel to end this command\n",
      "\n",
      "Serving to http://127.0.0.1:8889/    [Ctrl-C to exit]\n"
     ]
    },
    {
     "name": "stderr",
     "output_type": "stream",
     "text": [
      "127.0.0.1 - - [09/Aug/2019 10:13:30] \"GET / HTTP/1.1\" 200 -\n",
      "127.0.0.1 - - [09/Aug/2019 10:13:30] \"GET /LDAvis.css HTTP/1.1\" 200 -\n",
      "127.0.0.1 - - [09/Aug/2019 10:13:30] \"GET /d3.js HTTP/1.1\" 200 -\n",
      "127.0.0.1 - - [09/Aug/2019 10:13:30] code 404, message Not Found\n",
      "127.0.0.1 - - [09/Aug/2019 10:13:30] \"GET /favicon.ico HTTP/1.1\" 404 -\n",
      "----------------------------------------\n",
      "Exception happened during processing of request from ('127.0.0.1', 60909)\n",
      "Traceback (most recent call last):\n",
      "  File \"c:\\users\\jdward\\appdata\\local\\continuum\\anaconda3\\envs\\elastic\\lib\\socketserver.py\", line 316, in _handle_request_noblock\n",
      "    self.process_request(request, client_address)\n",
      "  File \"c:\\users\\jdward\\appdata\\local\\continuum\\anaconda3\\envs\\elastic\\lib\\socketserver.py\", line 347, in process_request\n",
      "    self.finish_request(request, client_address)\n",
      "  File \"c:\\users\\jdward\\appdata\\local\\continuum\\anaconda3\\envs\\elastic\\lib\\socketserver.py\", line 360, in finish_request\n",
      "    self.RequestHandlerClass(request, client_address, self)\n",
      "  File \"c:\\users\\jdward\\appdata\\local\\continuum\\anaconda3\\envs\\elastic\\lib\\socketserver.py\", line 720, in __init__\n",
      "    self.handle()\n",
      "  File \"c:\\users\\jdward\\appdata\\local\\continuum\\anaconda3\\envs\\elastic\\lib\\http\\server.py\", line 426, in handle\n",
      "    self.handle_one_request()\n",
      "  File \"c:\\users\\jdward\\appdata\\local\\continuum\\anaconda3\\envs\\elastic\\lib\\http\\server.py\", line 414, in handle_one_request\n",
      "    method()\n",
      "  File \"c:\\users\\jdward\\appdata\\local\\continuum\\anaconda3\\envs\\elastic\\lib\\site-packages\\pyLDAvis\\_server.py\", line 52, in do_GET\n",
      "    self.send_error(404)\n",
      "  File \"c:\\users\\jdward\\appdata\\local\\continuum\\anaconda3\\envs\\elastic\\lib\\http\\server.py\", line 481, in send_error\n",
      "    self.wfile.write(body)\n",
      "  File \"c:\\users\\jdward\\appdata\\local\\continuum\\anaconda3\\envs\\elastic\\lib\\socketserver.py\", line 799, in write\n",
      "    self._sock.sendall(b)\n",
      "ConnectionAbortedError: [WinError 10053] An established connection was aborted by the software in your host machine\n",
      "----------------------------------------\n",
      "127.0.0.1 - - [09/Aug/2019 10:13:30] \"GET /LDAvis.js HTTP/1.1\" 200 -\n"
     ]
    },
    {
     "name": "stdout",
     "output_type": "stream",
     "text": [
      "\n",
      "stopping Server...\n"
     ]
    }
   ],
   "source": [
    "pyLDAvis.show(vis)"
   ]
  },
  {
   "cell_type": "markdown",
   "metadata": {},
   "source": [
    "### Trying to use Mallet instead because the topics will probably be better"
   ]
  },
  {
   "cell_type": "code",
   "execution_count": 15,
   "metadata": {},
   "outputs": [],
   "source": [
    "# Download File: http://mallet.cs.umass.edu/dist/mallet-2.0.8.zip\n",
    "os.environ['MALLET_HOME'] = r'C:\\Users\\jdward\\mallet-2.0.8\\mallet-2.0.8'\n",
    "mallet_path = r'C:\\Users\\jdward\\mallet-2.0.8\\mallet-2.0.8\\bin\\mallet' \n",
    "#ldamallet = gensim.models.wrappers.LdaMallet(mallet_path, corpus=corpus, num_topics=20, id2word=id2word)"
   ]
  },
  {
   "cell_type": "code",
   "execution_count": 140,
   "metadata": {},
   "outputs": [
    {
     "data": {
      "text/plain": [
       "[(0,\n",
       "  '0.047*\"brexit\" + 0.033*\"deal\" + 0.032*\"uk\" + 0.032*\"britain\" + 0.025*\"talk\" + 0.020*\"british\" + 0.020*\"negotiation\" + 0.017*\"eu\" + 0.016*\"make\" + 0.015*\"leave\"'),\n",
       " (1,\n",
       "  '0.065*\"party\" + 0.051*\"labour\" + 0.021*\"election\" + 0.020*\"corbyn\" + 0.015*\"vote\" + 0.014*\"leader\" + 0.013*\"policy\" + 0.013*\"voter\" + 0.012*\"campaign\" + 0.012*\"conference\"'),\n",
       " (2,\n",
       "  '0.017*\"time\" + 0.011*\"bad\" + 0.011*\"thing\" + 0.010*\"turn\" + 0.009*\"back\" + 0.008*\"day\" + 0.008*\"good\" + 0.007*\"fact\" + 0.007*\"long\" + 0.007*\"end\"'),\n",
       " (3,\n",
       "  '0.015*\"system\" + 0.012*\"risk\" + 0.011*\"change\" + 0.010*\"technology\" + 0.008*\"project\" + 0.008*\"energy\" + 0.008*\"model\" + 0.007*\"work\" + 0.007*\"power\" + 0.007*\"create\"'),\n",
       " (4,\n",
       "  '0.054*\"government\" + 0.033*\"brexit\" + 0.019*\"parliament\" + 0.018*\"bill\" + 0.017*\"vote\" + 0.017*\"law\" + 0.015*\"labour\" + 0.015*\"minister\" + 0.013*\"mps\" + 0.012*\"leave\"'),\n",
       " (5,\n",
       "  '0.026*\"company\" + 0.020*\"business\" + 0.015*\"market\" + 0.014*\"year\" + 0.013*\"london\" + 0.013*\"bank\" + 0.013*\"firm\" + 0.010*\"big\" + 0.010*\"city\" + 0.009*\"service\"'),\n",
       " (6,\n",
       "  '0.012*\"campaign\" + 0.012*\"trump\" + 0.011*\"medium\" + 0.011*\"bbc\" + 0.010*\"political\" + 0.009*\"news\" + 0.009*\"ukip\" + 0.009*\"write\" + 0.007*\"claim\" + 0.007*\"report\"'),\n",
       " (7,\n",
       "  '0.042*\"uk\" + 0.028*\"trade\" + 0.017*\"brexit\" + 0.016*\"country\" + 0.016*\"government\" + 0.014*\"britain\" + 0.011*\"global\" + 0.011*\"world\" + 0.010*\"economy\" + 0.009*\"business\"'),\n",
       " (8,\n",
       "  '0.029*\"people\" + 0.021*\"feel\" + 0.015*\"woman\" + 0.013*\"man\" + 0.012*\"make\" + 0.011*\"thing\" + 0.010*\"talk\" + 0.009*\"view\" + 0.009*\"politic\" + 0.008*\"good\"'),\n",
       " (9,\n",
       "  '0.036*\"brexit\" + 0.029*\"tory\" + 0.023*\"speech\" + 0.021*\"prime_minister\" + 0.019*\"johnson\" + 0.018*\"party\" + 0.018*\"conservative\" + 0.017*\"cabinet\" + 0.014*\"conference\" + 0.011*\"week\"'),\n",
       " (10,\n",
       "  '0.011*\"britain\" + 0.011*\"world\" + 0.010*\"british\" + 0.009*\"country\" + 0.009*\"war\" + 0.009*\"today\" + 0.007*\"international\" + 0.007*\"security\" + 0.007*\"day\" + 0.007*\"trump\"'),\n",
       " (11,\n",
       "  '0.029*\"year\" + 0.020*\"rise\" + 0.018*\"growth\" + 0.017*\"bank\" + 0.015*\"fall\" + 0.014*\"increase\" + 0.014*\"economy\" + 0.013*\"month\" + 0.012*\"price\" + 0.011*\"economic\"'),\n",
       " (12,\n",
       "  '0.012*\"world\" + 0.011*\"make\" + 0.010*\"write\" + 0.010*\"book\" + 0.008*\"work\" + 0.007*\"story\" + 0.007*\"year\" + 0.007*\"film\" + 0.007*\"history\" + 0.007*\"show\"'),\n",
       " (13,\n",
       "  '0.037*\"referendum\" + 0.027*\"vote\" + 0.024*\"government\" + 0.021*\"independence\" + 0.017*\"spain\" + 0.017*\"catalonia\" + 0.015*\"people\" + 0.014*\"catalan\" + 0.012*\"spanish\" + 0.009*\"police\"'),\n",
       " (14,\n",
       "  '0.023*\"business\" + 0.020*\"datum\" + 0.020*\"people\" + 0.014*\"make\" + 0.011*\"company\" + 0.009*\"money\" + 0.008*\"customer\" + 0.008*\"airline\" + 0.008*\"world\" + 0.007*\"social\"'),\n",
       " (15,\n",
       "  '0.041*\"europe\" + 0.027*\"european\" + 0.021*\"germany\" + 0.020*\"country\" + 0.017*\"german\" + 0.012*\"party\" + 0.011*\"merkel\" + 0.010*\"france\" + 0.010*\"european_union\" + 0.009*\"election\"'),\n",
       " (16,\n",
       "  '0.013*\"city\" + 0.008*\"good\" + 0.008*\"game\" + 0.008*\"include\" + 0.008*\"year\" + 0.007*\"back\" + 0.007*\"home\" + 0.006*\"club\" + 0.006*\"big\" + 0.006*\"team\"'),\n",
       " (17,\n",
       "  '0.031*\"people\" + 0.019*\"british\" + 0.016*\"child\" + 0.015*\"live\" + 0.015*\"school\" + 0.012*\"university\" + 0.012*\"year\" + 0.011*\"young\" + 0.011*\"time\" + 0.010*\"society\"'),\n",
       " (18,\n",
       "  '0.021*\"make\" + 0.014*\"important\" + 0.011*\"work\" + 0.010*\"great\" + 0.010*\"give\" + 0.009*\"time\" + 0.009*\"support\" + 0.009*\"issue\" + 0.008*\"people\" + 0.008*\"hope\"'),\n",
       " (19,\n",
       "  '0.029*\"work\" + 0.024*\"job\" + 0.022*\"uk\" + 0.020*\"worker\" + 0.015*\"government\" + 0.014*\"pay\" + 0.012*\"people\" + 0.011*\"year\" + 0.010*\"home\" + 0.010*\"immigration\"')]"
      ]
     },
     "execution_count": 140,
     "metadata": {},
     "output_type": "execute_result"
    }
   ],
   "source": [
    "# Print the topics and the top 10 words in each \n",
    "ldamallet.print_topics()"
   ]
  },
  {
   "cell_type": "code",
   "execution_count": 143,
   "metadata": {},
   "outputs": [
    {
     "name": "stdout",
     "output_type": "stream",
     "text": [
      "\n",
      "Coherence Score:  0.4643946777377191\n"
     ]
    }
   ],
   "source": [
    "# Compute Coherence Score\n",
    "coherence_model_ldamallet = CoherenceModel(model=ldamallet, texts=lemmatized_text, dictionary=id2word, coherence='c_v')\n",
    "coherence_ldamallet = coherence_model_ldamallet.get_coherence()\n",
    "print('Coherence Score: ', coherence_ldamallet)"
   ]
  },
  {
   "cell_type": "markdown",
   "metadata": {},
   "source": [
    "### Trying to find the best coherence score"
   ]
  },
  {
   "cell_type": "code",
   "execution_count": 10,
   "metadata": {},
   "outputs": [],
   "source": [
    "def compute_coherence_values(dictionary, corpus, texts, limit, start=2, step=3):\n",
    "    \"\"\"\n",
    "    Compute c_v coherence for various number of topics\n",
    "\n",
    "    Parameters:\n",
    "    ----------\n",
    "    dictionary : Gensim dictionary\n",
    "    corpus : Gensim corpus\n",
    "    texts : List of input texts\n",
    "    limit : Max num of topics\n",
    "\n",
    "    Returns:\n",
    "    -------\n",
    "    model_list : List of LDA topic models\n",
    "    coherence_values : Coherence values corresponding to the LDA model with respective number of topics\n",
    "    \"\"\"\n",
    "    coherence_values = []\n",
    "    model_list = []\n",
    "    for num_topics in range(start, limit, step):\n",
    "        model = gensim.models.wrappers.LdaMallet(mallet_path, corpus=corpus, num_topics=num_topics, id2word=id2word)\n",
    "        model_list.append(model)\n",
    "        coherencemodel = CoherenceModel(model=model, texts=texts, dictionary=dictionary, coherence='c_v')\n",
    "        coherence_values.append(coherencemodel.get_coherence())\n",
    "\n",
    "    return model_list, coherence_values"
   ]
  },
  {
   "cell_type": "code",
   "execution_count": 16,
   "metadata": {},
   "outputs": [],
   "source": [
    "model_list, coherence_values = compute_coherence_values(dictionary=id2word, corpus=corpus, texts=lemmatized_text, start=2, limit=30, step=3)"
   ]
  },
  {
   "cell_type": "code",
   "execution_count": 17,
   "metadata": {},
   "outputs": [
    {
     "data": {
      "image/png": "[encoded data removed]",
      "text/plain": [
       "<Figure size 432x288 with 1 Axes>"
      ]
     },
     "metadata": {
      "needs_background": "light"
     },
     "output_type": "display_data"
    }
   ],
   "source": [
    "limit=30; start=2; step=3;\n",
    "x = range(start, limit, step)\n",
    "plt.plot(x, coherence_values)\n",
    "plt.xlabel(\"Num Topics\")\n",
    "plt.ylabel(\"Coherence score\")\n",
    "plt.legend((\"coherence_values\"), loc='best')\n",
    "plt.show()"
   ]
  },
  {
   "cell_type": "code",
   "execution_count": 19,
   "metadata": {},
   "outputs": [
    {
     "name": "stdout",
     "output_type": "stream",
     "text": [
      "Num Topics = 2  has Coherence Value of 0.3659\n",
      "Num Topics = 5  has Coherence Value of 0.4716\n",
      "Num Topics = 8  has Coherence Value of 0.4421\n",
      "Num Topics = 11  has Coherence Value of 0.4554\n",
      "Num Topics = 14  has Coherence Value of 0.442\n",
      "Num Topics = 17  has Coherence Value of 0.4597\n",
      "Num Topics = 20  has Coherence Value of 0.4726\n",
      "Num Topics = 23  has Coherence Value of 0.4783\n",
      "Num Topics = 26  has Coherence Value of 0.4719\n",
      "Num Topics = 29  has Coherence Value of 0.4655\n"
     ]
    }
   ],
   "source": [
    "for m, cv in zip(x, coherence_values):\n",
    "    print(\"Num Topics =\", m, \" has Coherence Value of\", round(cv, 4))"
   ]
  },
  {
   "cell_type": "code",
   "execution_count": 22,
   "metadata": {},
   "outputs": [],
   "source": [
    "best = model_list[7]"
   ]
  },
  {
   "cell_type": "code",
   "execution_count": 53,
   "metadata": {},
   "outputs": [
    {
     "data": {
      "text/plain": [
       "[(2,\n",
       "  '0.025*\"referendum\" + 0.025*\"independence\" + 0.023*\"government\" + 0.021*\"spain\" + 0.021*\"catalonia\" + 0.017*\"catalan\" + 0.015*\"people\" + 0.015*\"spanish\" + 0.015*\"vote\" + 0.012*\"police\"'),\n",
       " (3,\n",
       "  '0.023*\"people\" + 0.014*\"year\" + 0.014*\"university\" + 0.014*\"woman\" + 0.012*\"young\" + 0.011*\"white\" + 0.011*\"group\" + 0.010*\"student\" + 0.009*\"school\" + 0.009*\"british\"'),\n",
       " (0,\n",
       "  '0.020*\"people\" + 0.017*\"feel\" + 0.016*\"thing\" + 0.013*\"make\" + 0.010*\"good\" + 0.009*\"lot\" + 0.009*\"politic\" + 0.008*\"talk\" + 0.008*\"view\" + 0.008*\"point\"'),\n",
       " (8,\n",
       "  '0.013*\"report\" + 0.012*\"bbc\" + 0.012*\"guardian\" + 0.011*\"write\" + 0.010*\"week\" + 0.010*\"news\" + 0.010*\"story\" + 0.010*\"medium\" + 0.009*\"include\" + 0.009*\"claim\"'),\n",
       " (12,\n",
       "  '0.021*\"business\" + 0.019*\"bank\" + 0.018*\"company\" + 0.015*\"financial\" + 0.013*\"uk\" + 0.012*\"london\" + 0.012*\"brexit\" + 0.012*\"plan\" + 0.011*\"firm\" + 0.010*\"service\"'),\n",
       " (13,\n",
       "  '0.011*\"play\" + 0.010*\"team\" + 0.010*\"back\" + 0.008*\"home\" + 0.008*\"day\" + 0.008*\"make\" + 0.008*\"big\" + 0.008*\"good\" + 0.007*\"game\" + 0.006*\"season\"'),\n",
       " (16,\n",
       "  '0.027*\"datum\" + 0.013*\"change\" + 0.012*\"system\" + 0.011*\"make\" + 0.011*\"require\" + 0.009*\"process\" + 0.008*\"time\" + 0.008*\"law\" + 0.008*\"business\" + 0.007*\"organisation\"'),\n",
       " (21,\n",
       "  '0.024*\"pay\" + 0.018*\"work\" + 0.016*\"government\" + 0.016*\"people\" + 0.013*\"year\" + 0.011*\"child\" + 0.009*\"home\" + 0.009*\"public\" + 0.009*\"health\" + 0.008*\"local\"'),\n",
       " (10,\n",
       "  '0.043*\"brexit\" + 0.035*\"deal\" + 0.033*\"britain\" + 0.031*\"uk\" + 0.026*\"talk\" + 0.022*\"negotiation\" + 0.020*\"trade\" + 0.017*\"make\" + 0.015*\"eu\" + 0.015*\"brussel\"'),\n",
       " (19,\n",
       "  '0.027*\"trump\" + 0.010*\"president\" + 0.009*\"country\" + 0.009*\"britain\" + 0.008*\"war\" + 0.008*\"world\" + 0.008*\"british\" + 0.008*\"american\" + 0.006*\"state\" + 0.006*\"russia\"'),\n",
       " (22,\n",
       "  '0.031*\"tory\" + 0.028*\"brexit\" + 0.025*\"speech\" + 0.023*\"prime_minister\" + 0.021*\"johnson\" + 0.017*\"cabinet\" + 0.017*\"conservative\" + 0.015*\"conference\" + 0.014*\"party\" + 0.012*\"boris_johnson\"'),\n",
       " (15,\n",
       "  '0.060*\"government\" + 0.023*\"parliament\" + 0.021*\"minister\" + 0.019*\"bill\" + 0.019*\"brexit\" + 0.015*\"common\" + 0.015*\"law\" + 0.014*\"mps\" + 0.013*\"vote\" + 0.012*\"labour\"'),\n",
       " (17,\n",
       "  '0.077*\"party\" + 0.060*\"labour\" + 0.023*\"election\" + 0.021*\"corbyn\" + 0.016*\"vote\" + 0.016*\"leader\" + 0.015*\"conservative\" + 0.014*\"conference\" + 0.013*\"voter\" + 0.012*\"member\"'),\n",
       " (1,\n",
       "  '0.011*\"work\" + 0.011*\"make\" + 0.010*\"write\" + 0.010*\"book\" + 0.009*\"world\" + 0.008*\"history\" + 0.008*\"film\" + 0.007*\"show\" + 0.007*\"art\" + 0.007*\"story\"'),\n",
       " (9,\n",
       "  '0.015*\"economic\" + 0.014*\"public\" + 0.012*\"economy\" + 0.012*\"policy\" + 0.012*\"britain\" + 0.011*\"free\" + 0.009*\"political\" + 0.008*\"state\" + 0.008*\"control\" + 0.007*\"reality\"'),\n",
       " (18,\n",
       "  '0.046*\"brexit\" + 0.030*\"leave\" + 0.027*\"uk\" + 0.026*\"british\" + 0.023*\"vote\" + 0.022*\"referendum\" + 0.020*\"britain\" + 0.017*\"country\" + 0.016*\"remain\" + 0.015*\"citizen\"'),\n",
       " (14,\n",
       "  '0.026*\"people\" + 0.018*\"make\" + 0.018*\"business\" + 0.015*\"world\" + 0.012*\"social\" + 0.011*\"create\" + 0.009*\"model\" + 0.008*\"money\" + 0.007*\"wealth\" + 0.007*\"thing\"'),\n",
       " (20,\n",
       "  '0.029*\"year\" + 0.024*\"rise\" + 0.019*\"growth\" + 0.017*\"bank\" + 0.016*\"fall\" + 0.014*\"increase\" + 0.013*\"month\" + 0.012*\"economy\" + 0.012*\"rate\" + 0.011*\"high\"'),\n",
       " (7,\n",
       "  '0.047*\"uk\" + 0.031*\"work\" + 0.030*\"job\" + 0.022*\"worker\" + 0.016*\"industry\" + 0.013*\"business\" + 0.011*\"skill\" + 0.011*\"plan\" + 0.009*\"technology\" + 0.009*\"accord\"'),\n",
       " (11,\n",
       "  '0.017*\"security\" + 0.013*\"country\" + 0.012*\"major\" + 0.012*\"hope\" + 0.012*\"include\" + 0.010*\"continue\" + 0.010*\"risk\" + 0.010*\"threat\" + 0.009*\"make\" + 0.009*\"defence\"')]"
      ]
     },
     "execution_count": 53,
     "metadata": {},
     "output_type": "execute_result"
    }
   ],
   "source": [
    "best.print_topics()"
   ]
  },
  {
   "cell_type": "code",
   "execution_count": 25,
   "metadata": {},
   "outputs": [
    {
     "name": "stderr",
     "output_type": "stream",
     "text": [
      "c:\\users\\jdward\\appdata\\local\\continuum\\anaconda3\\envs\\elastic\\lib\\site-packages\\pyLDAvis\\_prepare.py:223: RuntimeWarning: divide by zero encountered in log\n",
      "  kernel = (topic_given_term * np.log((topic_given_term.T / topic_proportion).T))\n",
      "c:\\users\\jdward\\appdata\\local\\continuum\\anaconda3\\envs\\elastic\\lib\\site-packages\\pyLDAvis\\_prepare.py:240: RuntimeWarning: divide by zero encountered in log\n",
      "  log_lift = np.log(topic_term_dists / term_proportion)\n",
      "c:\\users\\jdward\\appdata\\local\\continuum\\anaconda3\\envs\\elastic\\lib\\site-packages\\pyLDAvis\\_prepare.py:241: RuntimeWarning: divide by zero encountered in log\n",
      "  log_ttd = np.log(topic_term_dists)\n",
      "c:\\users\\jdward\\appdata\\local\\continuum\\anaconda3\\envs\\elastic\\lib\\site-packages\\pyLDAvis\\_prepare.py:257: FutureWarning: Sorting because non-concatenation axis is not aligned. A future version\n",
      "of pandas will change to not sort by default.\n",
      "\n",
      "To accept the future behavior, pass 'sort=False'.\n",
      "\n",
      "To retain the current behavior and silence the warning, pass 'sort=True'.\n",
      "\n",
      "  return pd.concat([default_term_info] + list(topic_dfs))\n"
     ]
    }
   ],
   "source": [
    "# Prepare the topic models for the visualizer\n",
    "model = gensim.models.wrappers.ldamallet.malletmodel2ldamodel(best)\n",
    "vis = pyLDAvis.gensim.prepare(model, corpus, id2word)"
   ]
  },
  {
   "cell_type": "code",
   "execution_count": 41,
   "metadata": {},
   "outputs": [
    {
     "name": "stdout",
     "output_type": "stream",
     "text": [
      "\n",
      "Note: if you're in the IPython notebook, pyLDAvis.show() is not the best command\n",
      "      to use. Consider using pyLDAvis.display(), or pyLDAvis.enable_notebook().\n",
      "      See more information at http://pyLDAvis.github.io/quickstart.html .\n",
      "\n",
      "You must interrupt the kernel to end this command\n",
      "\n",
      "Serving to http://127.0.0.1:8889/    [Ctrl-C to exit]\n"
     ]
    },
    {
     "name": "stderr",
     "output_type": "stream",
     "text": [
      "127.0.0.1 - - [12/Aug/2019 08:56:47] \"GET / HTTP/1.1\" 200 -\n",
      "127.0.0.1 - - [12/Aug/2019 08:56:47] \"GET /LDAvis.css HTTP/1.1\" 200 -\n",
      "127.0.0.1 - - [12/Aug/2019 08:56:47] \"GET /d3.js HTTP/1.1\" 200 -\n",
      "127.0.0.1 - - [12/Aug/2019 08:56:47] code 404, message Not Found\n",
      "127.0.0.1 - - [12/Aug/2019 08:56:47] \"GET /favicon.ico HTTP/1.1\" 404 -\n",
      "----------------------------------------\n",
      "Exception happened during processing of request from ('127.0.0.1', 52539)\n",
      "Traceback (most recent call last):\n",
      "  File \"c:\\users\\jdward\\appdata\\local\\continuum\\anaconda3\\envs\\elastic\\lib\\socketserver.py\", line 316, in _handle_request_noblock\n",
      "    self.process_request(request, client_address)\n",
      "  File \"c:\\users\\jdward\\appdata\\local\\continuum\\anaconda3\\envs\\elastic\\lib\\socketserver.py\", line 347, in process_request\n",
      "    self.finish_request(request, client_address)\n",
      "  File \"c:\\users\\jdward\\appdata\\local\\continuum\\anaconda3\\envs\\elastic\\lib\\socketserver.py\", line 360, in finish_request\n",
      "    self.RequestHandlerClass(request, client_address, self)\n",
      "  File \"c:\\users\\jdward\\appdata\\local\\continuum\\anaconda3\\envs\\elastic\\lib\\socketserver.py\", line 720, in __init__\n",
      "    self.handle()\n",
      "  File \"c:\\users\\jdward\\appdata\\local\\continuum\\anaconda3\\envs\\elastic\\lib\\http\\server.py\", line 426, in handle\n",
      "    self.handle_one_request()\n",
      "  File \"c:\\users\\jdward\\appdata\\local\\continuum\\anaconda3\\envs\\elastic\\lib\\http\\server.py\", line 414, in handle_one_request\n",
      "    method()\n",
      "  File \"c:\\users\\jdward\\appdata\\local\\continuum\\anaconda3\\envs\\elastic\\lib\\site-packages\\pyLDAvis\\_server.py\", line 52, in do_GET\n",
      "    self.send_error(404)\n",
      "  File \"c:\\users\\jdward\\appdata\\local\\continuum\\anaconda3\\envs\\elastic\\lib\\http\\server.py\", line 481, in send_error\n",
      "    self.wfile.write(body)\n",
      "  File \"c:\\users\\jdward\\appdata\\local\\continuum\\anaconda3\\envs\\elastic\\lib\\socketserver.py\", line 799, in write\n",
      "    self._sock.sendall(b)\n",
      "ConnectionAbortedError: [WinError 10053] An established connection was aborted by the software in your host machine\n",
      "----------------------------------------\n",
      "127.0.0.1 - - [12/Aug/2019 08:56:47] \"GET /LDAvis.js HTTP/1.1\" 200 -\n"
     ]
    },
    {
     "name": "stdout",
     "output_type": "stream",
     "text": [
      "\n",
      "stopping Server...\n"
     ]
    }
   ],
   "source": [
    "pyLDAvis.show(vis)"
   ]
  },
  {
   "cell_type": "code",
   "execution_count": 40,
   "metadata": {},
   "outputs": [],
   "source": [
    "# filehandler = open('optimal_23_topic_model', 'wb') \n",
    "# pickle.dump(vis, filehandler)"
   ]
  },
  {
   "cell_type": "code",
   "execution_count": 43,
   "metadata": {},
   "outputs": [],
   "source": [
    "filehandler = open('optimal_23_topic_model', 'rb') \n",
    "vis = pickle.load(filehandler)"
   ]
  },
  {
   "cell_type": "markdown",
   "metadata": {},
   "source": [
    "### Finding the most representative sentences per topic"
   ]
  },
  {
   "cell_type": "code",
   "execution_count": 36,
   "metadata": {},
   "outputs": [
    {
     "data": {
      "text/html": [
       "<div>\n",
       "<style scoped>\n",
       "    .dataframe tbody tr th:only-of-type {\n",
       "        vertical-align: middle;\n",
       "    }\n",
       "\n",
       "    .dataframe tbody tr th {\n",
       "        vertical-align: top;\n",
       "    }\n",
       "\n",
       "    .dataframe thead th {\n",
       "        text-align: right;\n",
       "    }\n",
       "</style>\n",
       "<table border=\"1\" class=\"dataframe\">\n",
       "  <thead>\n",
       "    <tr style=\"text-align: right;\">\n",
       "      <th></th>\n",
       "      <th>Document_No</th>\n",
       "      <th>Dominant_Topic</th>\n",
       "      <th>Topic_Perc_Contrib</th>\n",
       "      <th>Keywords</th>\n",
       "      <th>Text</th>\n",
       "    </tr>\n",
       "  </thead>\n",
       "  <tbody>\n",
       "    <tr>\n",
       "      <th>0</th>\n",
       "      <td>0</td>\n",
       "      <td>10.0</td>\n",
       "      <td>0.1930</td>\n",
       "      <td>brexit, deal, britain, uk, talk, negotiation, ...</td>\n",
       "      <td>In the first of two extracts from their new bo...</td>\n",
       "    </tr>\n",
       "    <tr>\n",
       "      <th>1</th>\n",
       "      <td>1</td>\n",
       "      <td>15.0</td>\n",
       "      <td>0.1344</td>\n",
       "      <td>government, parliament, minister, bill, brexit...</td>\n",
       "      <td>Having already called his boss a lazy bully wh...</td>\n",
       "    </tr>\n",
       "    <tr>\n",
       "      <th>2</th>\n",
       "      <td>2</td>\n",
       "      <td>8.0</td>\n",
       "      <td>0.2567</td>\n",
       "      <td>report, bbc, guardian, write, week, news, stor...</td>\n",
       "      <td>Listen to the Telegraph's weekly Brexit podcas...</td>\n",
       "    </tr>\n",
       "    <tr>\n",
       "      <th>3</th>\n",
       "      <td>3</td>\n",
       "      <td>18.0</td>\n",
       "      <td>0.3085</td>\n",
       "      <td>brexit, leave, uk, british, vote, referendum, ...</td>\n",
       "      <td>The UK will rejoin the EU within five years af...</td>\n",
       "    </tr>\n",
       "    <tr>\n",
       "      <th>4</th>\n",
       "      <td>4</td>\n",
       "      <td>18.0</td>\n",
       "      <td>0.3165</td>\n",
       "      <td>brexit, leave, uk, british, vote, referendum, ...</td>\n",
       "      <td>The UK will rejoin the EU within five years af...</td>\n",
       "    </tr>\n",
       "    <tr>\n",
       "      <th>5</th>\n",
       "      <td>5</td>\n",
       "      <td>10.0</td>\n",
       "      <td>0.2870</td>\n",
       "      <td>brexit, deal, britain, uk, talk, negotiation, ...</td>\n",
       "      <td>Welcome to the Guardian’s weekly Brexit briefi...</td>\n",
       "    </tr>\n",
       "    <tr>\n",
       "      <th>6</th>\n",
       "      <td>6</td>\n",
       "      <td>22.0</td>\n",
       "      <td>0.3087</td>\n",
       "      <td>tory, brexit, speech, prime_minister, johnson,...</td>\n",
       "      <td>Media reactions to Boris Johnson’s Brexit visi...</td>\n",
       "    </tr>\n",
       "    <tr>\n",
       "      <th>7</th>\n",
       "      <td>7</td>\n",
       "      <td>15.0</td>\n",
       "      <td>0.1109</td>\n",
       "      <td>government, parliament, minister, bill, brexit...</td>\n",
       "      <td>Mark Price, who quit as a government trade min...</td>\n",
       "    </tr>\n",
       "    <tr>\n",
       "      <th>8</th>\n",
       "      <td>8</td>\n",
       "      <td>8.0</td>\n",
       "      <td>0.2168</td>\n",
       "      <td>report, bbc, guardian, write, week, news, stor...</td>\n",
       "      <td>Listen to the Telegraph's weekly Brexit podcas...</td>\n",
       "    </tr>\n",
       "    <tr>\n",
       "      <th>9</th>\n",
       "      <td>9</td>\n",
       "      <td>8.0</td>\n",
       "      <td>0.1756</td>\n",
       "      <td>report, bbc, guardian, write, week, news, stor...</td>\n",
       "      <td>Listen to the Telegraph's weekly Brexit podcas...</td>\n",
       "    </tr>\n",
       "  </tbody>\n",
       "</table>\n",
       "</div>"
      ],
      "text/plain": [
       "   Document_No  Dominant_Topic  Topic_Perc_Contrib  \\\n",
       "0            0            10.0              0.1930   \n",
       "1            1            15.0              0.1344   \n",
       "2            2             8.0              0.2567   \n",
       "3            3            18.0              0.3085   \n",
       "4            4            18.0              0.3165   \n",
       "5            5            10.0              0.2870   \n",
       "6            6            22.0              0.3087   \n",
       "7            7            15.0              0.1109   \n",
       "8            8             8.0              0.2168   \n",
       "9            9             8.0              0.1756   \n",
       "\n",
       "                                            Keywords  \\\n",
       "0  brexit, deal, britain, uk, talk, negotiation, ...   \n",
       "1  government, parliament, minister, bill, brexit...   \n",
       "2  report, bbc, guardian, write, week, news, stor...   \n",
       "3  brexit, leave, uk, british, vote, referendum, ...   \n",
       "4  brexit, leave, uk, british, vote, referendum, ...   \n",
       "5  brexit, deal, britain, uk, talk, negotiation, ...   \n",
       "6  tory, brexit, speech, prime_minister, johnson,...   \n",
       "7  government, parliament, minister, bill, brexit...   \n",
       "8  report, bbc, guardian, write, week, news, stor...   \n",
       "9  report, bbc, guardian, write, week, news, stor...   \n",
       "\n",
       "                                                Text  \n",
       "0  In the first of two extracts from their new bo...  \n",
       "1  Having already called his boss a lazy bully wh...  \n",
       "2  Listen to the Telegraph's weekly Brexit podcas...  \n",
       "3  The UK will rejoin the EU within five years af...  \n",
       "4  The UK will rejoin the EU within five years af...  \n",
       "5  Welcome to the Guardian’s weekly Brexit briefi...  \n",
       "6  Media reactions to Boris Johnson’s Brexit visi...  \n",
       "7  Mark Price, who quit as a government trade min...  \n",
       "8  Listen to the Telegraph's weekly Brexit podcas...  \n",
       "9  Listen to the Telegraph's weekly Brexit podcas...  "
      ]
     },
     "execution_count": 36,
     "metadata": {},
     "output_type": "execute_result"
    }
   ],
   "source": [
    "def format_topics_sentences(ldamodel, corpus, texts):\n",
    "    # Init output\n",
    "    sent_topics_df = pd.DataFrame()\n",
    "\n",
    "    # Get main topic in each document\n",
    "    for i, row in enumerate(ldamodel[corpus]):\n",
    "        row = sorted(row, key=lambda x: (x[1]), reverse=True)\n",
    "        # Get the Dominant topic, Perc Contribution and Keywords for each document\n",
    "        for j, (topic_num, prop_topic) in enumerate(row):\n",
    "            if j == 0:  # => dominant topic\n",
    "                wp = ldamodel.show_topic(topic_num)\n",
    "                topic_keywords = \", \".join([word for word, prop in wp])\n",
    "                sent_topics_df = sent_topics_df.append(pd.Series([int(topic_num), round(prop_topic,4), topic_keywords]), ignore_index=True)\n",
    "            else:\n",
    "                break\n",
    "    sent_topics_df.columns = ['Dominant_Topic', 'Perc_Contribution', 'Topic_Keywords']\n",
    "\n",
    "    # Add original text to the end of the output\n",
    "    contents = pd.Series(texts)\n",
    "    sent_topics_df = pd.concat([sent_topics_df, contents], axis=1)\n",
    "    return(sent_topics_df)\n",
    "\n",
    "\n",
    "df_topic_sents_keywords = format_topics_sentences(ldamodel=best, corpus=corpus, texts=hit_text)\n",
    "\n",
    "# Format\n",
    "df_dominant_topic = df_topic_sents_keywords.reset_index()\n",
    "df_dominant_topic.columns = ['Document_No', 'Dominant_Topic', 'Topic_Perc_Contrib', 'Keywords', 'Text']\n",
    "\n",
    "# Show\n",
    "df_dominant_topic.head(10)"
   ]
  },
  {
   "cell_type": "markdown",
   "metadata": {},
   "source": [
    "### Finding document for each topic"
   ]
  },
  {
   "cell_type": "code",
   "execution_count": 37,
   "metadata": {},
   "outputs": [
    {
     "data": {
      "text/html": [
       "<div>\n",
       "<style scoped>\n",
       "    .dataframe tbody tr th:only-of-type {\n",
       "        vertical-align: middle;\n",
       "    }\n",
       "\n",
       "    .dataframe tbody tr th {\n",
       "        vertical-align: top;\n",
       "    }\n",
       "\n",
       "    .dataframe thead th {\n",
       "        text-align: right;\n",
       "    }\n",
       "</style>\n",
       "<table border=\"1\" class=\"dataframe\">\n",
       "  <thead>\n",
       "    <tr style=\"text-align: right;\">\n",
       "      <th></th>\n",
       "      <th>Topic_Num</th>\n",
       "      <th>Topic_Perc_Contrib</th>\n",
       "      <th>Keywords</th>\n",
       "      <th>Text</th>\n",
       "    </tr>\n",
       "  </thead>\n",
       "  <tbody>\n",
       "    <tr>\n",
       "      <th>0</th>\n",
       "      <td>0.0</td>\n",
       "      <td>0.5813</td>\n",
       "      <td>people, feel, thing, make, good, lot, politic,...</td>\n",
       "      <td>So illustrious is the list that, on second tho...</td>\n",
       "    </tr>\n",
       "    <tr>\n",
       "      <th>1</th>\n",
       "      <td>1.0</td>\n",
       "      <td>0.5847</td>\n",
       "      <td>work, make, write, book, world, history, film,...</td>\n",
       "      <td>The subway invaded the art gallery in 1980s Ne...</td>\n",
       "    </tr>\n",
       "    <tr>\n",
       "      <th>2</th>\n",
       "      <td>2.0</td>\n",
       "      <td>0.6793</td>\n",
       "      <td>referendum, independence, government, spain, c...</td>\n",
       "      <td>The Catalan leader says he \"assumes the mandat...</td>\n",
       "    </tr>\n",
       "    <tr>\n",
       "      <th>3</th>\n",
       "      <td>3.0</td>\n",
       "      <td>0.5667</td>\n",
       "      <td>people, year, university, woman, young, white,...</td>\n",
       "      <td>One in four British people admits to being ‘ve...</td>\n",
       "    </tr>\n",
       "    <tr>\n",
       "      <th>4</th>\n",
       "      <td>4.0</td>\n",
       "      <td>0.7020</td>\n",
       "      <td>europe, european, germany, german, country, pa...</td>\n",
       "      <td>The commanding victory of populist parties in ...</td>\n",
       "    </tr>\n",
       "  </tbody>\n",
       "</table>\n",
       "</div>"
      ],
      "text/plain": [
       "   Topic_Num  Topic_Perc_Contrib  \\\n",
       "0        0.0              0.5813   \n",
       "1        1.0              0.5847   \n",
       "2        2.0              0.6793   \n",
       "3        3.0              0.5667   \n",
       "4        4.0              0.7020   \n",
       "\n",
       "                                            Keywords  \\\n",
       "0  people, feel, thing, make, good, lot, politic,...   \n",
       "1  work, make, write, book, world, history, film,...   \n",
       "2  referendum, independence, government, spain, c...   \n",
       "3  people, year, university, woman, young, white,...   \n",
       "4  europe, european, germany, german, country, pa...   \n",
       "\n",
       "                                                Text  \n",
       "0  So illustrious is the list that, on second tho...  \n",
       "1  The subway invaded the art gallery in 1980s Ne...  \n",
       "2  The Catalan leader says he \"assumes the mandat...  \n",
       "3  One in four British people admits to being ‘ve...  \n",
       "4  The commanding victory of populist parties in ...  "
      ]
     },
     "execution_count": 37,
     "metadata": {},
     "output_type": "execute_result"
    }
   ],
   "source": [
    "# Group top 5 sentences under each topic\n",
    "sent_topics_sorteddf_mallet = pd.DataFrame()\n",
    "\n",
    "sent_topics_outdf_grpd = df_topic_sents_keywords.groupby('Dominant_Topic')\n",
    "\n",
    "for i, grp in sent_topics_outdf_grpd:\n",
    "    sent_topics_sorteddf_mallet = pd.concat([sent_topics_sorteddf_mallet, \n",
    "                                             grp.sort_values(['Perc_Contribution'], ascending=[0]).head(1)], \n",
    "                                            axis=0)\n",
    "\n",
    "# Reset Index    \n",
    "sent_topics_sorteddf_mallet.reset_index(drop=True, inplace=True)\n",
    "\n",
    "# Format\n",
    "sent_topics_sorteddf_mallet.columns = ['Topic_Num', \"Topic_Perc_Contrib\", \"Keywords\", \"Text\"]\n",
    "\n",
    "# Show\n",
    "sent_topics_sorteddf_mallet.head()"
   ]
  },
  {
   "cell_type": "code",
   "execution_count": 56,
   "metadata": {},
   "outputs": [
    {
     "data": {
      "text/plain": [
       "'people, year, university, woman, young, white, group, student, school, british'"
      ]
     },
     "execution_count": 56,
     "metadata": {},
     "output_type": "execute_result"
    }
   ],
   "source": [
    "sent_topics_sorteddf_mallet.Keywords[3]"
   ]
  },
  {
   "cell_type": "code",
   "execution_count": 55,
   "metadata": {},
   "outputs": [
    {
     "data": {
      "text/plain": [
       "\"One in four British people admits to being ‘very’ or ‘a little’ racially prejudiced, according to a new survey. Those in favor of Brexit and those who vote Conservative are more likely to describe themselves in such a way.\\n\\nThe annual ‘Racial Prejudice in Britain Today’ study, conducted by the National Center for Social Research (NatCen) and Runnymede, surveys 2,220 people each year.\\n\\nThis year it found 26 percent of those surveyed admitted to possessing racist attitudes.\\n\\nHowever, when the respondents were divided into groups based on how they voted in the EU referendum, it was revealed that 34 percent of ‘Leave’ supporters describe themselves as very or a little racially prejudiced, compared to 18 percent of ‘Remain’ voters.\\n\\nWhen it came to politics, Conservative supporters were more likely to describe themselves as being racially prejudiced than Labour supporters, coming in at 33 percent and 18 percent, respectively.\\n\\nThe survey also found that men were more likely than women to admit to holding racist attitudes. Twenty-nine percent of males admitted to harboring such feelings, compared to 23 percent of females.\\n\\nHowever, the study seems to suggest that a higher proportion of those surveyed possess racially prejudiced attitudes than are willing to admit it.\\n\\n“Given that racial prejudice is not generally perceived as a positive characteristic, there is good reason to assume that the actual proportion of the British public who are racially prejudiced may be higher,” the study states.\\n\\nFor instance, 44 percent said they would mind if a close relative married a Muslim - far above the number of people who admitted racial prejudice. Seventy percent said “most white people” would mind if a relative tied the knot with a Muslim.\\n\\nNancy Kelley, deputy chief executive of NatCen, said the numbers in the study provide “clear evidence that a significant minority of people in Britain feel prejudiced towards people of other races,” as quoted by the Independent.\\n\\n“Prejudice on this scale is something we as a society should be concerned about, not least as there is a significant body of evidence that even subtle racial prejudices contribute to racial inequality in areas such as education, employment and in the criminal justice system,” she added.\\n\\nKelley also noted that the study appears to show that people are less tolerant when it comes to race than when it comes to same-sex couples, sex outside marriage, and abortion, citing NatCen's British Attitudes Survey which found that views on such topics continue to relax.\\n\\nKhan called for new ways of discussing race and dealing with stereotypes and fears, while also urging policies that tackle racial inequality and allow for more social interaction between people of different racial and ethnic backgrounds.\\n\\nThe NatCen survey has been conducted every year since 1983, and the number of people saying they are racially prejudiced has never fallen below one-quarter. The figure peaked at 37 percent in both 1987 and 2011.\\n\\nThe study comes just days after the ‘UK attitudes toward the Arab world’ poll was released, revealing that more than half of British people would support the racial profiling of Muslims and Arabs for security reasons.\""
      ]
     },
     "execution_count": 55,
     "metadata": {},
     "output_type": "execute_result"
    }
   ],
   "source": [
    "sent_topics_sorteddf_mallet.Text[3]"
   ]
  },
  {
   "cell_type": "code",
   "execution_count": null,
   "metadata": {},
   "outputs": [],
   "source": []
  }
 ],
 "metadata": {
  "kernelspec": {
   "display_name": "Python 3",
   "language": "python",
   "name": "python3"
  },
  "language_info": {
   "codemirror_mode": {
    "name": "ipython",
    "version": 3
   },
   "file_extension": ".py",
   "mimetype": "text/x-python",
   "name": "python",
   "nbconvert_exporter": "python",
   "pygments_lexer": "ipython3",
   "version": "3.7.3"
  }
 },
 "nbformat": 4,
 "nbformat_minor": 2
}
