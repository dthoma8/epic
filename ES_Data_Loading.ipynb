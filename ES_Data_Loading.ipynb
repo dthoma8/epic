{
 "cells": [
  {
   "cell_type": "markdown",
   "metadata": {},
   "source": [
    "# ElasticSearch Data Loading"
   ]
  },
  {
   "cell_type": "code",
   "execution_count": 1,
   "metadata": {},
   "outputs": [],
   "source": [
    "import json, time, os\n",
    "from elasticsearch import Elasticsearch"
   ]
  },
  {
   "cell_type": "markdown",
   "metadata": {},
   "source": [
    "### ES Index\n",
    "Build ES data index from JSONS"
   ]
  },
  {
   "cell_type": "code",
   "execution_count": 2,
   "metadata": {},
   "outputs": [],
   "source": [
    "es = Elasticsearch([{'host': 'localhost', 'port': 9200}])"
   ]
  },
  {
   "cell_type": "code",
   "execution_count": 3,
   "metadata": {},
   "outputs": [],
   "source": [
    "settings = {\n",
    "    \n",
    "    \"test_text\":{\n",
    "        \"mappings\":{\n",
    "            \"dynamic\":\"strict\",\n",
    "            \"properties\":{\n",
    "                \"author\":{\"type\":\"text\"},\n",
    "                \"content\":{\"type\":\"text\"},\n",
    "                \"date\":{\"type\":\"text\"},\n",
    "                \"id\":{\"type\":\"text\"},\n",
    "                \"publication\":{\"type\":\"text\"},\n",
    "                \"title\":{\"type\":\"text\"}\n",
    "                }\n",
    "            }\n",
    "        }\n",
    "    }"
   ]
  },
  {
   "cell_type": "code",
   "execution_count": 4,
   "metadata": {},
   "outputs": [],
   "source": [
    "index_name = \"corpus1.1\" # Name of the index"
   ]
  },
  {
   "cell_type": "code",
   "execution_count": 5,
   "metadata": {},
   "outputs": [
    {
     "data": {
      "text/plain": [
       "{'_index': 'corpus1.1',\n",
       " '_type': '_doc',\n",
       " '_id': '5',\n",
       " '_version': 1,\n",
       " 'result': 'created',\n",
       " '_shards': {'total': 2, 'successful': 1, 'failed': 0},\n",
       " '_seq_no': 0,\n",
       " '_primary_term': 1}"
      ]
     },
     "execution_count": 5,
     "metadata": {},
     "output_type": "execute_result"
    }
   ],
   "source": [
    "es.create(index=index_name, id=5, body=settings)"
   ]
  },
  {
   "cell_type": "code",
   "execution_count": 6,
   "metadata": {},
   "outputs": [],
   "source": [
    "os.chdir(\"C:/Users/hkhan/OneDrive - LMI/Desktop/Workspace/epic/all-the-news-json\")"
   ]
  },
  {
   "cell_type": "code",
   "execution_count": 7,
   "metadata": {},
   "outputs": [
    {
     "name": "stdout",
     "output_type": "stream",
     "text": [
      "Progress: 100.00%\r"
     ]
    }
   ],
   "source": [
    "## Running through nested json files and indexing each on elastic\n",
    "\n",
    "for i1, file in enumerate(os.listdir()):\n",
    "    \n",
    "    i1+=1\n",
    "    \n",
    "    with open(file) as json_file:\n",
    "\n",
    "        f = json.load(json_file)\n",
    "\n",
    "        for i2, j in enumerate(f):\n",
    "            es.index(index=index_name, id=int(f\"{i1}{i2}\"), body=j)\n",
    "            print(\"Progress: {:2.2%}\".format(round(((i2/len(f))), 3)), end=\"\\r\")\n",
    "            \n",
    "    "
   ]
  },
  {
   "cell_type": "markdown",
   "metadata": {},
   "source": [
    "### ES Snapshots\n",
    "Create and restore ES snapshots"
   ]
  },
  {
   "cell_type": "code",
   "execution_count": null,
   "metadata": {},
   "outputs": [],
   "source": [
    "## Close ES index\n",
    "\n",
    "es.indices.close(index='corpus_one_doc')"
   ]
  },
  {
   "cell_type": "code",
   "execution_count": null,
   "metadata": {},
   "outputs": [],
   "source": [
    "## Create repository\n",
    "\n",
    "repository_body = {\n",
    "    \"type\": \"fs\",\n",
    "    \"settings\": {\n",
    "            \"location\": \"C:/Users/hkhan/OneDrive - LMI/Desktop/Workspace/epic/es-backup\"\n",
    "    }\n",
    "}\n",
    "\n",
    "es.snapshot.create_repository(repository='corpus_repository', body=repository_body)"
   ]
  },
  {
   "cell_type": "code",
   "execution_count": null,
   "metadata": {},
   "outputs": [],
   "source": [
    "## Create snapshot in repository\n",
    "\n",
    "snapshot_body = {\n",
    "  \"indices\": \"corpus_one_doc\",\n",
    "  \"ignore_unavailable\": True,\n",
    "  \"include_global_state\": False,\n",
    "  \"metadata\": {\n",
    "    \"taken_by\": \"Hasan\",\n",
    "    \"taken_because\": \"Creating snapshot for git repo\"\n",
    "  }\n",
    "}\n",
    "\n",
    "es.snapshot.create(repository='corpus_repository', snapshot='corpus_snapshot', body=snapshot_body)"
   ]
  },
  {
   "cell_type": "code",
   "execution_count": null,
   "metadata": {},
   "outputs": [],
   "source": [
    "## Retrive snapshot\n",
    "\n",
    "\n",
    "restore_body = {\n",
    "  \"indices\": \"corpus_one_doc\",\n",
    "  \"ignore_unavailable\": True,\n",
    "  \"include_global_state\": True,\n",
    "  \"rename_pattern\": \"index_(.+)\",\n",
    "  \"rename_replacement\": \"restored_index_$1\"\n",
    "}\n",
    "\n",
    "es.snapshot.restore(repository='corpus1_repository', snapshot='corpus1_snapshot', body=restore_body)\n"
   ]
  },
  {
   "cell_type": "code",
   "execution_count": null,
   "metadata": {},
   "outputs": [],
   "source": []
  }
 ],
 "metadata": {
  "kernelspec": {
   "display_name": "Python 3",
   "language": "python",
   "name": "python3"
  },
  "language_info": {
   "codemirror_mode": {
    "name": "ipython",
    "version": 3
   },
   "file_extension": ".py",
   "mimetype": "text/x-python",
   "name": "python",
   "nbconvert_exporter": "python",
   "pygments_lexer": "ipython3",
   "version": "3.6.5"
  }
 },
 "nbformat": 4,
 "nbformat_minor": 2
}
