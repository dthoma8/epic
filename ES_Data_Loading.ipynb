{
 "cells": [
  {
   "cell_type": "markdown",
   "metadata": {},
   "source": [
    "# ElasticSearch Data Loading"
   ]
  },
  {
   "cell_type": "code",
   "execution_count": null,
   "metadata": {},
   "outputs": [],
   "source": [
    "import json, time, os\n",
    "from elasticsearch import Elasticsearch"
   ]
  },
  {
   "cell_type": "markdown",
   "metadata": {},
   "source": [
    "### ES Index\n",
    "Build ES data index from JSONS"
   ]
  },
  {
   "cell_type": "code",
   "execution_count": null,
   "metadata": {},
   "outputs": [],
   "source": [
    "es = Elasticsearch([{'host': 'localhost', 'port': 9200}])"
   ]
  },
  {
   "cell_type": "code",
   "execution_count": null,
   "metadata": {},
   "outputs": [],
   "source": [
    "settings = {\n",
    "    \n",
    "    \"test_text\":{\n",
    "        \"mappings\":{\n",
    "            \"dynamic\":\"strict\",\n",
    "            \"properties\":{\n",
    "                \"author\":{\"type\":\"text\"},\n",
    "                \"content\":{\"type\":\"text\"},\n",
    "                \"date\":{\"type\":\"date\",\"format\":\"yyyy-MM-dd\"},\n",
    "                \"id\":{\"type\":\"text\"},\n",
    "                \"publication\":{\"type\":\"text\"},\n",
    "                \"title\":{\"type\":\"text\"}\n",
    "                }\n",
    "            }\n",
    "        }\n",
    "    }"
   ]
  },
  {
   "cell_type": "code",
   "execution_count": null,
   "metadata": {},
   "outputs": [],
   "source": [
    "index_name = \"corpus2\" # Name of the index"
   ]
  },
  {
   "cell_type": "code",
   "execution_count": null,
   "metadata": {},
   "outputs": [],
   "source": [
    "es.create(index=index_name, id=1, body=settings)"
   ]
  },
  {
   "cell_type": "code",
   "execution_count": null,
   "metadata": {},
   "outputs": [],
   "source": [
    "os.chdir(\"C:/Users/hkhan/OneDrive - LMI/Desktop/Workspace/epic/all-the-news-json\")"
   ]
  },
  {
   "cell_type": "code",
   "execution_count": null,
   "metadata": {},
   "outputs": [],
   "source": [
    "## Running through nested json files and indexing each on elastic\n",
    "\n",
    "for i1, file in enumerate(os.listdir()):\n",
    "    \n",
    "    i1+=1\n",
    "    \n",
    "        with open(file) as json_file:\n",
    "           \n",
    "            f = json.load(json_file)\n",
    "            \n",
    "            for i2, j in enumerate(f):\n",
    "                es.index(index=index_name, id=int(f\"{i1}{i2}\"), body=j)"
   ]
  },
  {
   "cell_type": "markdown",
   "metadata": {},
   "source": [
    "### ES Snapshot\n",
    "Create and restore ES snapshots"
   ]
  },
  {
   "cell_type": "code",
   "execution_count": null,
   "metadata": {},
   "outputs": [],
   "source": [
    "## Close ES index\n",
    "\n",
    "es.indices.close(index='corpus1')"
   ]
  },
  {
   "cell_type": "code",
   "execution_count": null,
   "metadata": {},
   "outputs": [],
   "source": [
    "## Create repository\n",
    "\n",
    "repository_body = {\n",
    "    \"type\": \"fs\",\n",
    "    \"settings\": {\n",
    "            \"location\": \"C:/Users/hkhan/OneDrive - LMI/Desktop/Workspace/es-backup\"\n",
    "    }\n",
    "}\n",
    "\n",
    "es.snapshot.create_repository(repository='corpus1_repository', body=snapshot_body)"
   ]
  },
  {
   "cell_type": "code",
   "execution_count": null,
   "metadata": {},
   "outputs": [],
   "source": [
    "## Create snapshot in repository\n",
    "\n",
    "snapshot_body = {\n",
    "  \"indices\": \"corpus1\",\n",
    "  \"ignore_unavailable\": True,\n",
    "  \"include_global_state\": False,\n",
    "  \"metadata\": {\n",
    "    \"taken_by\": \"Hasan\",\n",
    "    \"taken_because\": \"Creating snapshot for git repo\"\n",
    "  }\n",
    "}\n",
    "\n",
    "es.snapshot.create(repository='corpus1_repository', snapshot='corpus1_snapshot', body=snapshot_body)"
   ]
  },
  {
   "cell_type": "code",
   "execution_count": null,
   "metadata": {},
   "outputs": [],
   "source": [
    "## Retrive snapshot\n",
    "\n",
    "\n",
    "restore_body = {\n",
    "  \"indices\": \"corpus1\",\n",
    "  \"ignore_unavailable\": True,\n",
    "  \"include_global_state\": True,\n",
    "  \"rename_pattern\": \"index_(.+)\",\n",
    "  \"rename_replacement\": \"restored_index_$1\"\n",
    "}\n",
    "\n",
    "es.snapshot.restore(repository='corpus1_repository', snapshot='corpus1_snapshot', body=restore_body)\n"
   ]
  }
 ],
 "metadata": {
  "kernelspec": {
   "display_name": "Python 3",
   "language": "python",
   "name": "python3"
  },
  "language_info": {
   "codemirror_mode": {
    "name": "ipython",
    "version": 3
   },
   "file_extension": ".py",
   "mimetype": "text/x-python",
   "name": "python",
   "nbconvert_exporter": "python",
   "pygments_lexer": "ipython3",
   "version": "3.6.5"
  }
 },
 "nbformat": 4,
 "nbformat_minor": 2
}
