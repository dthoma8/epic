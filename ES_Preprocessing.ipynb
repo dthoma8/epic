{
 "cells": [
  {
   "cell_type": "code",
   "execution_count": null,
   "metadata": {},
   "outputs": [],
   "source": [
    "import pandas as pd\n",
    "import json\n",
    "import os"
   ]
  },
  {
   "cell_type": "markdown",
   "metadata": {},
   "source": [
    "### Explore raw"
   ]
  },
  {
   "cell_type": "code",
   "execution_count": null,
   "metadata": {},
   "outputs": [],
   "source": [
    "df = pd.read_csv(\"C:/Users/hkhan/OneDrive - LMI/Desktop/Workspace/epic/raw_data/all-the-news-csv/articles2.csv\")\n",
    "df['date'].head"
   ]
  },
  {
   "cell_type": "markdown",
   "metadata": {},
   "source": [
    "### Convert to JSON"
   ]
  },
  {
   "cell_type": "code",
   "execution_count": null,
   "metadata": {},
   "outputs": [],
   "source": [
    "os.chdir(\"C:/Users/hkhan/OneDrive - LMI/Desktop/Workspace/epic/raw_data/all-the-news-csv\")\n",
    "\n",
    "for f in os.listdir():\n",
    "    \n",
    "    ## Clean csv\n",
    "    \n",
    "    csv = pd.read_csv(f, parse_dates=['date'])\n",
    "    csv = csv.drop(columns=['url', 'Unnamed: 0', 'year', 'month'])\n",
    "    csv['author'] = csv['author'].fillna('Unknown')\n",
    "    csv['title'] = csv['title'].fillna('Unnamed')\n",
    "    csv = csv.dropna(subset=['date'])\n",
    "    \n",
    "    print(csv.info(), \"\\n\\n\")\n",
    "    \n",
    "    json_name = f.replace(\".csv\", \".json\")\n",
    "    \n",
    "    csv.to_json(json_name, orient='records', date_format='iso', date_unit='s')\n",
    "    "
   ]
  },
  {
   "cell_type": "code",
   "execution_count": null,
   "metadata": {},
   "outputs": [],
   "source": [
    "os.chdir(\"C:/Users/hkhan/OneDrive - LMI/Desktop/Workspace/epic/raw_data/all-the-news-csv\")\n",
    "\n",
    "import heapq\n",
    "import json\n",
    "\n",
    "file = 'articles1.json'\n",
    "\n",
    "with open(file) as json_file:\n",
    "    data = json.load(json_file)\n",
    "\n",
    "data[100]['date']\n",
    "    "
   ]
  },
  {
   "cell_type": "code",
   "execution_count": null,
   "metadata": {},
   "outputs": [],
   "source": []
  }
 ],
 "metadata": {
  "kernelspec": {
   "display_name": "Python 3",
   "language": "python",
   "name": "python3"
  },
  "language_info": {
   "codemirror_mode": {
    "name": "ipython",
    "version": 3
   },
   "file_extension": ".py",
   "mimetype": "text/x-python",
   "name": "python",
   "nbconvert_exporter": "python",
   "pygments_lexer": "ipython3",
   "version": "3.6.5"
  }
 },
 "nbformat": 4,
 "nbformat_minor": 2
}
