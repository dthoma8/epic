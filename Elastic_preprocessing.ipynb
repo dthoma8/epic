{
 "cells": [
  {
   "cell_type": "code",
   "execution_count": 2,
   "metadata": {},
   "outputs": [],
   "source": [
    "import pandas as pd\n",
    "import json\n",
    "import os"
   ]
  },
  {
   "cell_type": "code",
   "execution_count": 3,
   "metadata": {},
   "outputs": [],
   "source": [
    "os.chdir(\"C:/Users/hkhan/OneDrive - LMI/Desktop/Workspace/epic/all-the-news\")"
   ]
  },
  {
   "cell_type": "markdown",
   "metadata": {},
   "source": [
    "### Explore raw"
   ]
  },
  {
   "cell_type": "code",
   "execution_count": 20,
   "metadata": {
    "collapsed": true
   },
   "outputs": [
    {
     "data": {
      "text/plain": [
       "0        2017-01-11\n",
       "1        2017-01-11\n",
       "2        2017-01-11\n",
       "3        2017-01-11\n",
       "4        2017-01-11\n",
       "5        2017-01-11\n",
       "6        2017-01-11\n",
       "7        2017-01-11\n",
       "8        2017-01-12\n",
       "9        2017-01-12\n",
       "10       2017-01-12\n",
       "11       2017-01-12\n",
       "12       2017-01-12\n",
       "13       2017-01-12\n",
       "14       2017-01-12\n",
       "15       2017-01-12\n",
       "16       2017-01-12\n",
       "17       2017-01-12\n",
       "18       2017-01-12\n",
       "19       2017-01-12\n",
       "20       2017-01-12\n",
       "21       2017-01-12\n",
       "22       2017-01-12\n",
       "23       2017-01-12\n",
       "24       2017-01-12\n",
       "25       2017-01-12\n",
       "26       2017-01-12\n",
       "27       2017-01-12\n",
       "28       2017-01-12\n",
       "29       2017-01-12\n",
       "            ...    \n",
       "49969    2016-05-31\n",
       "49970    2016-09-09\n",
       "49971    2016-11-16\n",
       "49972    2016-06-19\n",
       "49973    2016-11-08\n",
       "49974    2016-07-14\n",
       "49975    2016-06-24\n",
       "49976    2016-05-28\n",
       "49977    2016-09-06\n",
       "49978    2016-11-09\n",
       "49979    2016-07-04\n",
       "49980    2016-09-30\n",
       "49981    2016-10-09\n",
       "49982    2016-07-25\n",
       "49983    2016-09-10\n",
       "49984    2016-08-30\n",
       "49985    2016-11-03\n",
       "49986    2016-12-11\n",
       "49987    2016-10-07\n",
       "49988    2016-11-18\n",
       "49989    2016-11-11\n",
       "49990    2016-11-27\n",
       "49991    2016-07-02\n",
       "49992    2016-10-15\n",
       "49993    2016-07-03\n",
       "49994    2016-08-12\n",
       "49995    2016-08-28\n",
       "49996    2016-09-16\n",
       "49997    2016-12-26\n",
       "49998    2016-07-15\n",
       "Name: date, Length: 49999, dtype: object"
      ]
     },
     "execution_count": 20,
     "metadata": {},
     "output_type": "execute_result"
    }
   ],
   "source": [
    "df = pd.read_csv(\"C:/Users/hkhan/OneDrive - LMI/Desktop/Workspace/epic/all-the-news/articles2.csv\")\n",
    "df['date']"
   ]
  },
  {
   "cell_type": "markdown",
   "metadata": {},
   "source": [
    "### Convert to JSON"
   ]
  },
  {
   "cell_type": "code",
   "execution_count": 19,
   "metadata": {},
   "outputs": [
    {
     "name": "stdout",
     "output_type": "stream",
     "text": [
      "<class 'pandas.core.frame.DataFrame'>\n",
      "Int64Index: 50000 entries, 0 to 49999\n",
      "Data columns (total 6 columns):\n",
      "id             50000 non-null int64\n",
      "title          50000 non-null object\n",
      "publication    50000 non-null object\n",
      "author         50000 non-null object\n",
      "date           50000 non-null object\n",
      "content        50000 non-null object\n",
      "dtypes: int64(1), object(5)\n",
      "memory usage: 2.7+ MB\n",
      "None \n",
      "\n",
      "\n",
      "<class 'pandas.core.frame.DataFrame'>\n",
      "Int64Index: 47373 entries, 0 to 49998\n",
      "Data columns (total 6 columns):\n",
      "id             47373 non-null int64\n",
      "title          47373 non-null object\n",
      "publication    47373 non-null object\n",
      "author         47373 non-null object\n",
      "date           47373 non-null object\n",
      "content        47373 non-null object\n",
      "dtypes: int64(1), object(5)\n",
      "memory usage: 2.5+ MB\n",
      "None \n",
      "\n",
      "\n",
      "<class 'pandas.core.frame.DataFrame'>\n",
      "Int64Index: 42556 entries, 0 to 42570\n",
      "Data columns (total 6 columns):\n",
      "id             42556 non-null int64\n",
      "title          42556 non-null object\n",
      "publication    42556 non-null object\n",
      "author         42556 non-null object\n",
      "date           42556 non-null object\n",
      "content        42556 non-null object\n",
      "dtypes: int64(1), object(5)\n",
      "memory usage: 2.3+ MB\n",
      "None \n",
      "\n",
      "\n"
     ]
    }
   ],
   "source": [
    "for f in os.listdir():\n",
    "    \n",
    "    ## Clean csv\n",
    "    \n",
    "    csv = pd.read_csv(f)\n",
    "    csv = csv.drop(columns=['url', 'Unnamed: 0', 'year', 'month'])\n",
    "    csv['author'] = csv['author'].fillna('Unknown')\n",
    "    csv['title'] = csv['title'].fillna('Unnamed')\n",
    "    csv = csv.dropna(subset=['date'])\n",
    "    \n",
    "    #print(csv.info(), \"\\n\\n\")\n",
    "    \n",
    "    json_name = f.replace(\".csv\", \".json\")\n",
    "    \n",
    "    csv.to_json(json_name, orient='records')\n",
    "    "
   ]
  }
 ],
 "metadata": {
  "kernelspec": {
   "display_name": "Python 3",
   "language": "python",
   "name": "python3"
  },
  "language_info": {
   "codemirror_mode": {
    "name": "ipython",
    "version": 3
   },
   "file_extension": ".py",
   "mimetype": "text/x-python",
   "name": "python",
   "nbconvert_exporter": "python",
   "pygments_lexer": "ipython3",
   "version": "3.6.5"
  }
 },
 "nbformat": 4,
 "nbformat_minor": 2
}
