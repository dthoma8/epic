{
 "cells": [
  {
   "cell_type": "code",
   "execution_count": 1,
   "metadata": {},
   "outputs": [],
   "source": [
    "import json, time, os\n",
    "from elasticsearch import Elasticsearch"
   ]
  },
  {
   "cell_type": "markdown",
   "metadata": {},
   "source": [
    "### Connecting to ElasticSearch instance"
   ]
  },
  {
   "cell_type": "code",
   "execution_count": 2,
   "metadata": {},
   "outputs": [
    {
     "data": {
      "text/plain": [
       "<Elasticsearch([{'host': 'localhost', 'port': 9200}])>"
      ]
     },
     "execution_count": 2,
     "metadata": {},
     "output_type": "execute_result"
    }
   ],
   "source": [
    "es = Elasticsearch([{'host': 'localhost', 'port': 9200}])\n",
    "es"
   ]
  },
  {
   "cell_type": "markdown",
   "metadata": {},
   "source": [
    "### Querying for Brexit Text"
   ]
  },
  {
   "cell_type": "code",
   "execution_count": 8,
   "metadata": {},
   "outputs": [
    {
     "name": "stdout",
     "output_type": "stream",
     "text": [
      "0.016999006271362305\n"
     ]
    },
    {
     "data": {
      "text/plain": [
       "{'took': 12,\n",
       " 'timed_out': False,\n",
       " '_shards': {'total': 1, 'successful': 1, 'skipped': 0, 'failed': 0},\n",
       " 'hits': {'total': {'value': 1745, 'relation': 'eq'},\n",
       "  'max_score': 8.370473,\n",
       "  'hits': [{'_index': 'epic_text',\n",
       "    '_type': '_doc',\n",
       "    '_id': '151089',\n",
       "    '_score': 8.370473,\n",
       "    '_source': {'category': 'general',\n",
       "     'url': 'http://www.telegraph.co.uk/business/2017/09/16/biggest-problem-soft-brexit-not-attainable/',\n",
       "     'text': 'In the first of two extracts from their new book, Liam Halligan and Gerard Lyons say the commonly held belief that Britain would be better off inside the single market and customs union is misconceived\\n\\nThere has been much talk of “Hard Brexit” versus “Soft Brexit”. Such labels are ubiquitous during these Article 50 negotiations – used freely by the broadcast media – yet they are partisan and deeply misleading. Hard Brexit makes leaving the European Union sound extreme and damaging, suggesting isola\\xadtion and a bleak economic future. Soft Brexit, conversely, conveys a comfortable, ongoing relationship with the EU, with Britain still “part of the club”.\\n\\nLeaving the single market and the customs union isn’t Hard Brexit – even if the name is deliberately coined to sound painful. It is simply Brexit. Staying inside the EU’s two main legal constructs, meanwhile, isn’t a harmonious Soft Brexit. It amounts, instead, to a deliberate and cynical failure to implement the 2016 referendum result.',\n",
       "     'source': 'http://www.telegraph.co.uk/newsfeed/rss/money_pf.xml'}},\n",
       "   {'_index': 'epic_text',\n",
       "    '_type': '_doc',\n",
       "    '_id': '15609',\n",
       "    '_score': 8.296646,\n",
       "    '_source': {'category': 'russiatoday',\n",
       "     'url': 'https://www.rt.com/uk/403704-james-chapman-brexit-referendum/?utm_source=rss&utm_medium=rss&utm_campaign=RSS',\n",
       "     'text': 'Having already called his boss a lazy bully who can’t even make a sandwich, David Davis’ former adviser is offering new hope to ‘Remainers’ with the bold claim that “Brexit can be stopped.”\\n\\nJames Chapman, who used to advise the Brexit secretary, was speaking at the Liberal Democrat annual conference in Bournemouth on Monday to call for last year’s EU referendum to be “overthrown.”\\n\\nThe Liberal Democrats are the only mainstream party openly pushing for Brexit to be scrapped.\\n\\nWhile much attention has been given to Article 50 of the Lisbon Treaty, the triggering of which officially kicked off the two-year Brexit process in March, Chapman argues there is another piece of legislation the government has to trigger in order for Brexit to come into effect.\\n\\nAccording to the ex-adviser, Article 127 of the European Economic Area (EEA) Agreement, which rescinds the UK’s membership to the EU’s single market, must also be signed off by the PM in order for ‘Leave’ to become a reality.\\n\\nChapman argues this could offer the perfect chance to collapse the whole process and “overthrow” the referendum result. The government, however, argues Article 50 is enough to automatically take the UK out of the EEA too.\\n\\nChapman himself was one of the people responsible for selling Brexit to the media and public while chief of staff in the Department for Exiting the EU (DExEU) before he resigned in June.\\n\\nHe has since had a very public political conversion on Twitter. In August, he said Brexit would be a “catastrophe,” calling on “sensible MPs” to admit it and form a centrist party with the aim of reversing Brexit.\\n\\nIt was his very undiplomatic revelations about his former boss Davis, however, which put Chapman under the spotlight. These include:\\n\\nAllegations that Davis is cozying up with BBC journalists.\\n\\nThe Brexit Secretary relies on third parties to stir the six teaspoons of sugar he adds to his tea.\\n\\nAnd the fact that the Brexit chief got Michael Barnier mixed up with a far-right friend.\\n\\nChapman also made the bold suggestion Davis is lazy as he only works three days a week.',\n",
       "     'source': 'https://www.rt.com/rss/uk/'}},\n",
       "   {'_index': 'epic_text',\n",
       "    '_type': '_doc',\n",
       "    '_id': '2628',\n",
       "    '_score': 8.266838,\n",
       "    '_source': {'category': 'general',\n",
       "     'url': 'http://www.telegraph.co.uk/news/2017/09/29/make-jacob-rees-mogg-party-chairman-help-conservatives-rediscover/',\n",
       "     'text': \"Listen to the Telegraph's weekly Brexit podcast, hosted by Chief Political Correspondent Christopher 'Chopper' Hope and recorded at the historic Red Lion pub, a stone's throw from the Houses of Parliament.\\n\\nIn this bumper episode, Chopper's Brexit Podcast is at the Labour Party Conference where Christopher Hope speaks to Shadow Brexit Secretary, Sir Keir Starmer, about Labour's elusive Brexit policy. He also catches up with some of the finest minds on Fleet Street for their analysis of the conference highlights. Back in the studio, the podcast is joined by a pair of true-blue think tanks and a senior grass roots Conservative for a look ahead to the Conservative Party Conference. Senior Political Correspondent Kate McCann offers her view on Labour's policies, and Brexit Commissioning Editor Asa Bennett highlights some good news which you might have missed in our new feature, #DespiteBrexit.\\n\\nRevisit the previous series of Chopper's Brexit Podcast here.\\n\\nTo listen offline, subscribe to the podcast:\",\n",
       "     'source': 'http://www.telegraph.co.uk/newsfeed/rss/news_breaking.xml'}},\n",
       "   {'_index': 'epic_text',\n",
       "    '_type': '_doc',\n",
       "    '_id': '39934',\n",
       "    '_score': 8.220494,\n",
       "    '_source': {'category': 'russiatoday',\n",
       "     'url': 'https://www.rt.com/uk/406462-richard-branson-brexit-die/?utm_source=rss&utm_medium=rss&utm_campaign=RSS',\n",
       "     'text': 'The UK will rejoin the EU within five years after ‘Leave’ voters have “died off”, businessman Sir Richard Branson has said, describing Brexit as “the saddest thing that has ever happened to Europe and what was Great Britain”.\\n\\nBranson said the Brexit vote was as if “the older group of British people took a gun and shot at their feet” after being misled by Leave campaigners, including Foreign Secretary Boris Johnson.\\n\\n“There was a ghastly, ghastly misrepresentation of reality, a picture was painted that was completely unreal,” he told Irish broadcaster RTÉ.\\n\\nHe said young people “overwhelmingly” want to be part of Europe, and will continue fighting to rejoin the European bloc.\\n\\n“The older generation is dying off. Whether there’s a second referendum before Brexit happens, I’m sure the Tory party will do their best not to allow that to happen, within five years there will be a government in power in Britain that will ask Europe for a chance for Britain to re-enter,” said the billionaire.\\n\\n“And because there are so many young people who will be a little older by then, and so many older [people] who voted for Brexit will have died off, I think Britain will become a part of Europe again.”\\n\\nBranson added that it is a “pity” that so much “time and energy” was expended on Brexit at a time when money could be spent on “much more positive things”.\\n\\n“Britain was doing really well before the Brexit announcement. Since the Brexit announcement, we’ve dropped to the bottom of all European countries, as far as Brexit is concerned, and this is just a taste of what is going to happen,” he said.\\n\\n“I think Britain is going to continue sliding down and down. That’s very sad.”\\n\\nThe Virgin Group founder has previously called for a second referendum to give Britain a chance to cast its vote again.\\n\\nFollowing the vote, Branson urged parliament to take a second look at the result after expressing deep concerns about the decision to leave the EU.\\n\\nEarlier this month, the business magnate, whose fortune is estimated to be £3.8 billion by Forbes, revealed that Brexit has cost his business “tens of millions of pounds”.',\n",
       "     'source': 'https://www.rt.com/rss/uk/'}},\n",
       "   {'_index': 'epic_text',\n",
       "    '_type': '_doc',\n",
       "    '_id': '408046',\n",
       "    '_score': 8.220494,\n",
       "    '_source': {'category': 'russiatoday',\n",
       "     'url': 'https://www.rt.com/uk/406462-richard-branson-brexit-die/?utm_source=rss&utm_medium=rss&utm_campaign=RSS',\n",
       "     'text': 'The UK will rejoin the EU within five years after ‘Leave’ voters have “died off”, businessman Sir Richard Branson has said, describing Brexit as “the saddest thing that has ever happened to Europe and what was Great Britain”.\\n\\nBranson said the Brexit vote was as if “the older group of British people took a gun and shot at their feet” after being misled by Leave campaigners, including Foreign Secretary Boris Johnson.\\n\\n“There was a ghastly, ghastly misrepresentation of reality, a picture was painted that was completely unreal,” he told Irish broadcaster RTÉ.\\n\\nHe said young people “overwhelmingly” want to be part of Europe, and will continue fighting to rejoin the European bloc.\\n\\n“The older generation is dying off. Whether there’s a second referendum before Brexit happens, I’m sure the Tory party will do their best not to allow that to happen, within five years there will be a government in power in Britain that will ask Europe for a chance for Britain to re-enter,” said the billionaire.\\n\\n“And because there are so many young people who will be a little older by then, and so many older [people] who voted for Brexit will have died off, I think Britain will become a part of Europe again.”\\n\\nBranson added that it is a “pity” that so much “time and energy” was expended on Brexit at a time when money could be spent on “much more positive things”.\\n\\n“Britain was doing really well before the Brexit announcement. Since the Brexit announcement, we’ve dropped to the bottom of all European countries, as far as Brexit is concerned, and this is just a taste of what is going to happen,” he said.\\n\\n“I think Britain is going to continue sliding down and down. That’s very sad.”\\n\\nThe Virgin Group founder has previously called for a second referendum to give Britain a chance to cast its vote again.\\n\\nFollowing the vote, Branson urged parliament to take a second look at the result after expressing deep concerns about the decision to leave the EU.\\n\\nEarlier this month, the business magnate, whose fortune is estimated to be £3.8 billion by Forbes, revealed that Brexit has cost his business “tens of millions of pounds”.',\n",
       "     'source': 'https://www.rt.com/rss/uk/'}},\n",
       "   {'_index': 'epic_text',\n",
       "    '_type': '_doc',\n",
       "    '_id': '23268',\n",
       "    '_score': 8.208165,\n",
       "    '_source': {'category': 'general',\n",
       "     'url': 'https://www.theguardian.com/politics/2017/sep/26/brexit-weekly-briefing-mays-florence-speech-fails-to-unblock-talks',\n",
       "     'text': 'Welcome to the Guardian’s weekly Brexit briefing, a summary of developments as the UK heads towards the EU door marked “exit”. If you would like to receive it as a weekly early morning email, please sign up here.\\n\\nYou can listen to our latest Brexit Means podcast here. Also: producing the Guardian’s independent, in-depth journalism takes a lot of time and money. We do it because we believe our perspective matters – and it may be your perspective too.\\n\\nIf you value our Brexit coverage, please become a Guardian Supporter and help make our future more secure. Thank you.\\n\\nIt was all about the speech, and then it was all about whether the speech would do the job it was intended to do. Apparently, it didn’t.\\n\\nIn a nondescript room in Florence on Friday, before an audience composed mainly of British journalists, Theresa May tried to explain, again, what “Brexit means Brexit” might actually mean.\\n\\nWith article 50 divorce talks stalled in Brussels, her first task was to unblock them – while not ceding so much to the EU that she antagonised the Conservative Brexit ultras in her own cabinet and parliament.\\n\\nSo she offered a two-year transition period after Brexit day: existing rules and market access would stay the same, and Britain would keep paying into the EU until 2020 so no other member would lose out during the bloc’s current budget round.\\n\\nShe also made clear for the first time that Britain would “honour commitments it has made during the period of our membership”, possibly opening the door to longer-term payments for projects extending well beyond Brexit.\\n\\nMay also made concessions on citizens’ rights, especially on the involvement of the European court of justice. Once again, though, she failed to say what kind of Brexit she wanted – only what kind she didn’t want, namely a high-access but low-control arrangement like Norway’s, or a low-access, high-control deal like Canada’s. Britain’s deal has to be special.\\n\\nIt’s unclear how far her cabinet are united behind all this. Reports suggested the foreign secretary, Boris Johnson, had forced her to keep the transition period short and drop the “Norway option” as a post-Brexit possibility.\\n\\nThe prime minister spoke lyrically (well, as lyrically as May can) about the “shared challenge” that is Brexit, calling on the EU to be “imaginative and realistic” in devising a deal that “works well for everyone”.\\n\\nSadly, that’s not the way most Europeans see it. On the continent, where people have largely moved on from Brexit, Britain’s decision to shoot itself in the foot is seen as Britain’s problem. “Be creative,” says the UK. “We have rules,” say the EU.\\n\\nSo Michel Barnier, the EU’s chief negotiator, called May’s intervention “a step forward” but asked for “concrete implications”. The French president, Emmanuel Macron, called for “further clarification”.\\n\\nBarnier doubled down on Monday, as the fourth round of Brexit talks got under way in Brussels, demanding “more clarity” and suggesting May’s speech had changed little, certainly on the sequencing of the talks.\\n\\nThe EU still needed to see “sufficient progress” on citizens’ rights, the financial settlement and the Irish border before it would discuss future trade, and May’s €20bn (£17.6bn) offer did not mean the UK would be given a transition period, he said.\\n\\nIn other words, Europe will decide. There was bad news from Berlin, too, where chancellor Angela Merkel’s expected re-election for a fourth term came with strings attached as as her Christian Democrats shed support and the far-right AfD surged, somewhat spoiling her party.\\n\\nBrexiters’ hopes that with the election behind her, Merkel might listen to what they consider common sense and push for a favourable deal were always misplaced, of course: Germany’s economic interests lie firmly with the single market.\\n\\nBut her weakened position means that regardless of whether she was so inclined, Merkel will have no time for Brexit. Coalition talks, probably with the pro-business FDP and Greens, could take months, and then she’ll have enough problems of her own.\\n\\nBrexit might be the most pressing and dramatic political issue to face the UK for decades, but you might be forgiven for not noticing if you’d spent the last couple of days at Labour’s annual conference.\\n\\nDelegates in Brighton did get an address by Keir Starmer, the shadow Brexit secretary, as part of a session on Brexit and wider international relations, but what they most certainly did not get was a chance to change the party’s policy by having a vote over freedom of movement or long-term membership of the EU’s single market.\\n\\nThese had been among the options potentially up for debate at the conference, but delegates did not vote in sufficient numbers for them, in part after Momentum encouraged its supporters to seek other options.\\n\\nWhy not vote on such a pressing issue? The simple answer is to give the leadership an easier life. Jeremy Corbyn and Starmer are pursuing a Brexit policy based on what could politely be called managed ambiguity – keeping the promises as vague and fluffy as possible while the Conservatives fight like rats in a sack.\\n\\nAfter a summer policy tweak, Labour is now committed to staying in the single market (and customs union) during a transition period. Beyond that – well, the official stance is to seek full access to the single market along with curbing free movement, which of course is probably impossible.\\n\\nLabour’s membership is seen as more pro-EU than Corbyn, and a vote would have pushed the various inconsistencies and divisions into the spotlight. Amid the post-election glow of warm feeling, the members acquiesced. But with a number of MPs – and members – furious at the fudge, this is surely just a reckoning averted.\\n\\nIn the Guardian, Matthew d’Ancona says the cabinet is in denial about who really controls Brexit as senior ministers such as Boris Johnson and Philip Hammond fight battles that are not in their power to win:\\n\\nIn the FT (paywall), the ever-readable Simon Kuper says Brexit is “Britain’s gift to the world”, offering any number of lessons for future generations about how not to go about doing things – lessons that are coming too late for the UK:\\n\\nRafael Behr argues that faced with the serious work and compromise that Brexit requires, the real “saboteurs” are the Tory cabinet fantasists opting for bombast and obstruction instead:\\n\\n',\n",
       "     'source': 'http://www.guardian.co.uk/rssfeed/0,,11,00.xml '}},\n",
       "   {'_index': 'epic_text',\n",
       "    '_type': '_doc',\n",
       "    '_id': '161051',\n",
       "    '_score': 8.203771,\n",
       "    '_source': {'category': 'russiatoday',\n",
       "     'url': 'https://www.rt.com/uk/403828-boris-johnson-brexit-media/?utm_source=rss&utm_medium=rss&utm_campaign=RSS',\n",
       "     'text': 'Media reactions to Boris Johnson’s Brexit vision give the impression the UK only has one of two destinies. While the Tory Telegraph sees a chance for “national renewal and deliverance,” the liberal Guardian acts like he’s invited the four horsemen of the apocalypse.\\n\\nDays before UK Prime Minister Theresa May will make a major and much heralded Brexit speech in Florence, her foreign secretary grabbed all the headlines. Writing a 4,200-word article in the Telegraph\\xa0on the “glorious” future that awaits Britain, Boris Johnson claimed the country would “succeed mightily” in its great post-Brexit enterprise.\\n\\nDowning Street didn’t like it of course, and sent out Home Secretary Amber Rudd to accuse Johnson of “backseat driving” – a move which itself didn’t look good considering May faces accusations of being a weak leader.\\n\\nBut the real state of the political landscape is vividly obvious, as always, in the press. For the liberal, Pro-Europe Guardian, this was a “masterpiece of doublespeak and smarm.” For the Telegraph, the Brexiteers’ right-leaning newspaper of choice, it was a “fearless blueprint for a brighter future.” Of course, the pro-Tory Telegraph has Boris on the payroll, so you wouldn’t expect much different.\\n\\nA closer look at how these two institutions of the press choose to represent the Brexit debate, as typified by blonde bombshell Boris, suggest there is currently little middle ground to be found.\\n\\nFiercely on the Remain side, the Guardian believes “conman” Johnson is making claims that are “palpably false” and based on “ludicrous fantasy.”\\n\\nMuch of its criticism focuses on Johnson’s revival of the widely disproved claim that the UK would have £350 million ($472 million) extra per week post-Brexit. The left-wing newspaper blames “Tory lies and scheming” for the “Brexit mess.” Boris has known the figure was a lie, it claims.\\n\\nIt also accuses Johnson of misleading the public by presenting what he calls “obvious opportunities” from Brexit, but failing to mention any.\\n\\nPro-Brexit articles by the Guardian are few and far between, so its refusal to agree with anything Johnson is saying on the benefits of Brexit is hardly unsurprising.\\n\\nThe right-wing Telegraph, which published Johnson’s article, was delighted with Johnson’s take on Brexit – hailing it as “at last, a positive and bold vision.” It even urged the PM to take note of the “inspiring” article, claiming he’d done voters a “public service” for penning the piece.\\n\\nThe Eurosceptic newspaper claimed it was finally a chance for the Leave side to have a voice, with “no shortage of negativity in the media.”\\n\\nRemember, this is just the debate Britain is having with itself about what Brexit actually means and what it should look like. The negotiations with the immovable eurocrats waiting in Brussels have yet to really begin, and the clock is ticking.\\n\\nNow the rumor is… Boris may quit anyway.',\n",
       "     'source': 'https://www.rt.com/rss/uk/'}},\n",
       "   {'_index': 'epic_text',\n",
       "    '_type': '_doc',\n",
       "    '_id': '124590',\n",
       "    '_score': 8.197516,\n",
       "    '_source': {'category': 'general',\n",
       "     'url': 'https://www.theguardian.com/politics/2017/sep/13/brexit-wont-solve-issues-that-led-to-leave-vote-says-mark-price-ex-trade-minister',\n",
       "     'text': 'Mark Price, who quit as a government trade minister a fortnight ago, has warned that Brexit will not solve the day-to-day problems that led people to vote to leave the EU, but instead will make them worse.\\n\\nLord Price said he was deeply worried that the UK was set to be distracted by Brexit for years rather than addressing the deep underlying problems that led to the vote.\\n\\nIt is the first time the trade minister appointed by David Cameron and reappointed by Theresa May has spoken since his resignation.\\n\\nPrice, a former managing director of Waitrose, was due to pilot the government’s free trade bill through the House of Lords in the spring, but said he was not prepared to make the four-year commitment required to make a success of devising a new trade policy for the UK outside the EU.\\n\\nSpeaking to the Wine and Spirit Trade Association conference, he said he regarded the Brexit vote “as a symptom of people’s concerns about their day-to-day problems. Brexit will not solve those problems.”\\n\\nPrice said: “I think the country is going to be even more disrupted and even more subject to competitive pressures.”\\n\\nThe causes of the public’s discontent were issues such as the digitalisation of clerical jobs, outsourcing of labour, wages being depressed and migrant labour: “All of these things don’t get better with Brexit; in fact, if anything, they get worse.”\\n\\nHe said overall, the advent of a new digital age would turn the migration debate into a red herring. “In a digital age the debate is how do we take labour out, put technology in – all to reduce costs.\\n\\n“No outcome from Brexit is going to solve those fundamental problems. Brexit is Brexit, but what are we going to do as a country to make sure it is not distracted and solves fundamental problems so that in two years’ time we don’t say: ‘My business is doing no better, public spending is not any greater, I feel under more pressure in my job than I did before, there is more technology in my job than when I protested six months before’?”\\n\\nPrice said he did not see any way back from the referendum vote, but said the only two viable solutions for the UK were to remain fully within the EU, including the single market, or to leave altogether and negotiate a free trade agreement with the EU. He said on the basis of speaking to 16 trade ministers, “there is no compromise”.\\n\\n“I am now pretty committed to the fact that you cannot go back and therefore we have to think about how we make sure we have the most sustainable economy and society,” he said.\\n\\nThe former minister added: “Brexit is the biggest task facing the country since the second world war. But I think Brexit is a symptom of something else. I think that people voted the way that they did because they wanted to see change. Whether it is Trump in America, Macron in France or Brexit, people are choosing to vote for someone who they think will solve their practical day-to-day issues. In my view Brexit will not solve them.”',\n",
       "     'source': 'http://www.guardian.co.uk/rssfeed/0,,11,00.xml '}},\n",
       "   {'_index': 'epic_text',\n",
       "    '_type': '_doc',\n",
       "    '_id': '7131',\n",
       "    '_score': 8.188516,\n",
       "    '_source': {'category': 'general',\n",
       "     'url': 'http://www.telegraph.co.uk/news/2017/09/08/britain-likely-leave-eu-without-trade-deal-just-fine-choppers/',\n",
       "     'text': 'Listen to the Telegraph\\'s weekly Brexit podcast, hosted by Chief Political Correspondent Christopher \\'Chopper\\' Hope and recorded at the historic Red Lion pub, a stone\\'s throw from the Houses of Parliament.\\n\\nFresh from our\\xa0summer break, the first episode in the\\xa0second series of\\xa0Chopper\\'s Brexit Podcast\\xa0hears from Dominic Grieve and\\xa0John Redwood, two former Tory Cabinet ministers, as they discuss\\xa0whether Theresa May\\'s plans to use Henry VIII powers to move EU regs into British law is undemocratic; also\\xa0Liam Halligan, author of \"Clean Brexit - Why Leaving the EU Still Makes Sense\"\\xa0as well as\\xa0The Telegraph\\'s new Brexit editor Dia Chakravarty on\\xa0why it is not racist to support leaving the European Union.\\n\\nRevisit the previous series of Chopper\\'s Brexit Podcast here.\\n\\nTo listen offline, subscribe to the podcast:',\n",
       "     'source': 'http://www.telegraph.co.uk/newsfeed/rss/news_breaking.xml'}},\n",
       "   {'_index': 'epic_text',\n",
       "    '_type': '_doc',\n",
       "    '_id': '1435',\n",
       "    '_score': 8.188516,\n",
       "    '_source': {'category': 'general',\n",
       "     'url': 'http://www.telegraph.co.uk/news/2017/09/15/theresa-may-can-win-next-general-election-long-delivers-clean/',\n",
       "     'text': 'Listen to the Telegraph\\'s weekly Brexit podcast, hosted by Chief Political Correspondent Christopher \\'Chopper\\' Hope and recorded at the historic Red Lion pub, a stone\\'s throw from the Houses of Parliament.\\n\\nIn the\\xa0second episode\\xa0of the new season, Chopper\\'s Brexit Podcast\\xa0hears from Nick Tyrone, author of \"Apocalypse Delayed\"\\xa0on how a clean Brexit will help the Tories win the next general election. Also the\\xa0Liberal Democrats\\'\\xa0Brexit spokesman Tom Brake\\xa0and\\xa0Tory\\xa0Brexiteer\\xa0Michael Tomlinson\\xa0debate the usefulness of a second referendum, and\\xa0Solicitor General Robert Buckland, the Government minister who has to steer the EU Withdrawal Bill through Parliament,\\xa0discusses\\xa0whether 19,000 EU regulations can be repatriated to UK law by March 2019.\\n\\nRevisit the previous series of Chopper\\'s Brexit Podcast here.\\n\\nTo listen offline, subscribe to the podcast:',\n",
       "     'source': 'http://www.telegraph.co.uk/newsfeed/rss/news_breaking.xml'}}]}}"
      ]
     },
     "execution_count": 8,
     "metadata": {},
     "output_type": "execute_result"
    }
   ],
   "source": [
    "start = time.time()\n",
    "\n",
    "# Defining Brexit search query \n",
    "search_object = {'query': {'match': {'text': 'Brexit'}}}\n",
    "\n",
    "# Applying query term to news corpus indexed on ES\n",
    "sch_obj = es.search(index=\"epic_text\", body=search_object) #Increase returns with size parameter, default 10\n",
    "\n",
    "print(time.time()-start)\n",
    "sch_obj"
   ]
  },
  {
   "cell_type": "code",
   "execution_count": 4,
   "metadata": {},
   "outputs": [
    {
     "data": {
      "text/plain": [
       "'In the first of two extracts from their new book, Liam Halligan and Gerard Lyons say the commonly held belief that Britain would be better off inside the single market and customs union is misconceived\\n\\nThere has been much talk of “Hard Brexit” versus “Soft Brexit”. Such labels are ubiquitous during these Article 50 negotiations – used freely by the broadcast media – yet they are partisan and deeply misleading. Hard Brexit makes leaving the European Union sound extreme and damaging, suggesting isola\\xadtion and a bleak economic future. Soft Brexit, conversely, conveys a comfortable, ongoing relationship with the EU, with Britain still “part of the club”.\\n\\nLeaving the single market and the customs union isn’t Hard Brexit – even if the name is deliberately coined to sound painful. It is simply Brexit. Staying inside the EU’s two main legal constructs, meanwhile, isn’t a harmonious Soft Brexit. It amounts, instead, to a deliberate and cynical failure to implement the 2016 referendum result.'"
      ]
     },
     "execution_count": 4,
     "metadata": {},
     "output_type": "execute_result"
    }
   ],
   "source": [
    "# Grabbing the list containing queries \n",
    "hits = sch_obj['hits']['hits']\n",
    "\n",
    "# Sample query text\n",
    "hits[0]['_source']['text']"
   ]
  },
  {
   "cell_type": "code",
   "execution_count": 5,
   "metadata": {},
   "outputs": [
    {
     "data": {
      "text/plain": [
       "10"
      ]
     },
     "execution_count": 5,
     "metadata": {},
     "output_type": "execute_result"
    }
   ],
   "source": [
    "hit_text = []\n",
    "\n",
    "# Iterate through list and extract text\n",
    "for hit in hits:\n",
    "    hit_text.append(hit['_source']['text'])\n",
    "    \n",
    "len(hit_text)"
   ]
  },
  {
   "cell_type": "markdown",
   "metadata": {},
   "source": [
    "### Performing Sentiment Analysis"
   ]
  },
  {
   "cell_type": "code",
   "execution_count": 9,
   "metadata": {},
   "outputs": [],
   "source": [
    "from vaderSentiment.vaderSentiment import SentimentIntensityAnalyzer \n",
    "\n",
    "# Initialize Vader analyser\n",
    "analyser = SentimentIntensityAnalyzer()\n",
    "\n",
    "sentiment= []\n",
    "\n",
    "# Perform sentiment analysis on every text result and append to new list\n",
    "for number, i in enumerate(hit_text):\n",
    "    sentiment.append((number, analyser.polarity_scores(i)))"
   ]
  },
  {
   "cell_type": "code",
   "execution_count": 10,
   "metadata": {
    "scrolled": true
   },
   "outputs": [
    {
     "data": {
      "text/plain": [
       "'In the first of two extracts from their new book, Liam Halligan and Gerard Lyons say the commonly held belief that Britain would be better off inside the single market and customs union is misconceived\\n\\nThere has been much talk of “Hard Brexit” versus “Soft Brexit”. Such labels are ubiquitous during these Article 50 negotiations – used freely by the broadcast media – yet they are partisan and deeply misleading. Hard Brexit makes leaving the European Union sound extreme and damaging, suggesting isola\\xadtion and a bleak economic future. Soft Brexit, conversely, conveys a comfortable, ongoing relationship with the EU, with Britain still “part of the club”.\\n\\nLeaving the single market and the customs union isn’t Hard Brexit – even if the name is deliberately coined to sound painful. It is simply Brexit. Staying inside the EU’s two main legal constructs, meanwhile, isn’t a harmonious Soft Brexit. It amounts, instead, to a deliberate and cynical failure to implement the 2016 referendum result.'"
      ]
     },
     "execution_count": 10,
     "metadata": {},
     "output_type": "execute_result"
    }
   ],
   "source": [
    "hit_text[0]"
   ]
  },
  {
   "cell_type": "code",
   "execution_count": 11,
   "metadata": {},
   "outputs": [
    {
     "data": {
      "text/plain": [
       "(0, {'neg': 0.106, 'neu': 0.816, 'pos': 0.078, 'compound': -0.5926})"
      ]
     },
     "execution_count": 11,
     "metadata": {},
     "output_type": "execute_result"
    }
   ],
   "source": [
    "sentiment[0]"
   ]
  },
  {
   "cell_type": "code",
   "execution_count": 14,
   "metadata": {},
   "outputs": [
    {
     "data": {
      "text/plain": [
       "'Listen to the Telegraph\\'s weekly Brexit podcast, hosted by Chief Political Correspondent Christopher \\'Chopper\\' Hope and recorded at the historic Red Lion pub, a stone\\'s throw from the Houses of Parliament.\\n\\nIn the\\xa0second episode\\xa0of the new season, Chopper\\'s Brexit Podcast\\xa0hears from Nick Tyrone, author of \"Apocalypse Delayed\"\\xa0on how a clean Brexit will help the Tories win the next general election. Also the\\xa0Liberal Democrats\\'\\xa0Brexit spokesman Tom Brake\\xa0and\\xa0Tory\\xa0Brexiteer\\xa0Michael Tomlinson\\xa0debate the usefulness of a second referendum, and\\xa0Solicitor General Robert Buckland, the Government minister who has to steer the EU Withdrawal Bill through Parliament,\\xa0discusses\\xa0whether 19,000 EU regulations can be repatriated to UK law by March 2019.\\n\\nRevisit the previous series of Chopper\\'s Brexit Podcast here.\\n\\nTo listen offline, subscribe to the podcast:'"
      ]
     },
     "execution_count": 14,
     "metadata": {},
     "output_type": "execute_result"
    }
   ],
   "source": [
    "hit_text[9]"
   ]
  },
  {
   "cell_type": "code",
   "execution_count": 15,
   "metadata": {},
   "outputs": [
    {
     "data": {
      "text/plain": [
       "(9, {'neg': 0.024, 'neu': 0.866, 'pos': 0.11, 'compound': 0.9001})"
      ]
     },
     "execution_count": 15,
     "metadata": {},
     "output_type": "execute_result"
    }
   ],
   "source": [
    "sentiment[9]"
   ]
  },
  {
   "cell_type": "code",
   "execution_count": 16,
   "metadata": {},
   "outputs": [
    {
     "data": {
      "text/plain": [
       "{'neg': 0.33, 'neu': 0.67, 'pos': 0.0, 'compound': -0.7096}"
      ]
     },
     "execution_count": 16,
     "metadata": {},
     "output_type": "execute_result"
    }
   ],
   "source": [
    "snippet = ' It amounts, instead, to a deliberate and cynical failure to implement the 2016 referendum result.'\n",
    "analyser.polarity_scores(snippet)"
   ]
  }
 ],
 "metadata": {
  "kernelspec": {
   "display_name": "Python 3",
   "language": "python",
   "name": "python3"
  },
  "language_info": {
   "codemirror_mode": {
    "name": "ipython",
    "version": 3
   },
   "file_extension": ".py",
   "mimetype": "text/x-python",
   "name": "python",
   "nbconvert_exporter": "python",
   "pygments_lexer": "ipython3",
   "version": "3.7.3"
  }
 },
 "nbformat": 4,
 "nbformat_minor": 2
}
