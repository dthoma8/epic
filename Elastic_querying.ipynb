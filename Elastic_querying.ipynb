{
 "cells": [
  {
   "cell_type": "code",
   "execution_count": 1,
   "metadata": {},
   "outputs": [],
   "source": [
    "import json, time, os\n",
    "from elasticsearch import Elasticsearch"
   ]
  },
  {
   "cell_type": "markdown",
   "metadata": {},
   "source": [
    "### Connecting to ElasticSearch instance"
   ]
  },
  {
   "cell_type": "code",
   "execution_count": 2,
   "metadata": {},
   "outputs": [
    {
     "data": {
      "text/plain": [
       "<Elasticsearch([{'host': 'localhost', 'port': 9200}])>"
      ]
     },
     "execution_count": 2,
     "metadata": {},
     "output_type": "execute_result"
    }
   ],
   "source": [
    "es = Elasticsearch([{'host': 'localhost', 'port': 9200}])\n",
    "es"
   ]
  },
  {
   "cell_type": "code",
   "execution_count": 7,
   "metadata": {},
   "outputs": [
    {
     "data": {
      "text/plain": [
       "{'_index': 'aotn_text',\n",
       " '_type': '_doc',\n",
       " '_id': '0',\n",
       " '_version': 1,\n",
       " '_seq_no': 0,\n",
       " '_primary_term': 2,\n",
       " 'found': True,\n",
       " '_source': {'id': 17283,\n",
       "  'title': 'House Republicans Fret About Winning Their Health Care Suit - The New York Times',\n",
       "  'publication': 'New York Times',\n",
       "  'author': 'Carl Hulse',\n",
       "  'date': '2016-12-31',\n",
       "  'content': 'WASHINGTON  —   Congressional Republicans have a new fear when it comes to their    health care lawsuit against the Obama administration: They might win. The incoming Trump administration could choose to no longer defend the executive branch against the suit, which challenges the administration’s authority to spend billions of dollars on health insurance subsidies for   and   Americans, handing House Republicans a big victory on    issues. But a sudden loss of the disputed subsidies could conceivably cause the health care program to implode, leaving millions of people without access to health insurance before Republicans have prepared a replacement. That could lead to chaos in the insurance market and spur a political backlash just as Republicans gain full control of the government. To stave off that outcome, Republicans could find themselves in the awkward position of appropriating huge sums to temporarily prop up the Obama health care law, angering conservative voters who have been demanding an end to the law for years. In another twist, Donald J. Trump’s administration, worried about preserving executive branch prerogatives, could choose to fight its Republican allies in the House on some central questions in the dispute. Eager to avoid an ugly political pileup, Republicans on Capitol Hill and the Trump transition team are gaming out how to handle the lawsuit, which, after the election, has been put in limbo until at least late February by the United States Court of Appeals for the District of Columbia Circuit. They are not yet ready to divulge their strategy. “Given that this pending litigation involves the Obama administration and Congress, it would be inappropriate to comment,” said Phillip J. Blando, a spokesman for the Trump transition effort. “Upon taking office, the Trump administration will evaluate this case and all related aspects of the Affordable Care Act. ” In a potentially   decision in 2015, Judge Rosemary M. Collyer ruled that House Republicans had the standing to sue the executive branch over a spending dispute and that the Obama administration had been distributing the health insurance subsidies, in violation of the Constitution, without approval from Congress. The Justice Department, confident that Judge Collyer’s decision would be reversed, quickly appealed, and the subsidies have remained in place during the appeal. In successfully seeking a temporary halt in the proceedings after Mr. Trump won, House Republicans last month told the court that they “and the  ’s transition team currently are discussing potential options for resolution of this matter, to take effect after the  ’s inauguration on Jan. 20, 2017. ” The suspension of the case, House lawyers said, will “provide the   and his future administration time to consider whether to continue prosecuting or to otherwise resolve this appeal. ” Republican leadership officials in the House acknowledge the possibility of “cascading effects” if the   payments, which have totaled an estimated $13 billion, are suddenly stopped. Insurers that receive the subsidies in exchange for paying    costs such as deductibles and   for eligible consumers could race to drop coverage since they would be losing money. Over all, the loss of the subsidies could destabilize the entire program and cause a lack of confidence that leads other insurers to seek a quick exit as well. Anticipating that the Trump administration might not be inclined to mount a vigorous fight against the House Republicans given the  ’s dim view of the health care law, a team of lawyers this month sought to intervene in the case on behalf of two participants in the health care program. In their request, the lawyers predicted that a deal between House Republicans and the new administration to dismiss or settle the case “will produce devastating consequences for the individuals who receive these reductions, as well as for the nation’s health insurance and health care systems generally. ” No matter what happens, House Republicans say, they want to prevail on two overarching concepts: the congressional power of the purse, and the right of Congress to sue the executive branch if it violates the Constitution regarding that spending power. House Republicans contend that Congress never appropriated the money for the subsidies, as required by the Constitution. In the suit, which was initially championed by John A. Boehner, the House speaker at the time, and later in House committee reports, Republicans asserted that the administration, desperate for the funding, had required the Treasury Department to provide it despite widespread internal skepticism that the spending was proper. The White House said that the spending was a permanent part of the law passed in 2010, and that no annual appropriation was required  —   even though the administration initially sought one. Just as important to House Republicans, Judge Collyer found that Congress had the standing to sue the White House on this issue  —   a ruling that many legal experts said was flawed  —   and they want that precedent to be set to restore congressional leverage over the executive branch. But on spending power and standing, the Trump administration may come under pressure from advocates of presidential authority to fight the House no matter their shared views on health care, since those precedents could have broad repercussions. It is a complicated set of dynamics illustrating how a quick legal victory for the House in the Trump era might come with costs that Republicans never anticipated when they took on the Obama White House.'}}"
      ]
     },
     "execution_count": 7,
     "metadata": {},
     "output_type": "execute_result"
    }
   ],
   "source": [
    "es.get(index = 'aotn_text', id=0)"
   ]
  },
  {
   "cell_type": "markdown",
   "metadata": {},
   "source": [
    "### Querying for Brexit Text"
   ]
  },
  {
   "cell_type": "code",
   "execution_count": 33,
   "metadata": {},
   "outputs": [
    {
     "name": "stdout",
     "output_type": "stream",
     "text": [
      "0.9155693054199219\n"
     ]
    },
    {
     "data": {
      "text/plain": [
       "{'took': 911,\n",
       " 'timed_out': False,\n",
       " '_shards': {'total': 1, 'successful': 1, 'skipped': 0, 'failed': 0},\n",
       " 'hits': {'total': {'value': 194, 'relation': 'eq'},\n",
       "  'max_score': 1.0,\n",
       "  'hits': [{'_index': 'aotn_text',\n",
       "    '_type': '_doc',\n",
       "    '_id': '4779',\n",
       "    '_score': 1.0,\n",
       "    '_source': {'id': 22589,\n",
       "     'title': 'Doomed Jet Carrying Brazilian Team Reportedly Ran Out of Fuel - The New York Times',\n",
       "     'publication': 'New York Times',\n",
       "     'author': 'Nicholas Casey and Ewan MacKenna',\n",
       "     'date': '2016-12-30',\n",
       "     'content': 'The pilot of a plane that crashed late Monday while flying members of a Brazilian soccer team to a competition in Colombia pleaded to make an immediate landing because the aircraft was out of fuel, according to a recording leaked to Colombian news outlets on Wednesday. The audio, first posted by W Radio of Colombia, offers a grim narration of the final moments of the doomed flight, which carried 77 people, including the members of the Chapecoense soccer team from Chapecó, Brazil. And it added a new twist to the investigation of what might have caused the crash, originally thought to be electrical failure. “We ask for permission to approach, we have a fuel problem,” cried a voice that the radio station identified as the pilot. He later says that the plane had a “fuel emergency. ” During the   recording, the pilot also says that the plane had experienced “total electrical failure” and repeatedly requests flight vectors, indications from the air traffic controller, on how to land. The controller tries to help but mentions other obstacles like another plane flying close by and fuel on the runway left from yet another aircraft. “Nine thousand feet,” yells the pilot. “Vectors! Vectors!” Shortly afterward, the plane crashed. A spokesman from Colombia’s aviation agency said it could not confirm the authenticity of the recording. But he added that the agency was investigating whether the plane, which was operated by a Bolivian charter company called LaMia, did run out of fuel. According to specifications from the plane’s manufacturer, BAE Systems, the Avro RJ85 jet has a range of about 1, 600 nautical miles, close to the distance of the flight from Santa Cruz, Bolivia, to Medellín, Colombia. Jetliners, however, rarely travel in straight lines to their destination, but rather along more indirect routes determined by their flight plan. W Radio offered no details as to who provided the recording. Similar recordings, also said to be from the cockpit, were played on other Colombian radio stations on Wednesday. Aviation experts also say it was unsafe to fly a plane without at least 30 minutes of fuel reserves, among other precautions. The theory that the plane crashed without fuel was supported by rescue workers on the ground on Tuesday, who were surprised to see that there had been no explosion. The main damage to the plane appeared to be from the impact, which caused the fuselage, engines and tail to be torn apart, they said. The American National Transportation Safety Board said that it would assist in the investigation. The flight marked a tragic end to the rise of Chapecoense, which had come up the ranks from a scrappy industrial city in Brazil to become one of the country’s hottest teams. The team was on its way for what would have been its biggest test yet, the finals of the Copa Sudamericana, one of South America’s most important tournaments. At least 21 journalists were reported to be on the flight, too, including reporters from Fox Latin America and the Globo television network of Brazil. Six survivors were pulled from the wreckage, including three players, two crew members and a journalist. There was no immediate response to an email to LaMia. The company’s website had been taken down, and its telephone had been disconnected on Wednesday. Dr. Ana González, the medical director at Clínica Somer, the hospital outside Medellín where three of the survivors were being treated, said two of them, both members of the crew, were in stable condition. Alan Ruschel, a defender for Chapecoense, was in critical condition, she added. Mr. Ruschel spent time before the flight posting selfies on social media networks with his teammates. “Alan is the patient with the most serious injuries,” Dr. González said. “It is too soon to tell if he will be able to walk again, but we hope that in the future he will. ”'}},\n",
       "   {'_index': 'aotn_text',\n",
       "    '_type': '_doc',\n",
       "    '_id': '5137',\n",
       "    '_score': 1.0,\n",
       "    '_source': {'id': 22995,\n",
       "     'title': 'After Thousands of Broadway Performances, 5 Shows Take Their Bows - The New York Times',\n",
       "     'publication': 'New York Times',\n",
       "     'author': 'Erik Piepenburg',\n",
       "     'date': '2016-12-30',\n",
       "     'content': '“Sunrise, sunset, swiftly flow the days,” sing the weary residents of Anatevka in “Fiddler on the Roof. ” That will also be the melancholy tune on Broadway in the coming weeks, as several shows, including “Fiddler” and the megahit “Jersey Boys,” prepare to darken their marquees. Here’s a look at what happened during the long runs of five of them. During the run of the revival, the cast went through: 93 pairs of boots and shoes 972 challahs 234  or so haircuts and beard trims 1 onstage marriage proposal (after a show, by Ben Rappaport, who plays Perchik Megan Kane said yes). Other than a misplaced exit, Adrianna Hicks has had very few mishaps as a swing who has covered  —   or stepped in to play  —   seven characters in the   musical “The Color Purple. ” Unlike an understudy, who usually covers one lead role, a swing steps in “whenever someone is out sick or on vacation, or someone can’t make the train,” as Ms. Hicks put it. Like all swings, Ms. Hicks, 27, is at the theater even when she’s not scheduled to perform, in case something happens to an actor during the show. That’s what occurred at a performance in May when Cynthia Erivo, the show’s   star, left after the first act because of illness. “Somebody runs upstairs and was like, ‘Cynthia might be out, so just be prepared,’” Ms. Hicks recalled. “I was like, ‘Nobody talk to me, I just need to focus.’ They announced my name and said the performance would be continued by Adrianna. I remember walking out onstage and with the audience so responsive, loving that moment. ” Ms. Hicks said covering Ms. Erivo’s leading role, Celie, which she has done over 25 times, was the most daunting part of being in the show, her Broadway debut. (She goes next into the Encores! production of “Big River. ”) “In her voice there’s such freedom, because she has it in her body physically,” Ms. Hicks said of Ms. Erivo. “With me, I’m still learning to get it there. ” As for that missed departure, Ms. Hicks said, “Flaws have happened. ” “I have exited off the wrong side of the stage because I’m so set being another character for the entire week, and then, for one show, doing someone totally different,” she said with a laugh. “Thank God we just walk onstage and stand there at certain moments. ” The actor Gerry Vichi thinks “Something Rotten!” might be his last show. He’s 79. He’s developed a hernia that will require an operation, which he put off until after the show closes. He says his memory is fine, but keeping up the     energy is a challenge. So what’s next? “Maybe I’ll sit in my chair and drink Scotch and watch TV,” said Mr. Vichi, who made his Broadway debut in 1981 in the Kander and Ebb musical “Woman of the Year,” with Lauren Bacall. “Who knows? There’s always baseball season. ” Mr. Vichi has been with “Something Rotten!” for the show’s entire run  —   it opened in April 2015  —   playing a comedic version of Shylock. (“He speaks a little more modern and he does like to loan money, but he doesn’t look for a pound of flesh,” he explained.) Between shows on a recent Wednesday, he got on the phone to talk about what he called “probably the most fun of any show I’ve done. ” Following are edited excerpts from the conversation. “Something Rotten!” had a good run. Congratulations. We had a nice run. If it weren’t for Ben Brantley, maybe we would have run longer. Put him on the phone. I’ll tell him. Has performing gotten more difficult as you’ve gotten older?   that’s fine. Keeping up the energy is a challenge, but it’s fun. It’s a joy to come to work every day. How many people can say that? Do you have any   rituals? I will often take members of the cast out to dinner. One night I took a bunch of the girls out. When we fellows get together, we pick a steakhouse, like Quality Meats, and we have a good time. When you say you take members out for dinner, does that mean you pay? I like to pay. I’m a good tipper. Who wants to ask around  —   who had the borscht? Who had the Caesar salad? Give me a break. How do you feel about the show’s closing? There will be tears, but not from me. I don’t have any illusions about being a star or a big shot. I just like to have fun.  Anything else you wanted to say before we close? Tell Ben Brantley I called. When the show wraps up, it will have had: 19 girls featured in the role of Matilda 64 kids employed in the production 1 fresh copy of “Alice in Wonderland” torn up in every show 23, 880 balloons inflated (15 per show) 796 pounds of chocolate frosting shoveled into the face of Matilda’s classmate Bruce, who takes a slice of Miss Trunchbull’s chocolate cake and winds up forced to eat the whole thing. 51 actors have made their Broadway debuts in the show. THREE original Broadway cast members are still in it (Peter Gregus, Mark Lotito and Sara Schmidt). ONE actor has been in it since the   engagement at La Jolla Playhouse (Peter Gregus).  29. 8 pounds of gunpowder have been fired onstage. 31 babies were born to company members in the show (22 are girls). 120, 692 times “Oh What a Night” has been said or sung onstage (26 per performance). 157, 828   (34 per performance).'}},\n",
       "   {'_index': 'aotn_text',\n",
       "    '_type': '_doc',\n",
       "    '_id': '5153',\n",
       "    '_score': 1.0,\n",
       "    '_source': {'id': 23015,\n",
       "     'title': 'Whitney Houston, Cher, Tina Turner and Donna Summer: The Musicals - The New York Times',\n",
       "     'publication': 'New York Times',\n",
       "     'author': 'Erik Piepenburg',\n",
       "     'date': '2016-12-30',\n",
       "     'content': 'Fans of shimmery miniskirts,     choruses and beefcake backup dancers are in for a treat, as theater producers are turning to some of pop music’s biggest divas for their latest musical projects (and potential cash cows). News this month of a coming Tina Turner   is making it clear that producers “Believe” demand for such shows is “Strong Enough. ” (Couldn’t help it, Cher.) Here’s a look at four new   shows  —   three of them still in development  —   that act as if the ’70s, ’80s and ’90s never ended. Prediction: The costumes for the “Gypsies, Tramps and Thieves” number are going to be everything. WHAT IS IT? The American premiere of the stage adaptation of “The Bodyguard,” the 1992 film in which Houston, who died in 2012 at 48, made her movie debut, playing a pop star who falls for her protector. Essentially a   revue framed around a romantic thriller script, the musical was a hit in London when it opened four years ago. But the production now at the Paper Mill Playhouse in New Jersey “doesn’t exactly make you want to rush out and dance with somebody,” Charles Isherwood wrote in his New York Times review. WHAT YOU’LL SING Some 15 Houston classics, including “I Will Always Love You,” “Saving All My Love,” “I Have Nothing” and “I Wanna Dance With Somebody” SEE IT At Paper Mill Playhouse through Sunday, then on tour in the United States and other countries. WHAT IS IT? Billed as “The Cher Show,” this musical about that dynamic pop star (and frequent critic of Donald J. Trump on Twitter) aims, according to a casting notice, to “represent Cher at different moments of her life  —   starting as a teenager who falls for Sonny Bono (Babe) a successful music star navigating the challenges of the entertainment industry (Lady) and the lady we know today with a fascinating wealth of life experience, successes and failures (Star). ” Other characters apparently include the costume designer Bob Mackie, the movie mogul David Geffen and, mysteriously, Sigmund Freud. The show, with a book by Rick Elice (“Jersey Boys”) will get help from Jeffrey Seller, the producer of “Hamilton. ” WHAT YOU’LL SING Probably “I Got You Babe,” “If I Could Turn Back Time,” “Believe” and other songs made popular by Cher and her former husband and singing partner, Sonny, although a final song list was not announced. SEE IT The show will receive a series of staged readings  —   good luck trying to score a seat  —   from Monday through Jan. 14 in New York. WHAT IS IT? The story of the life of this disco queen will hustle to the stage in a    . A workshop held this year in New York, with direction by the Tony   Des McAnuff and   choreography by Sergio Trujillo, featured three actresses playing Summer at different stages of her life. (She died in 2012, at 63.) In a possible   nod to Summer’s popularity in gay clubs of the   ’70s, actresses in the workshop   to play some male roles. WHAT YOU’LL SING Over 20 of Summer’s hits, including “Bad Girls,” “Heaven Knows” and “Love to Love You Baby,” if the workshop was any indication. (“I can’t get that cake song out of my head, even though the lyrics are ridiculous, and it goes on forever,” a workshop attendee told Michael Riedel, the theater columnist for The New York Post, about Summer’s dance hit version of “Macarthur Park. ”) SEE IT Performances start in November at La Jolla Playhouse in California. WHAT IS IT? The playwright Katori Hall (“The Mountaintop”) and the   director Phyllida Lloyd (“Mamma Mia! ”) are collaborating with Ms. Turner, a Rock and Roll Hall of Famer, on a musical now being called “Tina. ” According to a report in The Daily Mail, Ms. Turner spent over a year in conversations with Ms. Hall about her “hardscrabble upbringing her marriage to fellow musician Ike Turner and how she fled from the abuse and beatings he inflicted on her. ” The   actress Adrienne Warren (“Shuffle Along”) led a workshop of the show this month in London. WHAT YOU’LL SING “Proud Mary,” “Private Dancer” and “What’s Love Got to Do With It” seem likely, but there is no final song list. SEE IT The producers are aiming to open in London in 2018.'}},\n",
       "   {'_index': 'aotn_text',\n",
       "    '_type': '_doc',\n",
       "    '_id': '5170',\n",
       "    '_score': 1.0,\n",
       "    '_source': {'id': 23043,\n",
       "     'title': 'Carrie Fisher’s Fans Find Solace in Her Books - The New York Times',\n",
       "     'publication': 'New York Times',\n",
       "     'author': 'Alexandra Alter',\n",
       "     'date': '2016-12-30',\n",
       "     'content': '“I heard someone once say that we’re only as sick as our secrets,” Carrie Fisher wrote in her 2008 memoir “Wishful Drinking. ” Ms. Fisher didn’t, it seems, harbor many secrets. A prolific writer and chronic oversharer, she published several heavily autobiographical novels, including the best seller “Postcards From the Edge,” which drew on her struggles with drug abuse and mental illness, and three memoirs that recounted her experiences growing up in the shadow of Hollywood royalty, her affair with Harrison Ford while shooting the “Star Wars” films, and her   battle with bipolar disorder. One of her final creative acts was publishing her memoir “The Princess Diarist,” which came out last month. Ms. Fisher’s literary legacy seemed to offer some solace to fans mourning her death this week, at age 60. “The Princess Diarist,” which drew on the diaries Ms. Fisher wrote when she was a    actress on the cusp of fame for playing Princess Leia, rose to the top of Amazon’s   list, and was listed as temporarily out of stock on Thursday. Blue Rider Press, which published the book, plans to reprint 65, 000 copies, in addition to the 173, 000 copies already in circulation. “Postcards From the Edge” and “Wishful Drinking” also rose to the top 10 on Amazon and were out of stock. Simon  Schuster, which published those books, is reprinting another 20, 000 copies of “Wishful Drinking” and 17, 500 copies of “Postcards From the Edge. ” Over all, Simon  Schuster has sold some 500, 000 copies of Ms. Fisher’s books. Readers also turned to “Unsinkable,” a 2013 memoir published by Ms. Fisher’s mother, the actress Debbie Reynolds, who died at age 84 on Wednesday, one day after her daughter. (“Unsinkable” rose to No. 395 on Amazon on Thursday, from 24, 172.) Following Ms. Fisher’s death on Tuesday, some novelists praised her prose as being as blunt, funny and honest  —   much like Ms. Fisher. “Fisher’s legacy includes her written words  —   cutting, clever, observant,   and unbowed,” the science fiction writer John Scalzi wrote in The Los Angeles Times.'}},\n",
       "   {'_index': 'aotn_text',\n",
       "    '_type': '_doc',\n",
       "    '_id': '5180',\n",
       "    '_score': 1.0,\n",
       "    '_source': {'id': 23057,\n",
       "     'title': 'Syria, Russia, Mosul: Your Friday Evening Briefing - The New York Times',\n",
       "     'publication': 'New York Times',\n",
       "     'author': 'Karen Zraick and Sandra Stevenson',\n",
       "     'date': '2016-12-30',\n",
       "     'content': '(Want to get this briefing by email? Here’s the  .) Good evening. Here’s the latest. 1. President Vladimir Putin of Russia said he would not retaliate against the United States for its decision to expel Russian diplomats and impose new sanctions. President Obama announced those actions on Thursday as punishment for Russian hacking operations aimed at influencing the American presidential election. Mr. Putin is apparently betting on improved relations with   Donald Trump. Above, the U. S. Embassy in Moscow. _____ 2. The take from our Washington bureau, in fact, is that Mr. Putin may have handed Mr. Trump a lifeline. Mr. Trump can now start a new chapter on a range of areas in which the two countries are at odds, including Syria, Ukraine, Crimea, the Middle East, the future of NATO and nuclear weapons. But moving too far, or too fast, in that direction creates enormous risks for Mr. Trump. Members of the Republican Party establishment remain strongly suspicious of Mr. Putin’s intentions. _____ 3. A   between the Syrian government and rebel groups tentatively took hold, with scattered reports of clashes, shelling and airstrikes. The truce, brokered by Russia and Turkey, was announced a day earlier and excludes the Islamic State and Al Qaeda’s Syrian affiliate. Russia said seven opposition groups had signed the agreement, which calls for peace talks in Kazakhstan next month. The largest group of rebel fighters denied doing so. _____ 4. Next door in Iraq, our photographer spent three weeks with the security forces who are battling to retake the city of Mosul from Islamic State militants. He found no continuous front line, but a patchwork of battlegrounds in the city and all around its edge. When the terror group retreats from a position, it tries to leave as much damage behind as possible, including burning oil fields and snipers. And it doesn’t go far: the threat remains that it could return and reclaim the territory. _____ 5. Fish along the Atlantic Coast are moving north, seeking cooler waters as ocean temperatures rise. Lobster, once a staple in southern New England, have decamped to Maine. Black sea bass, mackerel, and herring, to name just a few, have shifted their routes. But fishing regulations have failed to keep up with these geographical changes. _____ 6. As revelers stream into Times Square to see the New Year’s ball drop, there will be a new addition to the security infrastructure:   garbage trucks loaded with sand and parked in strategic spots. The police said there are no specific threats to the event, but the trucks serve as a deterrent to truck attacks like those that have struck Nice and Berlin. _____ 7. China announced that it was banning commerce in ivory by the end of 2017. The country is the world’s largest ivory market and the move could deal a blow to the practice of elephant poaching in Africa. It comes after years of international pressure to stop the practice from wildlife protection advocates. Above, ivory is burned in Cameroon. _____ 8. The wildest snowboarding scene in the U. S. is in an pretty unlikely location:   Rhode Island. Snowboarders there use the natural terrain as well as the unnatural (buildings, snowcats, pipes) to construct landscapes with one I’     feature after another. Then they shoot video of their runs and let the snowboarding world watch in awe. _____ 9. Tech companies are trying something new: pursuing women to join their boards. Silicon Valley companies are facing growing pressure to diversify. Boards are seen as particularly important because they are power centers that can spur broader changes. _____ 10. This year, our photographers captured subjects of all kinds: famous and   athletic and political, human and canine. Here are our favorite shots from their assignments. _____ 11. In commemoration of Carrie Fisher, we asked readers to share what she and Princess Leia meant to them. Generations of female “Star Wars” fans have dressed as Princess Leia for Halloween, or used her as inspiration for their own lives. “Leia was the only princess I ever wanted to be,” one woman wrote. _____ 12. Finally, a look at the science of champagne bubbles. Once the cork pops, a sudden change in pressure releases carbon dioxide trapped in the bottle. Bubbles cling to the edges of your glass, rising to the top before they hit the air and burst. The explosion creates tiny droplets of liquid that crash against your tongue like shooting stars. Some advice: For a bubblier glass, allow your bottle to warm up a bit after you take it out of the refrigerator. And if you go overboard, take a pain reliever and hydrate to mitigate a hangover. Happy New Year! _____ Photographs may appear out of order for some readers. Viewing this version of the briefing should help. Your Evening Briefing is posted at 6 p. m. Eastern. And don’t miss Your Morning Briefing, posted weekdays at 6 a. m. Eastern, and Your Weekend Briefing, posted at 6 a. m. Sundays. Want to look back? Here’s last night’s briefing. What did you like? What do you want to see here? Let us know at briefing@nytimes. com.'}},\n",
       "   {'_index': 'aotn_text',\n",
       "    '_type': '_doc',\n",
       "    '_id': '6506',\n",
       "    '_score': 1.0,\n",
       "    '_source': {'id': 24814,\n",
       "     'title': 'California Today: The Stories That Moved Us in 2016 - The New York Times',\n",
       "     'publication': 'New York Times',\n",
       "     'author': 'Mike McPhate',\n",
       "     'date': '2016-12-30',\n",
       "     'content': 'Good morning.  (Want to get California Today by email? Here’s the  .) Please note: California Today will pause for the New Year’s holiday and be back on Tuesday. What news stories enthralled Californians in 2016? By one measure, they were the ones that explored themes of personal triumph and good will toward others. Crowdtangle, a social analytics company, provided a ranking of the year’s most popular pieces about California on Facebook posted by California news organizations. Here are the top 10, all videos, ordered according to cumulative likes, shares and comments. 1. The transformation of Eric O’Grey.  —   SFGate. com Mr. O’Grey’s life was a mess: He was depressed. He weighed 330 pounds. He hadn’t been on a date in 15 years. At his nutritionist’s suggestion, he went to a shelter and got a dog, Peety, and everything changed. (Watch the video to see how.) Reached by phone on Thursday, Mr. O’Grey, 57, said the attention to his story (the SFGate video got 34 million views) had been overwhelming. Thousands of people contacted him. One of them was a high school sweetheart he hadn’t heard from in about 40 years. “And here is the grand finale to the entire thing,” Mr. O’Grey said. They were married on Dec. 7. Peety died. Mr. O’Grey keeps a framed print of his paw on his bedroom wall. He adopted another dog, a Labrador retriever mix named Jake. They run 40 miles a week together. 2. Jamie Foxx rescued a man in a car crash.  —   ABC 7 Brett Kyle, 32, was speeding when his Toyota Tacoma left the road and rolled several times in front of Mr. Foxx’s home in the Thousand Oaks area, reports said. Responding, the   actor and another man, an   paramedic who was driving by, reached into the burning vehicle, cut Mr. Kyle’s seatbelt and pulled him to safety. “As we pull him out, within five seconds later, the truck goes up,” Mr. Foxx told reporters. 3. A Sacramento girl spread good will.  —   Fox 40 This summer, Leah Nelson, 10, decided to make the world a better place. So she made a bunch of bracelets, then gave them to strangers and asked that they pay forward the gesture however they saw fit. Tens of millions of people watched a Fox 40 video that showed Leah spreading the word about her project, known as “Becuz I Care,” outside a grocery store. On Thursday, Leah’s father, Charles Nelson, said people had contacted the family from as far as Britain, France and Portugal to ask about replicating it in their cities. He described a letter they got from a woman in Montreal: “What she said is that what Leah’s story restored in her is a sense of hope for the future. ” 4. An abandoned Chihuahua without front legs got prosthetic wheels.  —   SFGate. com 5. Snoop Dogg and The Game led a unity march to the Los Angeles Police Headquarters after the killings of Dallas police officers.  —   Los Angeles Times 6. A look at the grueling life of Gaspar Marcos, a Los Angeles high schooler who migrated from Guatemala.  —   Los Angeles Times 7. Three bears were captured on video frolicking in Lake Tahoe.  —   KCRA 3 8. Demonstrators shut down Interstate 880 in Oakland to protest police shootings of black men.  —   KRON 4 9. An aerial view of gridlock on the 405 Freeway in West Los Angeles.  —   ABC 7 10. Los Angeles firefighters comforted a dog rescued from a burning home.  —   NBC LA (Please note: We regularly highlight articles on news sites that have metered paywalls.) • The majority in two panels agreed a student was raped by a Stanford football player. That wasn’t enough to expel him. [The New York Times] • A boy, his father and his grandfather were killed over three years in the same Oakland neighborhood. [East Bay Times] • Sales of semiautomatic rifles in California more than doubled this year. [San Francisco Chronicle] • A professor rented the home of a U. C. Berkeley professor, then refused to leave. [Mother Jones] • If a stroke was the primary cause of Debbie Reynolds’ death, a heart squeezed by the loss of a beloved daughter might have contributed. [The New York Times] • In China, a hidden bounty of subsidies has supported the production of Apple’s   product: the iPhone. [The New York Times] • Venture capitalists are poised to invest big in   and I. P. O.s in the new year. [The New York Times] • When the seemingly invincible Ronda Rousey lost her U. F. C. title, it was a shock. Now’s her chance for a comeback. [The New York Times] • California newspapers’ best photos of 2016 [Orange County Register | San Diego   | Los Angeles Times] • Video: Humboldt County has begun an experiment to bring marijuana growers out of the shadows and regulate cannabis farming. [PBS NewsHour] • Los Angeles will get a new museum in 2017 with the opening of the Marciano Art Foundation. [Los Angeles Times] “And this, fellow citizens, is the first freeway in the West. ” So declared Gov. Culbert L. Olson of California on this day in 1940, when the Arroyo Seco Parkway was officially opened, connecting Los Angeles and Pasadena with a roadway unencumbered by traffic lights, streetcars or pedestrians. Mr. Olson continued, presciently: “It is only the first. And that is its great promise to the future  —   the promise of many more freeways to come. ” Los Angeles’s love affair with the automobile was in full swing in the   1930s when the construction of the     Arroyo Seco Parkway put thousands of people to work. The freeway promised to cut travel times by at least half to about 12 minutes between Pasadena, a    city with high per capita car ownership, and downtown Los Angeles, where most of the jobs were. Envisioned as a scenic route, it did not cut a straight line but rather traced the contours of the Arroyo Seco riverbed. Today, the freeway remains largely as it was in the 1940s. Transportation historians recognize the Arroyo Seco Parkway as a precursor to the modern   freeways that now form a vast web across the Los Angeles region. But even as the city continues to add freeway lanes in an intractable war against congestion, Angelenos are increasingly embracing new ideas in transportation. While the car is bound to remain central, large investments in public transit  —   subways, light rail, buses  —   could begin to reshape how Los Angeles gets around. California Today goes live at 6 a. m. Pacific time weekdays. Tell us what you want to see: CAtoday@nytimes. com. The California Today columnist, Mike McPhate, is a   Californian  —   born outside Sacramento and raised in San Juan Capistrano. He lives in Davis. Follow him on Twitter. California Today is edited by Julie Bloom, who grew up in Los Angeles and attended U. C. Berkeley.'}},\n",
       "   {'_index': 'aotn_text',\n",
       "    '_type': '_doc',\n",
       "    '_id': '6512',\n",
       "    '_score': 1.0,\n",
       "    '_source': {'id': 24821,\n",
       "     'title': '4 Trailers That Have Us Excited for 2017 - The New York Times',\n",
       "     'publication': 'New York Times',\n",
       "     'author': 'Michael Gold',\n",
       "     'date': '2016-12-30',\n",
       "     'content': 'A new year brings new movies, of course, but their promotion has already begun. With a full slate of films headed to the big screen in the next few months, here’s a look at notable trailers. Feb. 10 THE MOVIE In the sequel to the   smash “Fifty Shades of Grey,” Anastasia Steele (Dakota Johnson) and Christian Grey (Jamie Dornan) try to reconnect after she left him when his    tastes proved too extreme for her. WHY THE TRAILER IS INTRIGUING Well, it’s at least one shade darker. Ana seems to have a stalker. Or maybe she’s a hallucination? This woman appears a few times, creepily hovering like the girl from “The Ring,” but that’s all we get. Her presence is never explained, even though it’s one of the few things that suggest this film is different from the last one. Otherwise, “Fifty Shades Darker” seems to take everything people liked and loathed about “Fifty Shades of Grey” and double it. Meaningful glances are everywhere. Some scenes in the trailer are a little more suggestive, though there might be a public indecency law broken in one of them. Even the wooden dialogue is back. (Although perhaps more   the first line of the trailer, “I want you back,” feels like a plea from the producers.) Even the music is the same. The trailer for “Fifty Shades of Grey” was set to a slower, spookier remix of Beyoncé’s “Crazy in Love. ” Not to be outdone, this trailer brings in the RB star Miguel for a breathy, hauntingly sexy cover that’s just distinct enough to merit notice. And hey, why not? The music worked last time.  March 3 THE MOVIE After playing Wolverine for close to two decades, Hugh Jackman is set to hang up his adamantium claws in the latest chapter of the   saga, which takes its name from the character’s civilian identity. WHY THE TRAILER IS INTRIGUING The previews for   movies tend to draw on the familiar: iconic costumes and spectacular C. G. I. set pieces while   superheroes. Innocent bystanders are in peril. Something explodes. Not the trailer for “Logan,” released in October, which sweeps all mentions of   or Wolverine under the rug. Instead, it suggests a   western. Johnny Cash’s cover of “Hurt,” a song about pain, provides the through line, connecting all the shots of a weary, older Mr. Jackman. The   Logan is shown alone, backed by dusty deserts and rusting equipment. He’s battered, bloodied and wizened. It’s Wolverine, by way of Clint Eastwood. The trailer positions Logan as a Wild West outlaw, making a break from the superhero genre. When antagonists appear, they arrive in a caravan of police cars. One character even wears a cowboy hat and poncho. So by the time Logan finally unsheathes his claws, toward the trailer’s end, it’s a jarring tonal break from what seems like a quieter, smaller film. April 28 THE MOVIE Based on Dave Eggers’s novel, “The Circle” follows Mae (Emma Watson) an eager   with a job at the Circle, a Silicon Valley tech behemoth that Mr. Eggers has said is definitely not Google, Apple or Facebook. WHY THE TRAILER IS INTRIGUING It totally makes the movie seem like it’s about Google, Apple or Facebook, at a moment when that couldn’t be more relevant. The film’s first trailer, released in early December, opens with Mae describing the Circle as “the chaos of the web made elegant. ” In the midst of the postelection   over social media and fake news, that characterization certainly stands out. After that, Mae attends a keynote address delivered by a Circle leader, played by Tom Hanks, who stands in front of the company logo and wears a dark sweater that looks like the love child of Mark Zuckerberg’s hoodies and Steve Jobs’s classic turtlenecks. He speaks about the power of technology, luring us in with his “America’s Dad” voice, while Mae and her colleagues attend meetings and take selfies. “Sharing is caring,” they chant emphatically. It’s a sharp contrast from a   discussion about whether that’s actually true. (Oh, hey, don’t forget to share this column on Facebook!) The dark turn is inevitable, even without our current conversation about technology in 2016. So the trailer adds to the drama with a   and   cover of the Hall  Oates song “Private Eyes. ” A voice chants over piano, “They’re watching you,” drawing audiences further in with a foreboding warning about both the story onscreen and what might be happening off. May 12 THE MOVIE Amy Schumer and Goldie Hawn are a   pair who go on vacation in South America and get, uh, snatched. It’s Ms. Schumer’s   to her successful 2015   “Trainwreck,” and Ms. Hawn’s first film appearance in 15 years. WHY THE TRAILER IS INTRIGUING Comedy trailers can be a tough sell. They have to keep us laughing for two minutes while promising there’s enough to keep us laughing for two hours. That requires shoehorning exposition and plot into a tight comedic structure without shortchanging the humor. The “Snatched” trailer, released in December, finds the right balance. It’s certainly  . From the start, it establishes Ms. Schumer’s character in an embarrassing breakup scene that brings her comedy chops to the forefront. Then it zips along to her mother’s home, where Ms. Hawn awkwardly comforts Ms. Schumer with a hug that immediately establishes the uneasiness in their relationship. The trailer ushers them to South America with a quick conversation that further explains who they are: a young woman trying to find herself and a mother mired in routine. As the trailer introduces more plot elements  —   a man, the titular snatching, the escape  —   it keeps the jokes coming with a remarkable narrative economy. Plus, it gives equal time to Ms. Schumer and Ms. Hawn, suggesting both women will be making memorable returns to the big screen.'}},\n",
       "   {'_index': 'aotn_text',\n",
       "    '_type': '_doc',\n",
       "    '_id': '7141',\n",
       "    '_score': 1.0,\n",
       "    '_source': {'id': 25659,\n",
       "     'title': 'Roger Federer Welcomes the End ... Of a Layoff, Not His Career - The New York Times',\n",
       "     'publication': 'New York Times',\n",
       "     'author': 'Christopher Clarey',\n",
       "     'date': '2016-12-30',\n",
       "     'content': 'The Federer family has shared many a road trip, but in this unusually settled period, the patriarch and primary breadwinner has been fielding more and more questions. “The kids were asking, ‘When are we leaving again? ’” Roger Federer said in an extended interview from Dubai on Friday. “Because they were happy to get back on the road. It was like, when are we going the next time to Australia or the next time to New York? And I’ve been saying, ‘Not for a while. ’” But the next family business trip is now fast approaching. Federer is set to return to action next month in Perth, Australia, at the Hopman Cup team event before returning in earnest at the Australian Open in Melbourne. Federer has not played a match since July 8, when he lost in five sets to Milos Raonic in the semifinals at Wimbledon. In the last set, he took an awkward and uncharacteristic tumble on the grass that was too easy to see as a metaphor for the decline of a great, balletic champion. Federer landed on his   left knee, which in February had required him to have surgery for the first time in his career, keeping him out for more than two months. Though he got up slowly at Wimbledon and finished the match, he did not finish the season. He even missed the Summer Olympics in Rio de Janeiro, which had long been one of his major   targets. While his longtime rivals Andy Murray and Novak Djokovic duked it out for the No. 1 ranking and his Swiss countryman Stan Wawrinka won the United States Open, Federer got a taste of retirement with his longest break from the tour since he turned professional in 1998. Now, he will try his hand at a staple of modern tennis: the comeback. And he will do so with a world ranking of No. 16, his lowest since 2001. “It actually felt like I had my first real comeback in April when I came back in Monaco, especially having had surgery, because I never had surgery before,” Federer said. “So that felt like a real comeback to me, but this one feels bigger, obviously, because two months is not like six months. Clearly this comeback is going to have a different place in my career, for sure. ” Federer, 35, has little left to prove. He has already won a record 17 Grand Slam singles titles and 71 lesser titles. He has maintained a standard of excellence for far longer than most tennis champions do. Although he said he had treasured his time away from the tour with his wife, Mirka, and their four young children, he insisted that no consideration had been given to making the break permanent. “Mirka is totally committed, totally happy,” he said. “The kids love it, and I’m still hungry, and now I’m even refreshed and rejuvenated. ” The question of retirement never came up. For Federer, the questions were instead: “Can I still do it? As a player, can my body still do it? Can my mind still do it?” Those are particularly intriguing questions at a moment when so much talent  —   both rising and established  —   seems to be converging in the men’s game. Federer, as much a tennis aficionado as a tennis maestro, is well aware of the story lines. The old guard on the men’s tour remains with Federer and Rafael Nadal, who at age 30 is returning from more injury problems of his own with a new coach in his team: Carlos Moyá. The new wave is full of promise, led by Dominic Thiem, Alexander Zverev and Nick Kyrgios, all of whom have already beaten Federer. There are also many established stars in their primes: from Raonic, Kei Nishikori and Juan Martín del Potro to the multiple Grand Slam champions Wawrinka, Murray and Djokovic. Federer, even in absentia, said he had kept checking the scores on his phone as Murray dueled with Djokovic down the stretch in November to secure the   No. 1 ranking. “I was very surprised just because when a guy starts a season the way Novak does, achieves his dream by winning the French and his fourth Slam in a row, of course there’s no way in the world that anybody, even the players, start thinking another guy could actually finish No. 1,” Federer said. “Novak, let’s be honest, actually didn’t play too bad in the second half. He won Toronto. He played finals in many other tournaments: U. S. Open, the World Tour Finals. You would think that that’s going to be enough, but what it required was something extraordinary, and Murray was able to deliver that, and that’s where I take my hat off. ” Federer did not experience a letdown in 2009 after winning the French Open, the only major singles title he had lacked. But he said he could certainly comprehend the perils of Djokovic’s emotional journey in 2016. “Maybe it’s only human and understandable that Novak had a letdown, because he achieved everything he wanted to,” Federer said. “You have to maybe reinvent yourself or whatever you have to do. But it’s nice to see that maybe it doesn’t always come so easy for everybody for so long. “And I think it actually creates a great story for next year. Andy’s a great story. Novak’s a great story. Rafa, obviously, is always going to be a good story. Me coming back is hopefully going to be a nice story to follow, too. I think the beginning of the year, especially the Australian summer, is going to be epic. ” Federer said his decision to end his season after Wimbledon had been made out of a desire to get the most out of what remains of his career. “Maybe I could have, should have taken more time after the Australian Open once I had surgery,” he said. “Possibly, but I was well. I was training full on in Dubai. ” After withdrawing from the French Open, ending his consecutive streak of Grand Slam appearances at 65, Federer came back for the   season and Wimbledon knowing his knee was not quite right. “I don’t think it cost me the rest of the season by playing on the grass,” he said. “I just think the knee and the body needed a break, and taking six months off, I could take the time the body and knee required to heal. Now I can look back and say: ‘Look, if now it doesn’t go well, I did everything I possibly could. There are no regrets. ’” He said he had taken a particularly conservative approach this time around. “Especially the first three months, I was working out maybe one hour a day,” he said. When he did turn up the intensity with his longtime fitness coach Pierre Paganini, Federer said, he often avoided training on consecutive days. He started playing points again in early October, but he said he had not resumed full   sessions until late November after he left Switzerland for Dubai, his usual   training base. He has been practicing there frequently with the rising Frenchman Lucas Pouille, and on Thursday Federer planned to broadcast their practice session live on Periscope to give his fans an update on his progress. “I just felt I needed to start filling in people on how I’m doing as we get closer to the beginning of the season,” he said. The real test of how he is playing will have to wait for Australia, where his   preview of life without the tennis circuit will officially come to an end. “I did get that taste of retirement,” Federer said. “All of the sudden, I could be organized and say: ‘O. K. we’re going to be four weeks at home in a row in the same place. Who do you want to go for dinner with, Mirka? Or who shall we catch up with?” Federer enjoyed having that time with his family and the predictability of being in one place for more than a week at a time. Fortunately, he said, his knee held up, and he was able to make the most of it. “I think that was really exciting and good for us to have that time,” he said. “And it felt good, you know? It did feel good, but it can totally wait. No problem for me. It can totally wait. ”'}},\n",
       "   {'_index': 'aotn_text',\n",
       "    '_type': '_doc',\n",
       "    '_id': '7891',\n",
       "    '_score': 1.0,\n",
       "    '_source': {'id': 26627,\n",
       "     'title': 'Kellyanne Conway: Obama’s Russia Sanctions Meant to ’Box In’ Donald Trump - Breitbart',\n",
       "     'publication': 'Breitbart',\n",
       "     'author': 'Warner Todd Huston',\n",
       "     'date': '2016-12-30',\n",
       "     'content': 'In comments on CNN, Trump spokesperson Kellyanne Conway said that the Obama administration’s new moves against Russia are likely designed to “box in”   Donald Trump before he even takes office. [Conway appeared on CNN’s Anderson Cooper 360 on December 30 and noted that accusations that Russia hacked the 2016 election are rising to a “fever pitch” since Donald J. Trump won the White House. She also pointed out that Obama seems to have motives other than serious foreign policy behind his moves.  Kellyanne Conway wonders if Russian sanctions were intended to restrict Trump https:  .  https:  .   —   Anderson Cooper 360° (@AC360) December 30, 2016,  “Even those who are sympathetic to President Obama on most issues are saying that part of the reason he did this today was to quote, ‘box in’   Trump,” Conway said. Conway did not outright accuse the President of acting in bad faith. “I was quoting David Sanger’s piece in The New York Times,” Conway insisted. “I am merely saying that if The New York Times’ report is true and credible, that that would be very unfortunate if politics were the motivating factor here, but we can’t help but think that that’s often true. ” The incoming President’s adviser also pointed out that Trump is “not in favor of foreign governments interfering in our elections or interfering in our intelligence, but we’re also not in favor of our intelligence interfering with elections after the fact. ” Earlier that Friday, President Obama took the unusual action of ejecting dozens of Russian diplomats from the country as he ramped up his response to his charge that Russian hackers interfered in the November elections. Despite Obama’s constant claim, however, no actual proof has been forthcoming that Russia hacked our elections. In response to Obama’s ouster of 35 Russian officials, Russian strongman Vladimir Putin dismissed Obama’s actions and did not retaliate in kind as he has in the past. “Reserving the right to retaliate, we will not resort to the level of irresponsible ‘kitchen’ diplomacy,” Putin said in a Friday statement, calling it “regrettable” that Obama was choosing to end his administration with such a provocative action. Follow Warner Todd Huston on Twitter @warnerthuston or email the author at igcolonel@hotmail. com.'}},\n",
       "   {'_index': 'aotn_text',\n",
       "    '_type': '_doc',\n",
       "    '_id': '8160',\n",
       "    '_score': 1.0,\n",
       "    '_source': {'id': 26896,\n",
       "     'title': 'Mormon Tabernacle Choir Singer Quits over Trump Inauguration',\n",
       "     'publication': 'Breitbart',\n",
       "     'author': 'Daniel Nussbaum',\n",
       "     'date': '2016-12-30',\n",
       "     'content': 'A member of the Mormon Tabernacle Choir has quit the esteemed singing company over its scheduled performance at   Donald Trump’s inauguration in Washington DC in January. [In a resignation letter sent to fellow choir members and later posted on Facebook, singer Jan Chamberlin said she’d spent “several sleepless nights and days in turmoil and agony” since the choir announced it would perform at the inauguration, and that she could not “in good conscience” join her colleagues at the event.  “I have highly valued the mission of the Choir to be   will ambassadors for Christ, to share beautiful music and to give hope, inspiration, and comfort to others,” Chamberlin wrote. “I’ve tried to tell myself that it will be alright and that I can continue in good conscience before God and man. ” “But it’s no use,” she added. “I simply cannot continue with the recent turn of events. I could never look myself in the mirror again with self respect. ” The Mormon Tabernacle Choir  —   dubbed “America’s Choir” by President Ronald Reagan at his inauguration in 1981  —   has performed at the inaugurations of numerous presidents throughout history, including those for Lyndon B. Johnson, Reagan, George Bush and George W. Bush. But since the announcement that it would perform at Trump’s inauguration, the choir has been the subject of a petition seeking to persuade the group to cancel its performance that has since gathered thousands of signatures. “As members and friends of The Church of Jesus Christ of   Saints, we strongly urge the Church to stop this practice and especially for an incoming president who has demonstrated sexist, racist, misogynistic, and xenophobic behavior that does not align with the principles and teachings of The Church of Jesus Christ of   Saints,” the petition, which has garnered more than 23, 000 signatures, states. In her resignation letter, Chamberlin wrote that by preforming for Trump’s inauguration, it would appear to those outside the choir that the group is “endorsing tyranny and fascism. ” “And Choir’s wonderful image and networking will be severely damaged and that many good people throughout this land and throughout the world already do and will continue to feel betrayed,” she wrote. “I believe hereafter our message will not be believed by many that have loved us and adored what we have stood for. ” The Mormon Tabernacle Choir will join the Radio City Rockettes at the inauguration, while teenage opera singer Jackie Evancho is slated to perform the National Anthem.   Follow Daniel Nussbaum on Twitter: @dznussbaum'}}]}}"
      ]
     },
     "execution_count": 33,
     "metadata": {},
     "output_type": "execute_result"
    }
   ],
   "source": [
    "start = time.time()\n",
    "\n",
    "# Defining Brexit search query \n",
    "search_object = {'query': {'match': {'date': '2016-12-30'}}}\n",
    "\n",
    "# Applying query term to news corpus indexed on ES\n",
    "sch_obj = es.search(index=\"aotn_text\", body=search_object) #Increase returns with size parameter, default 10\n",
    "\n",
    "print(time.time()-start)\n",
    "sch_obj"
   ]
  },
  {
   "cell_type": "code",
   "execution_count": null,
   "metadata": {},
   "outputs": [],
   "source": [
    "# Grabbing the list containing queries \n",
    "hits = sch_obj['hits']['hits']\n",
    "\n",
    "# Sample query text\n",
    "hits[0]['_source']['text']"
   ]
  },
  {
   "cell_type": "code",
   "execution_count": null,
   "metadata": {},
   "outputs": [],
   "source": [
    "hit_text = []\n",
    "\n",
    "# Iterate through list and extract text\n",
    "for hit in hits:\n",
    "    hit_text.append(hit['_source']['text'])\n",
    "    \n",
    "len(hit_text)"
   ]
  },
  {
   "cell_type": "markdown",
   "metadata": {},
   "source": [
    "### Performing Sentiment Analysis"
   ]
  },
  {
   "cell_type": "code",
   "execution_count": null,
   "metadata": {},
   "outputs": [],
   "source": [
    "from vaderSentiment.vaderSentiment import SentimentIntensityAnalyzer \n",
    "\n",
    "# Initialize Vader analyser\n",
    "analyser = SentimentIntensityAnalyzer()\n",
    "\n",
    "sentiment= []\n",
    "\n",
    "# Perform sentiment analysis on every text result and append to new list\n",
    "for number, i in enumerate(hit_text):\n",
    "    sentiment.append((number, analyser.polarity_scores(i)))"
   ]
  },
  {
   "cell_type": "code",
   "execution_count": null,
   "metadata": {
    "scrolled": true
   },
   "outputs": [],
   "source": [
    "hit_text[0]"
   ]
  },
  {
   "cell_type": "code",
   "execution_count": null,
   "metadata": {},
   "outputs": [],
   "source": [
    "sentiment[0]"
   ]
  },
  {
   "cell_type": "code",
   "execution_count": null,
   "metadata": {},
   "outputs": [],
   "source": [
    "hit_text[9]"
   ]
  },
  {
   "cell_type": "code",
   "execution_count": null,
   "metadata": {},
   "outputs": [],
   "source": [
    "sentiment[9]"
   ]
  },
  {
   "cell_type": "code",
   "execution_count": null,
   "metadata": {},
   "outputs": [],
   "source": [
    "snippet = ' It amounts, instead, to a deliberate and cynical failure to implement the 2016 referendum result.'\n",
    "analyser.polarity_scores(snippet)"
   ]
  }
 ],
 "metadata": {
  "kernelspec": {
   "display_name": "Python 3",
   "language": "python",
   "name": "python3"
  },
  "language_info": {
   "codemirror_mode": {
    "name": "ipython",
    "version": 3
   },
   "file_extension": ".py",
   "mimetype": "text/x-python",
   "name": "python",
   "nbconvert_exporter": "python",
   "pygments_lexer": "ipython3",
   "version": "3.6.5"
  }
 },
 "nbformat": 4,
 "nbformat_minor": 2
}
